{
  "cells": [
    {
      "cell_type": "markdown",
      "metadata": {
        "id": "view-in-github",
        "colab_type": "text"
      },
      "source": [
        "<a href=\"https://colab.research.google.com/github/insaiyancvk/Mad-Artist/blob/main/Style_Transfer_narutal_landscape.ipynb\" target=\"_parent\"><img src=\"https://colab.research.google.com/assets/colab-badge.svg\" alt=\"Open In Colab\"/></a>"
      ]
    },
    {
      "cell_type": "markdown",
      "metadata": {
        "id": "T-7XMij_djLM"
      },
      "source": [
        "## Pre requisites"
      ],
      "id": "T-7XMij_djLM"
    },
    {
      "cell_type": "code",
      "execution_count": 5,
      "metadata": {
        "id": "v_nBeKora5j5"
      },
      "outputs": [],
      "source": [
        "import os"
      ],
      "id": "v_nBeKora5j5"
    },
    {
      "cell_type": "code",
      "execution_count": 6,
      "metadata": {
        "id": "VHh3pBzghhQQ"
      },
      "outputs": [],
      "source": [
        "if 'drive' not in os.listdir():\n",
        "  from google.colab import drive\n",
        "  drive.mount('/content/drive')"
      ],
      "id": "VHh3pBzghhQQ"
    },
    {
      "cell_type": "code",
      "execution_count": 7,
      "metadata": {
        "id": "UfCcg0Q9hF3f"
      },
      "outputs": [],
      "source": [
        "import torch, torchvision, imageio, re, cv2\n",
        "from torch import nn\n",
        "from tqdm.notebook import tqdm\n",
        "import numpy as np"
      ],
      "id": "UfCcg0Q9hF3f"
    },
    {
      "cell_type": "code",
      "execution_count": 15,
      "metadata": {
        "id": "TNCYio-5fWmG"
      },
      "outputs": [],
      "source": [
        "# !pip install -q d2l matplotlib_inline\n",
        "try:\n",
        "  from d2l import torch as d2l\n",
        "except ModuleNotFoundError:\n",
        "  !pip install -q d2l matplotlib_inline\n",
        "  \n",
        "  %matplotlib inline\n",
        "  from d2l import torch as d2l\n",
        "  d2l.set_figsize()\n",
        "\n",
        "from PIL import Image\n",
        "import matplotlib.pyplot as plt"
      ],
      "id": "TNCYio-5fWmG"
    },
    {
      "cell_type": "code",
      "execution_count": 9,
      "metadata": {
        "id": "Kno0TfCjnrqH"
      },
      "outputs": [],
      "source": [
        "import matplotlib"
      ],
      "id": "Kno0TfCjnrqH"
    },
    {
      "cell_type": "code",
      "execution_count": 10,
      "metadata": {
        "colab": {
          "base_uri": "https://localhost:8080/"
        },
        "id": "mlukV5BfRrrQ",
        "outputId": "e5cae317-7d99-431d-c9d5-c8ddfae3f809"
      },
      "outputs": [
        {
          "output_type": "stream",
          "name": "stdout",
          "text": [
            "GPU 0: Tesla T4 (UUID: GPU-a88e989b-f6dd-ecb4-7a37-63c50b40aad6)\n"
          ]
        }
      ],
      "source": [
        "!nvidia-smi -L"
      ],
      "id": "mlukV5BfRrrQ"
    },
    {
      "cell_type": "code",
      "execution_count": 11,
      "metadata": {
        "colab": {
          "base_uri": "https://localhost:8080/"
        },
        "id": "3AC80M2jkaS9",
        "outputId": "07f14896-f9b0-4071-9bb5-2cf4511637f1"
      },
      "outputs": [
        {
          "output_type": "stream",
          "name": "stdout",
          "text": [
            "mv: cannot stat 'the-starry-night-over-the-rhone.jpg': No such file or directory\n"
          ]
        }
      ],
      "source": [
        "!mv the-starry-night-over-the-rhone.jpg starry-style.jpg"
      ],
      "id": "3AC80M2jkaS9"
    },
    {
      "cell_type": "code",
      "execution_count": 12,
      "metadata": {
        "id": "9MpkypgNtk8Z"
      },
      "outputs": [],
      "source": [
        "WORKSPACE = {\n",
        "    'style_root': '/content/drive/MyDrive/Style Transfer/bit less layers',\n",
        "    'train_res': '/content/drive/MyDrive/Style Transfer/bit less layers/train_res'\n",
        "    }"
      ],
      "id": "9MpkypgNtk8Z"
    },
    {
      "cell_type": "code",
      "execution_count": 13,
      "metadata": {
        "colab": {
          "base_uri": "https://localhost:8080/"
        },
        "id": "K1G2rUkeuEr1",
        "outputId": "31a45398-b09f-4547-c259-e67d5717f202"
      },
      "outputs": [
        {
          "output_type": "stream",
          "name": "stdout",
          "text": [
            "/content/drive/MyDrive/Style Transfer/bit less layers exists\n",
            "/content/drive/MyDrive/Style Transfer/bit less layers/train_res exists\n"
          ]
        }
      ],
      "source": [
        "for key, value in WORKSPACE.items():\n",
        "  if os.path.isdir(value):\n",
        "    print(f\"{value} exists\")\n",
        "  else:\n",
        "    print(f\"{value} doesn't exist. Creating one\")\n",
        "    os.mkdir(value)"
      ],
      "id": "K1G2rUkeuEr1"
    },
    {
      "cell_type": "markdown",
      "metadata": {
        "id": "Ap_2yPQj2x8R"
      },
      "source": [
        "## Check style and content images"
      ],
      "id": "Ap_2yPQj2x8R"
    },
    {
      "cell_type": "code",
      "execution_count": 16,
      "metadata": {
        "id": "N8jEqdM6zRCu"
      },
      "outputs": [],
      "source": [
        "content_img = Image.open('/content/content.jpg')"
      ],
      "id": "N8jEqdM6zRCu"
    },
    {
      "cell_type": "code",
      "execution_count": null,
      "metadata": {
        "id": "2JidW9hRU5x2"
      },
      "outputs": [],
      "source": [
        "content_img"
      ],
      "id": "2JidW9hRU5x2"
    },
    {
      "cell_type": "code",
      "execution_count": 17,
      "metadata": {
        "id": "ZvVGpAfV0zRK"
      },
      "outputs": [],
      "source": [
        "style_img = Image.open('/content/natural style image.jpg')"
      ],
      "id": "ZvVGpAfV0zRK"
    },
    {
      "cell_type": "code",
      "execution_count": null,
      "metadata": {
        "id": "RQonLkmCU_b3"
      },
      "outputs": [],
      "source": [
        "style_img"
      ],
      "id": "RQonLkmCU_b3"
    },
    {
      "cell_type": "markdown",
      "metadata": {
        "id": "EUzFgPsv22w4"
      },
      "source": [
        "## Preprocess and postprocess stuff"
      ],
      "id": "EUzFgPsv22w4"
    },
    {
      "cell_type": "code",
      "execution_count": 18,
      "metadata": {
        "id": "57txgqEZ1fKs"
      },
      "outputs": [],
      "source": [
        "rgb_mean = torch.tensor([0.485, 0.456, 0.406])\n",
        "rgb_std = torch.tensor([0.229, 0.224, 0.225])\n",
        "\n",
        "def preprocess(img, image_shape):\n",
        "  transforms = torchvision.transforms.Compose([\n",
        "                      torchvision.transforms.Resize(image_shape),\n",
        "                      torchvision.transforms.ToTensor(),\n",
        "                      torchvision.transforms.Normalize(mean = rgb_mean, std=rgb_std)])\n",
        "  return transforms(img).unsqueeze(0)\n",
        "\n",
        "def postprocess(img):\n",
        "  img = img[0].to(rgb_std.device)\n",
        "  img = torch.clamp(img.permute(1,2,0)* rgb_std + rgb_mean, 0, 1)\n",
        "  return torchvision.transforms.ToPILImage()(img.permute(2,0,1))"
      ],
      "id": "57txgqEZ1fKs"
    },
    {
      "cell_type": "markdown",
      "metadata": {
        "id": "hQFewHbT2jdx"
      },
      "source": [
        "## Feature extraction using VGG-19"
      ],
      "id": "hQFewHbT2jdx"
    },
    {
      "cell_type": "code",
      "execution_count": 19,
      "metadata": {
        "colab": {
          "base_uri": "https://localhost:8080/"
        },
        "id": "d4fSwfbv27T5",
        "outputId": "84274153-eb54-4a02-9ae5-a9344069ed56"
      },
      "outputs": [
        {
          "output_type": "stream",
          "name": "stderr",
          "text": [
            "/usr/local/lib/python3.7/dist-packages/torchvision/models/_utils.py:209: UserWarning: The parameter 'pretrained' is deprecated since 0.13 and will be removed in 0.15, please use 'weights' instead.\n",
            "  f\"The parameter '{pretrained_param}' is deprecated since 0.13 and will be removed in 0.15, \"\n",
            "/usr/local/lib/python3.7/dist-packages/torchvision/models/_utils.py:223: UserWarning: Arguments other than a weight enum or `None` for 'weights' are deprecated since 0.13 and will be removed in 0.15. The current behavior is equivalent to passing `weights=VGG19_Weights.IMAGENET1K_V1`. You can also use `weights=VGG19_Weights.DEFAULT` to get the most up-to-date weights.\n",
            "  warnings.warn(msg)\n"
          ]
        }
      ],
      "source": [
        "pretrained_net = torchvision.models.vgg19(pretrained=True)"
      ],
      "id": "d4fSwfbv27T5"
    },
    {
      "cell_type": "code",
      "execution_count": 20,
      "metadata": {
        "id": "-A8hdS1iVk_E"
      },
      "outputs": [],
      "source": [
        "# pretrained_net"
      ],
      "id": "-A8hdS1iVk_E"
    },
    {
      "cell_type": "code",
      "execution_count": 21,
      "metadata": {
        "id": "9GJ7rlj43Gpx"
      },
      "outputs": [],
      "source": [
        "style_layers, content_layers = [5, 10, 19], [28, 30, 32]"
      ],
      "id": "9GJ7rlj43Gpx"
    },
    {
      "cell_type": "code",
      "execution_count": 22,
      "metadata": {
        "id": "e-V1gAhaHjMF"
      },
      "outputs": [],
      "source": [
        "net = nn.Sequential(\n",
        "    *[pretrained_net.features[i] \n",
        "      for i in range(max(content_layers+style_layers) + 1)]\n",
        "    )"
      ],
      "id": "e-V1gAhaHjMF"
    },
    {
      "cell_type": "code",
      "execution_count": 23,
      "metadata": {
        "id": "f9m6PcI9JsVj"
      },
      "outputs": [],
      "source": [
        "def extract_features(X, content_layers, style_layers):\n",
        "  contents = []\n",
        "  styles = []\n",
        "\n",
        "  # extracting and storing output of each layer (like Conv2d, ReLU, MaxPool2d)\n",
        "  for i in range(len(net)):\n",
        "    X = net[i](X)\n",
        "\n",
        "    # Check if the particular layer of the neural network belongs to style or content layer\n",
        "    if i in style_layers:\n",
        "      styles.append(X)\n",
        "    if i in content_layers:\n",
        "      contents.append(X)\n",
        "  return contents, styles"
      ],
      "id": "f9m6PcI9JsVj"
    },
    {
      "cell_type": "code",
      "execution_count": 24,
      "metadata": {
        "id": "ziSks4EtL7J2"
      },
      "outputs": [],
      "source": [
        "def get_contents(image_shape, device):\n",
        "  content_X = preprocess(content_img, image_shape).to(device)\n",
        "  contents_Y, _ = extract_features(content_X, content_layers, style_layers)\n",
        "  return content_X, contents_Y\n",
        "\n",
        "def get_styles(image_shape, device):\n",
        "  style_X = preprocess(style_img, image_shape).to(device)\n",
        "  _, styles_Y = extract_features(style_X, content_layers, style_layers)\n",
        "  return style_X, styles_Y"
      ],
      "id": "ziSks4EtL7J2"
    },
    {
      "cell_type": "markdown",
      "metadata": {
        "id": "ZsG6gbyoSO9r"
      },
      "source": [
        "## Define Loss function"
      ],
      "id": "ZsG6gbyoSO9r"
    },
    {
      "cell_type": "code",
      "execution_count": 25,
      "metadata": {
        "id": "a41ZVsGIR07X"
      },
      "outputs": [],
      "source": [
        "def content_loss(Y_hat, Y):\n",
        "  return torch.square(Y_hat - Y.detach()).mean()"
      ],
      "id": "a41ZVsGIR07X"
    },
    {
      "cell_type": "code",
      "execution_count": 26,
      "metadata": {
        "id": "vlKieYVEScbn"
      },
      "outputs": [],
      "source": [
        "def gram(X):\n",
        "    num_channels, n = X.shape[1], X.numel() // X.shape[1]\n",
        "    X = X.reshape((num_channels, n))\n",
        "    return torch.matmul(X, X.T) / (num_channels * n)"
      ],
      "id": "vlKieYVEScbn"
    },
    {
      "cell_type": "code",
      "execution_count": 27,
      "metadata": {
        "id": "nKIyWzcrW5pB"
      },
      "outputs": [],
      "source": [
        "def style_loss(Y_hat, gram_Y):\n",
        "  return torch.square(gram(Y_hat) - gram_Y.detach()).mean()"
      ],
      "id": "nKIyWzcrW5pB"
    },
    {
      "cell_type": "code",
      "execution_count": 28,
      "metadata": {
        "id": "hF26XxbqXPxv"
      },
      "outputs": [],
      "source": [
        "def tv_loss(Y_hat):\n",
        "  return 0.5 * (torch.abs(Y_hat[:, :, 1:, :] - Y_hat[:, :, :-1, :]).mean() +\n",
        "                torch.abs(Y_hat[:, :, :, 1:] - Y_hat[:, :, :, :-1]).mean())"
      ],
      "id": "hF26XxbqXPxv"
    },
    {
      "cell_type": "code",
      "execution_count": 29,
      "metadata": {
        "id": "VSoVSHpmXqy0"
      },
      "outputs": [],
      "source": [
        "content_weight, style_weight, tv_weight = 1, 1e3, 1\n",
        "\n",
        "def compute_loss(X, contents_Y_hat, styles_Y_hat, contents_Y, styles_Y_gram):\n",
        "  # Calculate the content, style, and total variance losses respectively\n",
        "  contents_l = [content_loss(Y_hat, Y) * content_weight for Y_hat, Y in zip(contents_Y_hat, contents_Y)]\n",
        "  styles_l = [style_loss(Y_hat, Y) * style_weight for Y_hat, Y in zip(styles_Y_hat, styles_Y_gram)]\n",
        "  tv_l = tv_loss(X) * tv_weight\n",
        "  # Add up all the losses\n",
        "  # print(tv_l, type(tv_l))\n",
        "\n",
        "  # l = sum(10* styles_l + contents_l, tv_l.tolist())\n",
        "  l = sum(styles_l + contents_l, tv_l.tolist())\n",
        "  return contents_l, styles_l, tv_l, l"
      ],
      "id": "VSoVSHpmXqy0"
    },
    {
      "cell_type": "code",
      "execution_count": 30,
      "metadata": {
        "id": "GE4-kI2BYaWy"
      },
      "outputs": [],
      "source": [
        "class SynthesizedImage(nn.Module):\n",
        "  def __init__(self, img_shape, **kwargs):\n",
        "    super(SynthesizedImage, self).__init__(**kwargs)\n",
        "    self.weight = nn.Parameter(torch.rand(*img_shape))\n",
        "\n",
        "  def forward(self):\n",
        "    return self.weight"
      ],
      "id": "GE4-kI2BYaWy"
    },
    {
      "cell_type": "code",
      "execution_count": 31,
      "metadata": {
        "id": "jt1h0I7pal0R"
      },
      "outputs": [],
      "source": [
        "def get_inits(X, device, lr, styles_Y):\n",
        "    gen_img = SynthesizedImage(X.shape).to(device)\n",
        "    gen_img.weight.data.copy_(X.data)\n",
        "    trainer = torch.optim.Adam(gen_img.parameters(), lr=lr)\n",
        "    styles_Y_gram = [gram(Y) for Y in styles_Y]\n",
        "    return gen_img(), styles_Y_gram, trainer"
      ],
      "id": "jt1h0I7pal0R"
    },
    {
      "cell_type": "code",
      "execution_count": 32,
      "metadata": {
        "id": "RS3xyHw7hpIP"
      },
      "outputs": [],
      "source": [
        "try:\n",
        "  os.mkdir('imgs')\n",
        "except FileExistsError:\n",
        "  pass"
      ],
      "id": "RS3xyHw7hpIP"
    },
    {
      "cell_type": "code",
      "execution_count": 33,
      "metadata": {
        "id": "14Rp93zObJ2j"
      },
      "outputs": [],
      "source": [
        "def train(X, contents_Y, styles_Y, device, lr, num_epochs, lr_decay_epoch=0.1):\n",
        "    \n",
        "    X, styles_Y_gram, trainer = get_inits(X, device, lr, styles_Y)\n",
        "    \n",
        "    scheduler = torch.optim.lr_scheduler.StepLR(trainer, lr_decay_epoch, 0.8)\n",
        "    \n",
        "    animator = d2l.Animator(xlabel='epoch', ylabel='loss',\n",
        "                            xlim=[10, num_epochs],\n",
        "                            legend=['content', 'style', 'TV'],\n",
        "                            ncols=2, figsize=(7, 2.5))\n",
        "    \n",
        "    for epoch in tqdm(range(num_epochs+1)):\n",
        "        trainer.zero_grad()\n",
        "\n",
        "        contents_Y_hat, styles_Y_hat = extract_features(X, content_layers, style_layers)\n",
        "        contents_l, styles_l, tv_l, l = compute_loss(X, contents_Y_hat, styles_Y_hat, contents_Y, styles_Y_gram)\n",
        "\n",
        "        l.backward()\n",
        "        trainer.step()\n",
        "        scheduler.step()\n",
        "\n",
        "        if (epoch + 1) % 100 == 0:\n",
        "            # plt.imsave('kimino{}.jpg'.format(epoch), postprocess(X))\n",
        "            print(f\"{epoch+1}/{num_epochs}\")\n",
        "            animator.axes[1].imshow(postprocess(X))\n",
        "            # plt.imshow(postprocess(X))\n",
        "            # plt.show()\n",
        "            animator.add(epoch + 1, [float(sum(contents_l)),\n",
        "                                    float(sum(styles_l)), float(tv_l)])\n",
        "        elif epoch % 10 == 0:\n",
        "          postprocess(X).save(f'imgs/bigboy_landscape_morelayers{epoch}.jpg')\n",
        "          \n",
        "    return X"
      ],
      "id": "14Rp93zObJ2j"
    },
    {
      "cell_type": "markdown",
      "metadata": {
        "id": "zzzD_nwIddma"
      },
      "source": [
        "## Optimize image"
      ],
      "id": "zzzD_nwIddma"
    },
    {
      "cell_type": "code",
      "execution_count": null,
      "metadata": {
        "id": "ezXKJcuE5CWk"
      },
      "outputs": [],
      "source": [
        "#@title\n",
        "# torch.cuda.empty_cache()\n",
        "!nvidia-smi\n",
        "# !kill "
      ],
      "id": "ezXKJcuE5CWk"
    },
    {
      "cell_type": "code",
      "execution_count": null,
      "metadata": {
        "id": "31ri8p6mYSgz"
      },
      "outputs": [],
      "source": [
        "# free GPU memory\n",
        "# import gc\n",
        "# gc.collect()\n",
        "# torch.cuda.empty_cache()"
      ],
      "id": "31ri8p6mYSgz"
    },
    {
      "cell_type": "code",
      "execution_count": null,
      "metadata": {
        "id": "WHQZwdyOY3w7"
      },
      "outputs": [],
      "source": [
        "# !pip uninstall matplotlib -y\n",
        "# !pip install matplotlib"
      ],
      "id": "WHQZwdyOY3w7"
    },
    {
      "cell_type": "markdown",
      "metadata": {
        "id": "yutrhON3Z09a"
      },
      "source": [
        "## TODO:\n",
        "- make the training pausable/resumable (save/load weights)\n",
        "- plot graphs and graph image just with matplotlib\n",
        "- save the generated image when it hits least loss (content and style seperately)"
      ],
      "id": "yutrhON3Z09a"
    },
    {
      "cell_type": "code",
      "execution_count": 34,
      "metadata": {
        "colab": {
          "base_uri": "https://localhost:8080/"
        },
        "id": "hLp7DCUqee-0",
        "outputId": "89bd686b-be12-474b-b704-02e927e8baac"
      },
      "outputs": [
        {
          "output_type": "stream",
          "name": "stdout",
          "text": [
            "Using cuda:0\n"
          ]
        }
      ],
      "source": [
        "device, image_shape = d2l.try_gpu(), (1080, 1920) # (240, 426) # (960, 540)  (300, 450)\n",
        "print(f\"Using {device}\")\n",
        "net = net.to(device)"
      ],
      "id": "hLp7DCUqee-0"
    },
    {
      "cell_type": "code",
      "source": [
        "content_X, contents_Y = get_contents(image_shape, device)"
      ],
      "metadata": {
        "id": "wi__pbIeBiRq"
      },
      "id": "wi__pbIeBiRq",
      "execution_count": 35,
      "outputs": []
    },
    {
      "cell_type": "code",
      "source": [
        "_, styles_Y = get_styles(image_shape, device)"
      ],
      "metadata": {
        "id": "xZT4fOhCBjoZ"
      },
      "id": "xZT4fOhCBjoZ",
      "execution_count": 36,
      "outputs": []
    },
    {
      "cell_type": "code",
      "source": [
        "output = train(content_X, contents_Y, styles_Y, device, 0.09, 5000)"
      ],
      "metadata": {
        "colab": {
          "base_uri": "https://localhost:8080/",
          "height": 262,
          "referenced_widgets": [
            "26ede71a464349a083fc9641908b24bb",
            "b0f18898f4b045a38d176b53255e3363",
            "54cbd5c64222455bbd6fab770c7ec5d0",
            "8e535c796a994e9990c83402fad32eae",
            "67c03f9baa9346e384c0e7aa1b99127b",
            "f98deedae81e486eb2addbe65bee1fdb",
            "956b2e10bd0744ff866c0d2e243a488c",
            "06e478356a184c0e90b76533226b7726",
            "c4d61742891e4e0986b0fb2a8201027e",
            "5a9f9251aa524b0a8cf57bc24d7c60cb",
            "6188c5c5296a417ba81881439666d89f"
          ]
        },
        "id": "bIKoyMTfBk_X",
        "outputId": "9a4704e3-b664-4f90-98ed-1612296cd5ec"
      },
      "id": "bIKoyMTfBk_X",
      "execution_count": 37,
      "outputs": [
        {
          "output_type": "display_data",
          "data": {
            "text/plain": [
              "<Figure size 504x180 with 2 Axes>"
            ],
            "image/svg+xml": "<?xml version=\"1.0\" encoding=\"utf-8\" standalone=\"no\"?>\n<!DOCTYPE svg PUBLIC \"-//W3C//DTD SVG 1.1//EN\"\n  \"http://www.w3.org/Graphics/SVG/1.1/DTD/svg11.dtd\">\n<svg xmlns:xlink=\"http://www.w3.org/1999/xlink\" width=\"441.58125pt\" height=\"180.65625pt\" viewBox=\"0 0 441.58125 180.65625\" xmlns=\"http://www.w3.org/2000/svg\" version=\"1.1\">\n <metadata>\n  <rdf:RDF xmlns:dc=\"http://purl.org/dc/elements/1.1/\" xmlns:cc=\"http://creativecommons.org/ns#\" xmlns:rdf=\"http://www.w3.org/1999/02/22-rdf-syntax-ns#\">\n   <cc:Work>\n    <dc:type rdf:resource=\"http://purl.org/dc/dcmitype/StillImage\"/>\n    <dc:date>2022-08-18T14:17:02.087275</dc:date>\n    <dc:format>image/svg+xml</dc:format>\n    <dc:creator>\n     <cc:Agent>\n      <dc:title>Matplotlib v3.5.3, https://matplotlib.org/</dc:title>\n     </cc:Agent>\n    </dc:creator>\n   </cc:Work>\n  </rdf:RDF>\n </metadata>\n <defs>\n  <style type=\"text/css\">*{stroke-linejoin: round; stroke-linecap: butt}</style>\n </defs>\n <g id=\"figure_1\">\n  <g id=\"patch_1\">\n   <path d=\"M 0 180.65625 \nL 441.58125 180.65625 \nL 441.58125 0 \nL 0 0 \nL 0 180.65625 \nz\n\" style=\"fill: none\"/>\n  </g>\n  <g id=\"axes_1\">\n   <g id=\"patch_2\">\n    <path d=\"M 43.78125 143.1 \nL 221.326705 143.1 \nL 221.326705 7.2 \nL 43.78125 7.2 \nz\n\" style=\"fill: #ffffff\"/>\n   </g>\n   <g id=\"matplotlib.axis_1\">\n    <g id=\"xtick_1\">\n     <g id=\"line2d_1\">\n      <path d=\"M 79.005699 143.1 \nL 79.005699 7.2 \n\" clip-path=\"url(#ped2db190b1)\" style=\"fill: none; stroke: #b0b0b0; stroke-width: 0.8; stroke-linecap: square\"/>\n     </g>\n     <g id=\"line2d_2\">\n      <defs>\n       <path id=\"mf05f1e3f17\" d=\"M 0 0 \nL 0 3.5 \n\" style=\"stroke: #000000; stroke-width: 0.8\"/>\n      </defs>\n      <g>\n       <use xlink:href=\"#mf05f1e3f17\" x=\"79.005699\" y=\"143.1\" style=\"stroke: #000000; stroke-width: 0.8\"/>\n      </g>\n     </g>\n     <g id=\"text_1\">\n      <!-- 1000 -->\n      <g transform=\"translate(66.280699 157.698438)scale(0.1 -0.1)\">\n       <defs>\n        <path id=\"DejaVuSans-31\" d=\"M 794 531 \nL 1825 531 \nL 1825 4091 \nL 703 3866 \nL 703 4441 \nL 1819 4666 \nL 2450 4666 \nL 2450 531 \nL 3481 531 \nL 3481 0 \nL 794 0 \nL 794 531 \nz\n\" transform=\"scale(0.015625)\"/>\n        <path id=\"DejaVuSans-30\" d=\"M 2034 4250 \nQ 1547 4250 1301 3770 \nQ 1056 3291 1056 2328 \nQ 1056 1369 1301 889 \nQ 1547 409 2034 409 \nQ 2525 409 2770 889 \nQ 3016 1369 3016 2328 \nQ 3016 3291 2770 3770 \nQ 2525 4250 2034 4250 \nz\nM 2034 4750 \nQ 2819 4750 3233 4129 \nQ 3647 3509 3647 2328 \nQ 3647 1150 3233 529 \nQ 2819 -91 2034 -91 \nQ 1250 -91 836 529 \nQ 422 1150 422 2328 \nQ 422 3509 836 4129 \nQ 1250 4750 2034 4750 \nz\n\" transform=\"scale(0.015625)\"/>\n       </defs>\n       <use xlink:href=\"#DejaVuSans-31\"/>\n       <use xlink:href=\"#DejaVuSans-30\" x=\"63.623047\"/>\n       <use xlink:href=\"#DejaVuSans-30\" x=\"127.246094\"/>\n       <use xlink:href=\"#DejaVuSans-30\" x=\"190.869141\"/>\n      </g>\n     </g>\n    </g>\n    <g id=\"xtick_2\">\n     <g id=\"line2d_3\">\n      <path d=\"M 114.58595 143.1 \nL 114.58595 7.2 \n\" clip-path=\"url(#ped2db190b1)\" style=\"fill: none; stroke: #b0b0b0; stroke-width: 0.8; stroke-linecap: square\"/>\n     </g>\n     <g id=\"line2d_4\">\n      <g>\n       <use xlink:href=\"#mf05f1e3f17\" x=\"114.58595\" y=\"143.1\" style=\"stroke: #000000; stroke-width: 0.8\"/>\n      </g>\n     </g>\n     <g id=\"text_2\">\n      <!-- 2000 -->\n      <g transform=\"translate(101.86095 157.698438)scale(0.1 -0.1)\">\n       <defs>\n        <path id=\"DejaVuSans-32\" d=\"M 1228 531 \nL 3431 531 \nL 3431 0 \nL 469 0 \nL 469 531 \nQ 828 903 1448 1529 \nQ 2069 2156 2228 2338 \nQ 2531 2678 2651 2914 \nQ 2772 3150 2772 3378 \nQ 2772 3750 2511 3984 \nQ 2250 4219 1831 4219 \nQ 1534 4219 1204 4116 \nQ 875 4013 500 3803 \nL 500 4441 \nQ 881 4594 1212 4672 \nQ 1544 4750 1819 4750 \nQ 2544 4750 2975 4387 \nQ 3406 4025 3406 3419 \nQ 3406 3131 3298 2873 \nQ 3191 2616 2906 2266 \nQ 2828 2175 2409 1742 \nQ 1991 1309 1228 531 \nz\n\" transform=\"scale(0.015625)\"/>\n       </defs>\n       <use xlink:href=\"#DejaVuSans-32\"/>\n       <use xlink:href=\"#DejaVuSans-30\" x=\"63.623047\"/>\n       <use xlink:href=\"#DejaVuSans-30\" x=\"127.246094\"/>\n       <use xlink:href=\"#DejaVuSans-30\" x=\"190.869141\"/>\n      </g>\n     </g>\n    </g>\n    <g id=\"xtick_3\">\n     <g id=\"line2d_5\">\n      <path d=\"M 150.166202 143.1 \nL 150.166202 7.2 \n\" clip-path=\"url(#ped2db190b1)\" style=\"fill: none; stroke: #b0b0b0; stroke-width: 0.8; stroke-linecap: square\"/>\n     </g>\n     <g id=\"line2d_6\">\n      <g>\n       <use xlink:href=\"#mf05f1e3f17\" x=\"150.166202\" y=\"143.1\" style=\"stroke: #000000; stroke-width: 0.8\"/>\n      </g>\n     </g>\n     <g id=\"text_3\">\n      <!-- 3000 -->\n      <g transform=\"translate(137.441202 157.698438)scale(0.1 -0.1)\">\n       <defs>\n        <path id=\"DejaVuSans-33\" d=\"M 2597 2516 \nQ 3050 2419 3304 2112 \nQ 3559 1806 3559 1356 \nQ 3559 666 3084 287 \nQ 2609 -91 1734 -91 \nQ 1441 -91 1130 -33 \nQ 819 25 488 141 \nL 488 750 \nQ 750 597 1062 519 \nQ 1375 441 1716 441 \nQ 2309 441 2620 675 \nQ 2931 909 2931 1356 \nQ 2931 1769 2642 2001 \nQ 2353 2234 1838 2234 \nL 1294 2234 \nL 1294 2753 \nL 1863 2753 \nQ 2328 2753 2575 2939 \nQ 2822 3125 2822 3475 \nQ 2822 3834 2567 4026 \nQ 2313 4219 1838 4219 \nQ 1578 4219 1281 4162 \nQ 984 4106 628 3988 \nL 628 4550 \nQ 988 4650 1302 4700 \nQ 1616 4750 1894 4750 \nQ 2613 4750 3031 4423 \nQ 3450 4097 3450 3541 \nQ 3450 3153 3228 2886 \nQ 3006 2619 2597 2516 \nz\n\" transform=\"scale(0.015625)\"/>\n       </defs>\n       <use xlink:href=\"#DejaVuSans-33\"/>\n       <use xlink:href=\"#DejaVuSans-30\" x=\"63.623047\"/>\n       <use xlink:href=\"#DejaVuSans-30\" x=\"127.246094\"/>\n       <use xlink:href=\"#DejaVuSans-30\" x=\"190.869141\"/>\n      </g>\n     </g>\n    </g>\n    <g id=\"xtick_4\">\n     <g id=\"line2d_7\">\n      <path d=\"M 185.746453 143.1 \nL 185.746453 7.2 \n\" clip-path=\"url(#ped2db190b1)\" style=\"fill: none; stroke: #b0b0b0; stroke-width: 0.8; stroke-linecap: square\"/>\n     </g>\n     <g id=\"line2d_8\">\n      <g>\n       <use xlink:href=\"#mf05f1e3f17\" x=\"185.746453\" y=\"143.1\" style=\"stroke: #000000; stroke-width: 0.8\"/>\n      </g>\n     </g>\n     <g id=\"text_4\">\n      <!-- 4000 -->\n      <g transform=\"translate(173.021453 157.698438)scale(0.1 -0.1)\">\n       <defs>\n        <path id=\"DejaVuSans-34\" d=\"M 2419 4116 \nL 825 1625 \nL 2419 1625 \nL 2419 4116 \nz\nM 2253 4666 \nL 3047 4666 \nL 3047 1625 \nL 3713 1625 \nL 3713 1100 \nL 3047 1100 \nL 3047 0 \nL 2419 0 \nL 2419 1100 \nL 313 1100 \nL 313 1709 \nL 2253 4666 \nz\n\" transform=\"scale(0.015625)\"/>\n       </defs>\n       <use xlink:href=\"#DejaVuSans-34\"/>\n       <use xlink:href=\"#DejaVuSans-30\" x=\"63.623047\"/>\n       <use xlink:href=\"#DejaVuSans-30\" x=\"127.246094\"/>\n       <use xlink:href=\"#DejaVuSans-30\" x=\"190.869141\"/>\n      </g>\n     </g>\n    </g>\n    <g id=\"xtick_5\">\n     <g id=\"line2d_9\">\n      <path d=\"M 221.326705 143.1 \nL 221.326705 7.2 \n\" clip-path=\"url(#ped2db190b1)\" style=\"fill: none; stroke: #b0b0b0; stroke-width: 0.8; stroke-linecap: square\"/>\n     </g>\n     <g id=\"line2d_10\">\n      <g>\n       <use xlink:href=\"#mf05f1e3f17\" x=\"221.326705\" y=\"143.1\" style=\"stroke: #000000; stroke-width: 0.8\"/>\n      </g>\n     </g>\n     <g id=\"text_5\">\n      <!-- 5000 -->\n      <g transform=\"translate(208.601705 157.698438)scale(0.1 -0.1)\">\n       <defs>\n        <path id=\"DejaVuSans-35\" d=\"M 691 4666 \nL 3169 4666 \nL 3169 4134 \nL 1269 4134 \nL 1269 2991 \nQ 1406 3038 1543 3061 \nQ 1681 3084 1819 3084 \nQ 2600 3084 3056 2656 \nQ 3513 2228 3513 1497 \nQ 3513 744 3044 326 \nQ 2575 -91 1722 -91 \nQ 1428 -91 1123 -41 \nQ 819 9 494 109 \nL 494 744 \nQ 775 591 1075 516 \nQ 1375 441 1709 441 \nQ 2250 441 2565 725 \nQ 2881 1009 2881 1497 \nQ 2881 1984 2565 2268 \nQ 2250 2553 1709 2553 \nQ 1456 2553 1204 2497 \nQ 953 2441 691 2322 \nL 691 4666 \nz\n\" transform=\"scale(0.015625)\"/>\n       </defs>\n       <use xlink:href=\"#DejaVuSans-35\"/>\n       <use xlink:href=\"#DejaVuSans-30\" x=\"63.623047\"/>\n       <use xlink:href=\"#DejaVuSans-30\" x=\"127.246094\"/>\n       <use xlink:href=\"#DejaVuSans-30\" x=\"190.869141\"/>\n      </g>\n     </g>\n    </g>\n    <g id=\"text_6\">\n     <!-- epoch -->\n     <g transform=\"translate(117.325852 171.376563)scale(0.1 -0.1)\">\n      <defs>\n       <path id=\"DejaVuSans-65\" d=\"M 3597 1894 \nL 3597 1613 \nL 953 1613 \nQ 991 1019 1311 708 \nQ 1631 397 2203 397 \nQ 2534 397 2845 478 \nQ 3156 559 3463 722 \nL 3463 178 \nQ 3153 47 2828 -22 \nQ 2503 -91 2169 -91 \nQ 1331 -91 842 396 \nQ 353 884 353 1716 \nQ 353 2575 817 3079 \nQ 1281 3584 2069 3584 \nQ 2775 3584 3186 3129 \nQ 3597 2675 3597 1894 \nz\nM 3022 2063 \nQ 3016 2534 2758 2815 \nQ 2500 3097 2075 3097 \nQ 1594 3097 1305 2825 \nQ 1016 2553 972 2059 \nL 3022 2063 \nz\n\" transform=\"scale(0.015625)\"/>\n       <path id=\"DejaVuSans-70\" d=\"M 1159 525 \nL 1159 -1331 \nL 581 -1331 \nL 581 3500 \nL 1159 3500 \nL 1159 2969 \nQ 1341 3281 1617 3432 \nQ 1894 3584 2278 3584 \nQ 2916 3584 3314 3078 \nQ 3713 2572 3713 1747 \nQ 3713 922 3314 415 \nQ 2916 -91 2278 -91 \nQ 1894 -91 1617 61 \nQ 1341 213 1159 525 \nz\nM 3116 1747 \nQ 3116 2381 2855 2742 \nQ 2594 3103 2138 3103 \nQ 1681 3103 1420 2742 \nQ 1159 2381 1159 1747 \nQ 1159 1113 1420 752 \nQ 1681 391 2138 391 \nQ 2594 391 2855 752 \nQ 3116 1113 3116 1747 \nz\n\" transform=\"scale(0.015625)\"/>\n       <path id=\"DejaVuSans-6f\" d=\"M 1959 3097 \nQ 1497 3097 1228 2736 \nQ 959 2375 959 1747 \nQ 959 1119 1226 758 \nQ 1494 397 1959 397 \nQ 2419 397 2687 759 \nQ 2956 1122 2956 1747 \nQ 2956 2369 2687 2733 \nQ 2419 3097 1959 3097 \nz\nM 1959 3584 \nQ 2709 3584 3137 3096 \nQ 3566 2609 3566 1747 \nQ 3566 888 3137 398 \nQ 2709 -91 1959 -91 \nQ 1206 -91 779 398 \nQ 353 888 353 1747 \nQ 353 2609 779 3096 \nQ 1206 3584 1959 3584 \nz\n\" transform=\"scale(0.015625)\"/>\n       <path id=\"DejaVuSans-63\" d=\"M 3122 3366 \nL 3122 2828 \nQ 2878 2963 2633 3030 \nQ 2388 3097 2138 3097 \nQ 1578 3097 1268 2742 \nQ 959 2388 959 1747 \nQ 959 1106 1268 751 \nQ 1578 397 2138 397 \nQ 2388 397 2633 464 \nQ 2878 531 3122 666 \nL 3122 134 \nQ 2881 22 2623 -34 \nQ 2366 -91 2075 -91 \nQ 1284 -91 818 406 \nQ 353 903 353 1747 \nQ 353 2603 823 3093 \nQ 1294 3584 2113 3584 \nQ 2378 3584 2631 3529 \nQ 2884 3475 3122 3366 \nz\n\" transform=\"scale(0.015625)\"/>\n       <path id=\"DejaVuSans-68\" d=\"M 3513 2113 \nL 3513 0 \nL 2938 0 \nL 2938 2094 \nQ 2938 2591 2744 2837 \nQ 2550 3084 2163 3084 \nQ 1697 3084 1428 2787 \nQ 1159 2491 1159 1978 \nL 1159 0 \nL 581 0 \nL 581 4863 \nL 1159 4863 \nL 1159 2956 \nQ 1366 3272 1645 3428 \nQ 1925 3584 2291 3584 \nQ 2894 3584 3203 3211 \nQ 3513 2838 3513 2113 \nz\n\" transform=\"scale(0.015625)\"/>\n      </defs>\n      <use xlink:href=\"#DejaVuSans-65\"/>\n      <use xlink:href=\"#DejaVuSans-70\" x=\"61.523438\"/>\n      <use xlink:href=\"#DejaVuSans-6f\" x=\"125\"/>\n      <use xlink:href=\"#DejaVuSans-63\" x=\"186.181641\"/>\n      <use xlink:href=\"#DejaVuSans-68\" x=\"241.162109\"/>\n     </g>\n    </g>\n   </g>\n   <g id=\"matplotlib.axis_2\">\n    <g id=\"ytick_1\">\n     <g id=\"line2d_11\">\n      <path d=\"M 43.78125 140.611307 \nL 221.326705 140.611307 \n\" clip-path=\"url(#ped2db190b1)\" style=\"fill: none; stroke: #b0b0b0; stroke-width: 0.8; stroke-linecap: square\"/>\n     </g>\n     <g id=\"line2d_12\">\n      <defs>\n       <path id=\"mf6983dd2a1\" d=\"M 0 0 \nL -3.5 0 \n\" style=\"stroke: #000000; stroke-width: 0.8\"/>\n      </defs>\n      <g>\n       <use xlink:href=\"#mf6983dd2a1\" x=\"43.78125\" y=\"140.611307\" style=\"stroke: #000000; stroke-width: 0.8\"/>\n      </g>\n     </g>\n     <g id=\"text_7\">\n      <!-- 0.0 -->\n      <g transform=\"translate(20.878125 144.410526)scale(0.1 -0.1)\">\n       <defs>\n        <path id=\"DejaVuSans-2e\" d=\"M 684 794 \nL 1344 794 \nL 1344 0 \nL 684 0 \nL 684 794 \nz\n\" transform=\"scale(0.015625)\"/>\n       </defs>\n       <use xlink:href=\"#DejaVuSans-30\"/>\n       <use xlink:href=\"#DejaVuSans-2e\" x=\"63.623047\"/>\n       <use xlink:href=\"#DejaVuSans-30\" x=\"95.410156\"/>\n      </g>\n     </g>\n    </g>\n    <g id=\"ytick_2\">\n     <g id=\"line2d_13\">\n      <path d=\"M 43.78125 106.873612 \nL 221.326705 106.873612 \n\" clip-path=\"url(#ped2db190b1)\" style=\"fill: none; stroke: #b0b0b0; stroke-width: 0.8; stroke-linecap: square\"/>\n     </g>\n     <g id=\"line2d_14\">\n      <g>\n       <use xlink:href=\"#mf6983dd2a1\" x=\"43.78125\" y=\"106.873612\" style=\"stroke: #000000; stroke-width: 0.8\"/>\n      </g>\n     </g>\n     <g id=\"text_8\">\n      <!-- 0.2 -->\n      <g transform=\"translate(20.878125 110.672831)scale(0.1 -0.1)\">\n       <use xlink:href=\"#DejaVuSans-30\"/>\n       <use xlink:href=\"#DejaVuSans-2e\" x=\"63.623047\"/>\n       <use xlink:href=\"#DejaVuSans-32\" x=\"95.410156\"/>\n      </g>\n     </g>\n    </g>\n    <g id=\"ytick_3\">\n     <g id=\"line2d_15\">\n      <path d=\"M 43.78125 73.135917 \nL 221.326705 73.135917 \n\" clip-path=\"url(#ped2db190b1)\" style=\"fill: none; stroke: #b0b0b0; stroke-width: 0.8; stroke-linecap: square\"/>\n     </g>\n     <g id=\"line2d_16\">\n      <g>\n       <use xlink:href=\"#mf6983dd2a1\" x=\"43.78125\" y=\"73.135917\" style=\"stroke: #000000; stroke-width: 0.8\"/>\n      </g>\n     </g>\n     <g id=\"text_9\">\n      <!-- 0.4 -->\n      <g transform=\"translate(20.878125 76.935136)scale(0.1 -0.1)\">\n       <use xlink:href=\"#DejaVuSans-30\"/>\n       <use xlink:href=\"#DejaVuSans-2e\" x=\"63.623047\"/>\n       <use xlink:href=\"#DejaVuSans-34\" x=\"95.410156\"/>\n      </g>\n     </g>\n    </g>\n    <g id=\"ytick_4\">\n     <g id=\"line2d_17\">\n      <path d=\"M 43.78125 39.398222 \nL 221.326705 39.398222 \n\" clip-path=\"url(#ped2db190b1)\" style=\"fill: none; stroke: #b0b0b0; stroke-width: 0.8; stroke-linecap: square\"/>\n     </g>\n     <g id=\"line2d_18\">\n      <g>\n       <use xlink:href=\"#mf6983dd2a1\" x=\"43.78125\" y=\"39.398222\" style=\"stroke: #000000; stroke-width: 0.8\"/>\n      </g>\n     </g>\n     <g id=\"text_10\">\n      <!-- 0.6 -->\n      <g transform=\"translate(20.878125 43.197441)scale(0.1 -0.1)\">\n       <defs>\n        <path id=\"DejaVuSans-36\" d=\"M 2113 2584 \nQ 1688 2584 1439 2293 \nQ 1191 2003 1191 1497 \nQ 1191 994 1439 701 \nQ 1688 409 2113 409 \nQ 2538 409 2786 701 \nQ 3034 994 3034 1497 \nQ 3034 2003 2786 2293 \nQ 2538 2584 2113 2584 \nz\nM 3366 4563 \nL 3366 3988 \nQ 3128 4100 2886 4159 \nQ 2644 4219 2406 4219 \nQ 1781 4219 1451 3797 \nQ 1122 3375 1075 2522 \nQ 1259 2794 1537 2939 \nQ 1816 3084 2150 3084 \nQ 2853 3084 3261 2657 \nQ 3669 2231 3669 1497 \nQ 3669 778 3244 343 \nQ 2819 -91 2113 -91 \nQ 1303 -91 875 529 \nQ 447 1150 447 2328 \nQ 447 3434 972 4092 \nQ 1497 4750 2381 4750 \nQ 2619 4750 2861 4703 \nQ 3103 4656 3366 4563 \nz\n\" transform=\"scale(0.015625)\"/>\n       </defs>\n       <use xlink:href=\"#DejaVuSans-30\"/>\n       <use xlink:href=\"#DejaVuSans-2e\" x=\"63.623047\"/>\n       <use xlink:href=\"#DejaVuSans-36\" x=\"95.410156\"/>\n      </g>\n     </g>\n    </g>\n    <g id=\"text_11\">\n     <!-- loss -->\n     <g transform=\"translate(14.798438 84.807812)rotate(-90)scale(0.1 -0.1)\">\n      <defs>\n       <path id=\"DejaVuSans-6c\" d=\"M 603 4863 \nL 1178 4863 \nL 1178 0 \nL 603 0 \nL 603 4863 \nz\n\" transform=\"scale(0.015625)\"/>\n       <path id=\"DejaVuSans-73\" d=\"M 2834 3397 \nL 2834 2853 \nQ 2591 2978 2328 3040 \nQ 2066 3103 1784 3103 \nQ 1356 3103 1142 2972 \nQ 928 2841 928 2578 \nQ 928 2378 1081 2264 \nQ 1234 2150 1697 2047 \nL 1894 2003 \nQ 2506 1872 2764 1633 \nQ 3022 1394 3022 966 \nQ 3022 478 2636 193 \nQ 2250 -91 1575 -91 \nQ 1294 -91 989 -36 \nQ 684 19 347 128 \nL 347 722 \nQ 666 556 975 473 \nQ 1284 391 1588 391 \nQ 1994 391 2212 530 \nQ 2431 669 2431 922 \nQ 2431 1156 2273 1281 \nQ 2116 1406 1581 1522 \nL 1381 1569 \nQ 847 1681 609 1914 \nQ 372 2147 372 2553 \nQ 372 3047 722 3315 \nQ 1072 3584 1716 3584 \nQ 2034 3584 2315 3537 \nQ 2597 3491 2834 3397 \nz\n\" transform=\"scale(0.015625)\"/>\n      </defs>\n      <use xlink:href=\"#DejaVuSans-6c\"/>\n      <use xlink:href=\"#DejaVuSans-6f\" x=\"27.783203\"/>\n      <use xlink:href=\"#DejaVuSans-73\" x=\"88.964844\"/>\n      <use xlink:href=\"#DejaVuSans-73\" x=\"141.064453\"/>\n     </g>\n    </g>\n   </g>\n   <g id=\"line2d_19\">\n    <path d=\"M 46.983473 129.71204 \nL 50.541498 132.171972 \nL 54.099523 132.907733 \nL 57.657548 116.092944 \nL 61.215573 135.910469 \nL 64.773598 134.639742 \nL 68.331623 127.239369 \nL 71.889649 135.882878 \nL 75.447674 133.667815 \nL 79.005699 124.96313 \nL 82.563724 135.927543 \nL 86.121749 132.543296 \nL 89.679774 128.223623 \nL 93.237799 136.570548 \nL 96.795825 118.129886 \nL 100.35385 134.565128 \nL 103.911875 136.382677 \nL 107.4699 80.253102 \nL 111.027925 134.730612 \nL 114.58595 135.92824 \nL 118.143975 131.580833 \nL 121.702001 128.066385 \nL 125.260026 136.069004 \nL 128.818051 135.247078 \nL 132.376076 124.663944 \nL 135.934101 135.334328 \nL 139.492126 132.733559 \nL 143.050151 127.983097 \nL 146.608177 135.590934 \nL 150.166202 130.995246 \nL 153.724227 128.68113 \nL 157.282252 136.287575 \nL 160.840277 133.947282 \nL 164.398302 125.713687 \nL 167.956327 136.230838 \nL 171.514353 136.303453 \nL 175.072378 39.688224 \nL 178.630403 133.872662 \nL 182.188428 135.948397 \nL 185.746453 84.142595 \nL 189.304478 134.97685 \nL 192.862503 136.313401 \nL 196.420529 93.805111 \nL 199.978554 133.806991 \nL 203.536579 136.922727 \nL 207.094604 76.46406 \nL 210.652629 134.5457 \nL 214.210654 135.849757 \nL 217.768679 82.132873 \nL 221.326705 134.194918 \n\" clip-path=\"url(#ped2db190b1)\" style=\"fill: none; stroke: #1f77b4; stroke-width: 1.5; stroke-linecap: square\"/>\n   </g>\n   <g id=\"line2d_20\">\n    <path d=\"M 46.983473 121.814018 \nL 50.541498 131.952653 \nL 54.099523 134.264867 \nL 57.657548 124.073714 \nL 61.215573 134.99204 \nL 64.773598 136.569288 \nL 68.331623 116.509456 \nL 71.889649 134.451554 \nL 75.447674 135.84458 \nL 79.005699 113.856832 \nL 82.563724 134.754251 \nL 86.121749 135.488302 \nL 89.679774 119.333858 \nL 93.237799 135.089932 \nL 96.795825 130.312371 \nL 100.35385 131.218856 \nL 103.911875 136.191291 \nL 107.4699 94.294776 \nL 111.027925 131.330276 \nL 114.58595 135.756759 \nL 118.143975 136.179173 \nL 121.702001 119.411279 \nL 125.260026 134.947796 \nL 128.818051 135.134379 \nL 132.376076 110.890776 \nL 135.934101 134.157704 \nL 139.492126 135.857386 \nL 143.050151 117.705875 \nL 146.608177 134.696193 \nL 150.166202 135.119652 \nL 153.724227 121.609547 \nL 157.282252 135.254186 \nL 160.840277 136.315065 \nL 164.398302 115.701505 \nL 167.956327 134.944175 \nL 171.514353 136.686097 \nL 175.072378 73.80757 \nL 178.630403 129.991364 \nL 182.188428 135.373966 \nL 185.746453 112.279954 \nL 189.304478 131.891168 \nL 192.862503 135.890923 \nL 196.420529 118.047725 \nL 199.978554 130.403813 \nL 203.536579 135.8548 \nL 207.094604 68.388524 \nL 210.652629 132.624252 \nL 214.210654 135.805577 \nL 217.768679 106.156527 \nL 221.326705 131.009226 \n\" clip-path=\"url(#ped2db190b1)\" style=\"fill: none; stroke-dasharray: 5.55,2.4; stroke-dashoffset: 0; stroke: #bf00bf; stroke-width: 1.5\"/>\n   </g>\n   <g id=\"line2d_21\">\n    <path d=\"M 46.983473 73.648068 \nL 50.541498 80.27762 \nL 54.099523 83.022264 \nL 57.657548 78.145951 \nL 61.215573 80.206293 \nL 64.773598 83.045339 \nL 68.331623 60.296206 \nL 71.889649 71.613602 \nL 75.447674 74.946426 \nL 79.005699 56.570709 \nL 82.563724 67.705172 \nL 86.121749 70.492517 \nL 89.679774 52.996172 \nL 93.237799 64.221237 \nL 96.795825 63.630538 \nL 100.35385 56.665524 \nL 103.911875 63.461379 \nL 107.4699 50.53619 \nL 111.027925 51.930293 \nL 114.58595 58.369068 \nL 118.143975 60.441053 \nL 121.702001 41.186754 \nL 125.260026 52.924775 \nL 128.818051 55.437624 \nL 132.376076 34.547891 \nL 135.934101 48.015125 \nL 139.492126 51.807707 \nL 143.050151 33.698125 \nL 146.608177 45.856912 \nL 150.166202 48.506474 \nL 153.724227 33.702198 \nL 157.282252 44.290181 \nL 160.840277 47.333382 \nL 164.398302 28.539182 \nL 167.956327 40.699366 \nL 171.514353 44.559706 \nL 175.072378 29.418036 \nL 178.630403 29.697705 \nL 182.188428 36.926794 \nL 185.746453 29.500896 \nL 189.304478 30.183444 \nL 192.862503 36.138371 \nL 196.420529 30.50306 \nL 199.978554 26.58003 \nL 203.536579 33.421644 \nL 207.094604 13.377273 \nL 210.652629 25.382827 \nL 214.210654 30.630854 \nL 217.768679 22.587442 \nL 221.326705 21.080879 \n\" clip-path=\"url(#ped2db190b1)\" style=\"fill: none; stroke-dasharray: 9.6,2.4,1.5,2.4; stroke-dashoffset: 0; stroke: #008000; stroke-width: 1.5\"/>\n   </g>\n   <g id=\"patch_3\">\n    <path d=\"M 43.78125 143.1 \nL 43.78125 7.2 \n\" style=\"fill: none; stroke: #000000; stroke-width: 0.8; stroke-linejoin: miter; stroke-linecap: square\"/>\n   </g>\n   <g id=\"patch_4\">\n    <path d=\"M 221.326705 143.1 \nL 221.326705 7.2 \n\" style=\"fill: none; stroke: #000000; stroke-width: 0.8; stroke-linejoin: miter; stroke-linecap: square\"/>\n   </g>\n   <g id=\"patch_5\">\n    <path d=\"M 43.78125 143.1 \nL 221.326705 143.1 \n\" style=\"fill: none; stroke: #000000; stroke-width: 0.8; stroke-linejoin: miter; stroke-linecap: square\"/>\n   </g>\n   <g id=\"patch_6\">\n    <path d=\"M 43.78125 7.2 \nL 221.326705 7.2 \n\" style=\"fill: none; stroke: #000000; stroke-width: 0.8; stroke-linejoin: miter; stroke-linecap: square\"/>\n   </g>\n   <g id=\"legend_1\">\n    <g id=\"patch_7\">\n     <path d=\"M 144.040767 98.667187 \nL 214.326705 98.667187 \nQ 216.326705 98.667187 216.326705 96.667187 \nL 216.326705 53.632812 \nQ 216.326705 51.632812 214.326705 51.632812 \nL 144.040767 51.632812 \nQ 142.040767 51.632812 142.040767 53.632812 \nL 142.040767 96.667187 \nQ 142.040767 98.667187 144.040767 98.667187 \nz\n\" style=\"fill: #ffffff; opacity: 0.8; stroke: #cccccc; stroke-linejoin: miter\"/>\n    </g>\n    <g id=\"line2d_22\">\n     <path d=\"M 146.040767 59.73125 \nL 156.040767 59.73125 \nL 166.040767 59.73125 \n\" style=\"fill: none; stroke: #1f77b4; stroke-width: 1.5; stroke-linecap: square\"/>\n    </g>\n    <g id=\"text_12\">\n     <!-- content -->\n     <g transform=\"translate(174.040767 63.23125)scale(0.1 -0.1)\">\n      <defs>\n       <path id=\"DejaVuSans-6e\" d=\"M 3513 2113 \nL 3513 0 \nL 2938 0 \nL 2938 2094 \nQ 2938 2591 2744 2837 \nQ 2550 3084 2163 3084 \nQ 1697 3084 1428 2787 \nQ 1159 2491 1159 1978 \nL 1159 0 \nL 581 0 \nL 581 3500 \nL 1159 3500 \nL 1159 2956 \nQ 1366 3272 1645 3428 \nQ 1925 3584 2291 3584 \nQ 2894 3584 3203 3211 \nQ 3513 2838 3513 2113 \nz\n\" transform=\"scale(0.015625)\"/>\n       <path id=\"DejaVuSans-74\" d=\"M 1172 4494 \nL 1172 3500 \nL 2356 3500 \nL 2356 3053 \nL 1172 3053 \nL 1172 1153 \nQ 1172 725 1289 603 \nQ 1406 481 1766 481 \nL 2356 481 \nL 2356 0 \nL 1766 0 \nQ 1100 0 847 248 \nQ 594 497 594 1153 \nL 594 3053 \nL 172 3053 \nL 172 3500 \nL 594 3500 \nL 594 4494 \nL 1172 4494 \nz\n\" transform=\"scale(0.015625)\"/>\n      </defs>\n      <use xlink:href=\"#DejaVuSans-63\"/>\n      <use xlink:href=\"#DejaVuSans-6f\" x=\"54.980469\"/>\n      <use xlink:href=\"#DejaVuSans-6e\" x=\"116.162109\"/>\n      <use xlink:href=\"#DejaVuSans-74\" x=\"179.541016\"/>\n      <use xlink:href=\"#DejaVuSans-65\" x=\"218.75\"/>\n      <use xlink:href=\"#DejaVuSans-6e\" x=\"280.273438\"/>\n      <use xlink:href=\"#DejaVuSans-74\" x=\"343.652344\"/>\n     </g>\n    </g>\n    <g id=\"line2d_23\">\n     <path d=\"M 146.040767 74.409375 \nL 156.040767 74.409375 \nL 166.040767 74.409375 \n\" style=\"fill: none; stroke-dasharray: 5.55,2.4; stroke-dashoffset: 0; stroke: #bf00bf; stroke-width: 1.5\"/>\n    </g>\n    <g id=\"text_13\">\n     <!-- style -->\n     <g transform=\"translate(174.040767 77.909375)scale(0.1 -0.1)\">\n      <defs>\n       <path id=\"DejaVuSans-79\" d=\"M 2059 -325 \nQ 1816 -950 1584 -1140 \nQ 1353 -1331 966 -1331 \nL 506 -1331 \nL 506 -850 \nL 844 -850 \nQ 1081 -850 1212 -737 \nQ 1344 -625 1503 -206 \nL 1606 56 \nL 191 3500 \nL 800 3500 \nL 1894 763 \nL 2988 3500 \nL 3597 3500 \nL 2059 -325 \nz\n\" transform=\"scale(0.015625)\"/>\n      </defs>\n      <use xlink:href=\"#DejaVuSans-73\"/>\n      <use xlink:href=\"#DejaVuSans-74\" x=\"52.099609\"/>\n      <use xlink:href=\"#DejaVuSans-79\" x=\"91.308594\"/>\n      <use xlink:href=\"#DejaVuSans-6c\" x=\"150.488281\"/>\n      <use xlink:href=\"#DejaVuSans-65\" x=\"178.271484\"/>\n     </g>\n    </g>\n    <g id=\"line2d_24\">\n     <path d=\"M 146.040767 89.0875 \nL 156.040767 89.0875 \nL 166.040767 89.0875 \n\" style=\"fill: none; stroke-dasharray: 9.6,2.4,1.5,2.4; stroke-dashoffset: 0; stroke: #008000; stroke-width: 1.5\"/>\n    </g>\n    <g id=\"text_14\">\n     <!-- TV -->\n     <g transform=\"translate(174.040767 92.5875)scale(0.1 -0.1)\">\n      <defs>\n       <path id=\"DejaVuSans-54\" d=\"M -19 4666 \nL 3928 4666 \nL 3928 4134 \nL 2272 4134 \nL 2272 0 \nL 1638 0 \nL 1638 4134 \nL -19 4134 \nL -19 4666 \nz\n\" transform=\"scale(0.015625)\"/>\n       <path id=\"DejaVuSans-56\" d=\"M 1831 0 \nL 50 4666 \nL 709 4666 \nL 2188 738 \nL 3669 4666 \nL 4325 4666 \nL 2547 0 \nL 1831 0 \nz\n\" transform=\"scale(0.015625)\"/>\n      </defs>\n      <use xlink:href=\"#DejaVuSans-54\"/>\n      <use xlink:href=\"#DejaVuSans-56\" x=\"61.083984\"/>\n     </g>\n    </g>\n   </g>\n  </g>\n  <g id=\"axes_2\">\n   <g id=\"patch_8\">\n    <path d=\"M 256.835795 125.084659 \nL 434.38125 125.084659 \nL 434.38125 25.215341 \nL 256.835795 25.215341 \nz\n\" style=\"fill: #ffffff\"/>\n   </g>\n   <g clip-path=\"url(#pbc72369a09)\">\n    <image xlink:href=\"data:image/png;base64,\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\" id=\"image9cee9e71d7\" transform=\"scale(1 -1)translate(0 -99)\" x=\"257\" y=\"-25.65625\" width=\"178\" height=\"99\"/>\n   </g>\n   <g id=\"matplotlib.axis_3\">\n    <g id=\"xtick_6\">\n     <g id=\"line2d_25\">\n      <g>\n       <use xlink:href=\"#mf05f1e3f17\" x=\"256.882031\" y=\"125.084659\" style=\"stroke: #000000; stroke-width: 0.8\"/>\n      </g>\n     </g>\n     <g id=\"text_15\">\n      <!-- 0 -->\n      <g transform=\"translate(253.700781 139.683097)scale(0.1 -0.1)\">\n       <use xlink:href=\"#DejaVuSans-30\"/>\n      </g>\n     </g>\n    </g>\n    <g id=\"xtick_7\">\n     <g id=\"line2d_26\">\n      <g>\n       <use xlink:href=\"#mf05f1e3f17\" x=\"303.117827\" y=\"125.084659\" style=\"stroke: #000000; stroke-width: 0.8\"/>\n      </g>\n     </g>\n     <g id=\"text_16\">\n      <!-- 500 -->\n      <g transform=\"translate(293.574077 139.683097)scale(0.1 -0.1)\">\n       <use xlink:href=\"#DejaVuSans-35\"/>\n       <use xlink:href=\"#DejaVuSans-30\" x=\"63.623047\"/>\n       <use xlink:href=\"#DejaVuSans-30\" x=\"127.246094\"/>\n      </g>\n     </g>\n    </g>\n    <g id=\"xtick_8\">\n     <g id=\"line2d_27\">\n      <g>\n       <use xlink:href=\"#mf05f1e3f17\" x=\"349.353622\" y=\"125.084659\" style=\"stroke: #000000; stroke-width: 0.8\"/>\n      </g>\n     </g>\n     <g id=\"text_17\">\n      <!-- 1000 -->\n      <g transform=\"translate(336.628622 139.683097)scale(0.1 -0.1)\">\n       <use xlink:href=\"#DejaVuSans-31\"/>\n       <use xlink:href=\"#DejaVuSans-30\" x=\"63.623047\"/>\n       <use xlink:href=\"#DejaVuSans-30\" x=\"127.246094\"/>\n       <use xlink:href=\"#DejaVuSans-30\" x=\"190.869141\"/>\n      </g>\n     </g>\n    </g>\n    <g id=\"xtick_9\">\n     <g id=\"line2d_28\">\n      <g>\n       <use xlink:href=\"#mf05f1e3f17\" x=\"395.589418\" y=\"125.084659\" style=\"stroke: #000000; stroke-width: 0.8\"/>\n      </g>\n     </g>\n     <g id=\"text_18\">\n      <!-- 1500 -->\n      <g transform=\"translate(382.864418 139.683097)scale(0.1 -0.1)\">\n       <use xlink:href=\"#DejaVuSans-31\"/>\n       <use xlink:href=\"#DejaVuSans-35\" x=\"63.623047\"/>\n       <use xlink:href=\"#DejaVuSans-30\" x=\"127.246094\"/>\n       <use xlink:href=\"#DejaVuSans-30\" x=\"190.869141\"/>\n      </g>\n     </g>\n    </g>\n   </g>\n   <g id=\"matplotlib.axis_4\">\n    <g id=\"ytick_5\">\n     <g id=\"line2d_29\">\n      <g>\n       <use xlink:href=\"#mf6983dd2a1\" x=\"256.835795\" y=\"25.261577\" style=\"stroke: #000000; stroke-width: 0.8\"/>\n      </g>\n     </g>\n     <g id=\"text_19\">\n      <!-- 0 -->\n      <g transform=\"translate(243.473295 29.060795)scale(0.1 -0.1)\">\n       <use xlink:href=\"#DejaVuSans-30\"/>\n      </g>\n     </g>\n    </g>\n    <g id=\"ytick_6\">\n     <g id=\"line2d_30\">\n      <g>\n       <use xlink:href=\"#mf6983dd2a1\" x=\"256.835795\" y=\"71.497372\" style=\"stroke: #000000; stroke-width: 0.8\"/>\n      </g>\n     </g>\n     <g id=\"text_20\">\n      <!-- 500 -->\n      <g transform=\"translate(230.748295 75.296591)scale(0.1 -0.1)\">\n       <use xlink:href=\"#DejaVuSans-35\"/>\n       <use xlink:href=\"#DejaVuSans-30\" x=\"63.623047\"/>\n       <use xlink:href=\"#DejaVuSans-30\" x=\"127.246094\"/>\n      </g>\n     </g>\n    </g>\n    <g id=\"ytick_7\">\n     <g id=\"line2d_31\">\n      <g>\n       <use xlink:href=\"#mf6983dd2a1\" x=\"256.835795\" y=\"117.733168\" style=\"stroke: #000000; stroke-width: 0.8\"/>\n      </g>\n     </g>\n     <g id=\"text_21\">\n      <!-- 1000 -->\n      <g transform=\"translate(224.385795 121.532386)scale(0.1 -0.1)\">\n       <use xlink:href=\"#DejaVuSans-31\"/>\n       <use xlink:href=\"#DejaVuSans-30\" x=\"63.623047\"/>\n       <use xlink:href=\"#DejaVuSans-30\" x=\"127.246094\"/>\n       <use xlink:href=\"#DejaVuSans-30\" x=\"190.869141\"/>\n      </g>\n     </g>\n    </g>\n   </g>\n   <g id=\"patch_9\">\n    <path d=\"M 256.835795 125.084659 \nL 256.835795 25.215341 \n\" style=\"fill: none; stroke: #000000; stroke-width: 0.8; stroke-linejoin: miter; stroke-linecap: square\"/>\n   </g>\n   <g id=\"patch_10\">\n    <path d=\"M 434.38125 125.084659 \nL 434.38125 25.215341 \n\" style=\"fill: none; stroke: #000000; stroke-width: 0.8; stroke-linejoin: miter; stroke-linecap: square\"/>\n   </g>\n   <g id=\"patch_11\">\n    <path d=\"M 256.835795 125.084659 \nL 434.38125 125.084659 \n\" style=\"fill: none; stroke: #000000; stroke-width: 0.8; stroke-linejoin: miter; stroke-linecap: square\"/>\n   </g>\n   <g id=\"patch_12\">\n    <path d=\"M 256.835795 25.215341 \nL 434.38125 25.215341 \n\" style=\"fill: none; stroke: #000000; stroke-width: 0.8; stroke-linejoin: miter; stroke-linecap: square\"/>\n   </g>\n  </g>\n </g>\n <defs>\n  <clipPath id=\"ped2db190b1\">\n   <rect x=\"43.78125\" y=\"7.2\" width=\"177.545455\" height=\"135.9\"/>\n  </clipPath>\n  <clipPath id=\"pbc72369a09\">\n   <rect x=\"256.835795\" y=\"25.215341\" width=\"177.545455\" height=\"99.869318\"/>\n  </clipPath>\n </defs>\n</svg>\n"
          },
          "metadata": {
            "needs_background": "light"
          }
        }
      ]
    },
    {
      "cell_type": "code",
      "execution_count": null,
      "metadata": {
        "id": "7g6IwR2gwJyU"
      },
      "outputs": [],
      "source": [
        "imgs_dir = 'imgs/'\n",
        "images = []\n",
        "for file_name in sorted(os.listdir(imgs_dir)):\n",
        "  if file_name.endswith('.jpg'):\n",
        "    file_path = os.path.join(imgs_dir, file_name)\n",
        "    images.append(imageio.imread(file_path))\n",
        "imageio.mimsave('style transfer landscape.gif', images, fps=30)"
      ],
      "id": "7g6IwR2gwJyU"
    },
    {
      "cell_type": "code",
      "execution_count": null,
      "metadata": {
        "id": "C70ncNMJCxcY"
      },
      "outputs": [],
      "source": [
        "del images"
      ],
      "id": "C70ncNMJCxcY"
    },
    {
      "cell_type": "code",
      "execution_count": null,
      "metadata": {
        "id": "kSukwHigX1yq"
      },
      "outputs": [],
      "source": [
        "imgss = os.listdir('imgs')"
      ],
      "id": "kSukwHigX1yq"
    },
    {
      "cell_type": "code",
      "execution_count": null,
      "metadata": {
        "id": "jvu8jpvTYGJ7"
      },
      "outputs": [],
      "source": [
        "imgss.sort(key=lambda f: int(re.sub('\\D', '', f)))"
      ],
      "id": "jvu8jpvTYGJ7"
    },
    {
      "cell_type": "code",
      "execution_count": 38,
      "metadata": {
        "id": "TBQ3pGrGacNT"
      },
      "outputs": [],
      "source": [
        "# Video Generating function\n",
        "def generate_video():\n",
        "    image_folder = 'imgs/' # make sure to use your folder\n",
        "    video_name = 'style transfer bit less layers.avi'\n",
        "    images = [img for img in os.listdir(image_folder)\n",
        "              if img.endswith(\".jpg\") or\n",
        "                 img.endswith(\".jpeg\") or\n",
        "                 img.endswith(\"png\")]\n",
        "     \n",
        "    # Array images should only consider\n",
        "    # the image files ignoring others if any\n",
        "    # print(images) \n",
        "\n",
        "    images.sort(key=lambda f: int(re.sub('\\D', '', f)))\n",
        "    frame = cv2.imread(os.path.join(image_folder, images[0]))\n",
        "  \n",
        "    # setting the frame width, height width\n",
        "    # the width, height of first image\n",
        "    height, width, layers = frame.shape  \n",
        "  \n",
        "    video = cv2.VideoWriter(video_name, 0, 60, (width, height)) \n",
        "  \n",
        "    # Appending the images to the video one by one\n",
        "    for image in images: \n",
        "        video.write(cv2.imread(os.path.join(image_folder, image))) \n",
        "      \n",
        "    # Deallocating memories taken for window creation\n",
        "    cv2.destroyAllWindows() \n",
        "    video.release()  # releasing the video generated\n",
        "generate_video()"
      ],
      "id": "TBQ3pGrGacNT"
    },
    {
      "cell_type": "code",
      "execution_count": 39,
      "metadata": {
        "colab": {
          "base_uri": "https://localhost:8080/"
        },
        "id": "iD1di2iolcEe",
        "outputId": "939f7800-48de-447d-d585-d69994b1d591"
      },
      "outputs": [
        {
          "output_type": "stream",
          "name": "stdout",
          "text": [
            "ffmpeg version 3.4.11-0ubuntu0.1 Copyright (c) 2000-2022 the FFmpeg developers\n",
            "  built with gcc 7 (Ubuntu 7.5.0-3ubuntu1~18.04)\n",
            "  configuration: --prefix=/usr --extra-version=0ubuntu0.1 --toolchain=hardened --libdir=/usr/lib/x86_64-linux-gnu --incdir=/usr/include/x86_64-linux-gnu --enable-gpl --disable-stripping --enable-avresample --enable-avisynth --enable-gnutls --enable-ladspa --enable-libass --enable-libbluray --enable-libbs2b --enable-libcaca --enable-libcdio --enable-libflite --enable-libfontconfig --enable-libfreetype --enable-libfribidi --enable-libgme --enable-libgsm --enable-libmp3lame --enable-libmysofa --enable-libopenjpeg --enable-libopenmpt --enable-libopus --enable-libpulse --enable-librubberband --enable-librsvg --enable-libshine --enable-libsnappy --enable-libsoxr --enable-libspeex --enable-libssh --enable-libtheora --enable-libtwolame --enable-libvorbis --enable-libvpx --enable-libwavpack --enable-libwebp --enable-libx265 --enable-libxml2 --enable-libxvid --enable-libzmq --enable-libzvbi --enable-omx --enable-openal --enable-opengl --enable-sdl2 --enable-libdc1394 --enable-libdrm --enable-libiec61883 --enable-chromaprint --enable-frei0r --enable-libopencv --enable-libx264 --enable-shared\n",
            "  libavutil      55. 78.100 / 55. 78.100\n",
            "  libavcodec     57.107.100 / 57.107.100\n",
            "  libavformat    57. 83.100 / 57. 83.100\n",
            "  libavdevice    57. 10.100 / 57. 10.100\n",
            "  libavfilter     6.107.100 /  6.107.100\n",
            "  libavresample   3.  7.  0 /  3.  7.  0\n",
            "  libswscale      4.  8.100 /  4.  8.100\n",
            "  libswresample   2.  9.100 /  2.  9.100\n",
            "  libpostproc    54.  7.100 / 54.  7.100\n",
            "Input #0, avi, from 'style transfer bit less layers.avi':\n",
            "  Metadata:\n",
            "    encoder         : Lavf58.76.100\n",
            "  Duration: 00:00:08.35, start: 0.000000, bitrate: 1493112 kb/s\n",
            "    Stream #0:0: Video: rawvideo (I420 / 0x30323449), yuv420p, 1920x1080, 1495977 kb/s, 60 fps, 60 tbr, 60 tbn, 60 tbc\n",
            "Stream mapping:\n",
            "  Stream #0:0 -> #0:0 (rawvideo (native) -> h264 (libx264))\n",
            "Press [q] to stop, [?] for help\n",
            "\u001b[1;36m[libx264 @ 0x5649fd4f9e00] \u001b[0musing cpu capabilities: MMX2 SSE2Fast SSSE3 SSE4.2 AVX FMA3 BMI2 AVX2\n",
            "\u001b[1;36m[libx264 @ 0x5649fd4f9e00] \u001b[0mprofile High, level 4.2\n",
            "\u001b[1;36m[libx264 @ 0x5649fd4f9e00] \u001b[0m264 - core 152 r2854 e9a5903 - H.264/MPEG-4 AVC codec - Copyleft 2003-2017 - http://www.videolan.org/x264.html - options: cabac=1 ref=3 deblock=1:0:0 analyse=0x3:0x113 me=hex subme=7 psy=1 psy_rd=1.00:0.00 mixed_ref=1 me_range=16 chroma_me=1 trellis=1 8x8dct=1 cqm=0 deadzone=21,11 fast_pskip=1 chroma_qp_offset=-2 threads=3 lookahead_threads=1 sliced_threads=0 nr=0 decimate=1 interlaced=0 bluray_compat=0 constrained_intra=0 bframes=3 b_pyramid=2 b_adapt=1 b_bias=0 direct=1 weightb=1 open_gop=0 weightp=2 keyint=250 keyint_min=25 scenecut=40 intra_refresh=0 rc_lookahead=40 rc=crf mbtree=1 crf=23.0 qcomp=0.60 qpmin=0 qpmax=69 qpstep=4 ip_ratio=1.40 aq=1:1.00\n",
            "Output #0, mp4, to 'style transfer bit less layers.mp4':\n",
            "  Metadata:\n",
            "    encoder         : Lavf57.83.100\n",
            "    Stream #0:0: Video: h264 (libx264) (avc1 / 0x31637661), yuv420p, 1920x1080, q=-1--1, 60 fps, 15360 tbn, 60 tbc\n",
            "    Metadata:\n",
            "      encoder         : Lavc57.107.100 libx264\n",
            "    Side data:\n",
            "      cpb: bitrate max/min/avg: 0/0/0 buffer size: 0 vbv_delay: -1\n",
            "frame=  501 fps=8.3 q=-1.0 Lsize=   43950kB time=00:00:08.30 bitrate=43377.6kbits/s speed=0.137x    \n",
            "video:43946kB audio:0kB subtitle:0kB other streams:0kB global headers:0kB muxing overhead: 0.009060%\n",
            "\u001b[1;36m[libx264 @ 0x5649fd4f9e00] \u001b[0mframe I:3     Avg QP:27.92  size:470198\n",
            "\u001b[1;36m[libx264 @ 0x5649fd4f9e00] \u001b[0mframe P:446   Avg QP:27.71  size: 97420\n",
            "\u001b[1;36m[libx264 @ 0x5649fd4f9e00] \u001b[0mframe B:52    Avg QP:32.94  size:  2695\n",
            "\u001b[1;36m[libx264 @ 0x5649fd4f9e00] \u001b[0mconsecutive B-frames: 84.4%  0.0% 15.6%  0.0%\n",
            "\u001b[1;36m[libx264 @ 0x5649fd4f9e00] \u001b[0mmb I  I16..4:  0.5% 98.1%  1.4%\n",
            "\u001b[1;36m[libx264 @ 0x5649fd4f9e00] \u001b[0mmb P  I16..4:  0.0%  0.1%  0.0%  P16..4: 49.4%  7.1% 17.9%  0.0%  0.0%    skip:25.5%\n",
            "\u001b[1;36m[libx264 @ 0x5649fd4f9e00] \u001b[0mmb B  I16..4:  0.0%  0.0%  0.0%  B16..8: 22.3%  0.6%  0.2%  direct: 0.3%  skip:76.6%  L0:23.4% L1:73.7% BI: 2.9%\n",
            "\u001b[1;36m[libx264 @ 0x5649fd4f9e00] \u001b[0m8x8 transform intra:98.1% inter:93.8%\n",
            "\u001b[1;36m[libx264 @ 0x5649fd4f9e00] \u001b[0mcoded y,uvDC,uvAC intra: 96.9% 76.7% 67.3% inter: 50.7% 29.8% 11.7%\n",
            "\u001b[1;36m[libx264 @ 0x5649fd4f9e00] \u001b[0mi16 v,h,dc,p:  4% 22% 17% 57%\n",
            "\u001b[1;36m[libx264 @ 0x5649fd4f9e00] \u001b[0mi8 v,h,dc,ddl,ddr,vr,hd,vl,hu:  9% 14% 30%  7%  7%  6%  8%  8% 11%\n",
            "\u001b[1;36m[libx264 @ 0x5649fd4f9e00] \u001b[0mi4 v,h,dc,ddl,ddr,vr,hd,vl,hu: 14% 20% 15%  7% 10%  7% 11%  6%  9%\n",
            "\u001b[1;36m[libx264 @ 0x5649fd4f9e00] \u001b[0mi8c dc,h,v,p: 71% 12% 11%  6%\n",
            "\u001b[1;36m[libx264 @ 0x5649fd4f9e00] \u001b[0mWeighted P-Frames: Y:0.2% UV:0.0%\n",
            "\u001b[1;36m[libx264 @ 0x5649fd4f9e00] \u001b[0mref P L0: 89.2%  6.2%  3.5%  1.0%\n",
            "\u001b[1;36m[libx264 @ 0x5649fd4f9e00] \u001b[0mref B L0: 89.2%  9.7%  1.1%\n",
            "\u001b[1;36m[libx264 @ 0x5649fd4f9e00] \u001b[0mkb/s:43113.63\n"
          ]
        }
      ],
      "source": [
        "!ffmpeg -i \"style transfer bit less layers.avi\" \"style transfer bit less layers.mp4\""
      ],
      "id": "iD1di2iolcEe"
    },
    {
      "cell_type": "code",
      "source": [
        "!cp \"style transfer bit less layers.mp4\" \"/content/drive/MyDrive/Style Transfer/bit less layers/\""
      ],
      "metadata": {
        "id": "hWpzGne_S6sl"
      },
      "id": "hWpzGne_S6sl",
      "execution_count": 40,
      "outputs": []
    },
    {
      "cell_type": "code",
      "execution_count": null,
      "metadata": {
        "id": "LatICcUPcQ6u"
      },
      "outputs": [],
      "source": [
        "!cp imgs/bigboy_landscape_0.jpg .\n",
        "!cp imgs/bigboy_landscape_10.jpg .\n",
        "!cp imgs/bigboy_landscape_50.jpg .\n",
        "!cp imgs/bigboy_landscape_100.jpg .\n",
        "!cp imgs/bigboy_landscape_500.jpg .\n",
        "!cp imgs/bigboy_landscape_1000.jpg .\n",
        "!cp imgs/bigboy_landscape_2000.jpg .\n",
        "!cp imgs/bigboy_landscape_3000.jpg .\n",
        "!cp imgs/bigboy_landscape_4000.jpg .\n",
        "!cp imgs/bigboy_landscape_5000.jpg .\n",
        "!cp imgs/bigboy_landscape_6000.jpg .\n",
        "!cp imgs/bigboy_landscape_7000.jpg .\n",
        "!cp imgs/bigboy_landscape_8000.jpg .\n",
        "!cp imgs/bigboy_landscape_9000.jpg .\n",
        "!cp imgs/bigboy_landscape_10000.jpg ."
      ],
      "id": "LatICcUPcQ6u"
    },
    {
      "cell_type": "code",
      "execution_count": null,
      "metadata": {
        "id": "DHP-yNhrp6Cd"
      },
      "outputs": [],
      "source": [
        "!cp -r '/content/iter images/' '/content/drive/MyDrive/Style Transfer/train_res'"
      ],
      "id": "DHP-yNhrp6Cd"
    },
    {
      "cell_type": "code",
      "execution_count": null,
      "metadata": {
        "id": "FxTojWFZls6d"
      },
      "outputs": [],
      "source": [
        "imgs = [\n",
        "  \"bigboy_landscape_0.jpg\",\n",
        "  \"bigboy_landscape_10.jpg\",\n",
        "  \"bigboy_landscape_50.jpg\",\n",
        "  \"bigboy_landscape_100.jpg\",\n",
        "  \"bigboy_landscape_500.jpg\",\n",
        "  \"bigboy_landscape_1000.jpg\",\n",
        "  \"bigboy_landscape_2000.jpg\",\n",
        "  \"bigboy_landscape_3000.jpg\",\n",
        "  \"bigboy_landscape_4000.jpg\",\n",
        "  \"bigboy_landscape_5000.jpg\",\n",
        "  \"bigboy_landscape_6000.jpg\",\n",
        "  \"bigboy_landscape_7000.jpg\",\n",
        "  \"bigboy_landscape_8000.jpg\",\n",
        "  \"bigboy_landscape_9000.jpg\",\n",
        "  \"bigboy_landscape_10000.jpg\",\n",
        "# 'style transfer landscape.gif',\n",
        "# 'style transfer.avi'\n",
        "]\n",
        "\n",
        "try:\n",
        "  os.mkdir('iter images')\n",
        "except:\n",
        "  pass\n",
        "\n",
        "for i in imgs:\n",
        "  os.rename(i, 'iter images/'+i)"
      ],
      "id": "FxTojWFZls6d"
    },
    {
      "cell_type": "code",
      "execution_count": null,
      "metadata": {
        "id": "J8TPyOk1nPoK"
      },
      "outputs": [],
      "source": [
        "!mv '/content/style transfer more layers.avi' '/content/drive/MyDrive/Style Transfer/More layers'\n",
        "# !mv '/content/iter images' '/content/drive/MyDrive/Style Transfer/big boy landscape pix'\n",
        "# !zip -r /content/imgs.zip /content/imgs\n",
        "# from google.colab import files\n",
        "# files.download(\"/content/iter_images.zip\")"
      ],
      "id": "J8TPyOk1nPoK"
    },
    {
      "cell_type": "code",
      "execution_count": null,
      "metadata": {
        "id": "H_LsfxQ4CsKG"
      },
      "outputs": [],
      "source": [
        "images = []\n",
        "for i in imgss:\n",
        "  images.append(imageio.imread('imgs/'+i))\n",
        "imageio.mimsave('style transfer.gif', images, fps=30)"
      ],
      "id": "H_LsfxQ4CsKG"
    },
    {
      "cell_type": "code",
      "execution_count": null,
      "metadata": {
        "id": "tqVNsay8s5vw"
      },
      "outputs": [],
      "source": [
        "!rm -rf imgs 'iter images'"
      ],
      "id": "tqVNsay8s5vw"
    },
    {
      "cell_type": "code",
      "execution_count": null,
      "metadata": {
        "colab": {
          "base_uri": "https://localhost:8080/"
        },
        "id": "aiSRphRXh94_",
        "outputId": "9e88a5de-1461-4f07-dd1a-9a3b9dcf91ab"
      },
      "outputs": [
        {
          "name": "stdout",
          "output_type": "stream",
          "text": [
            "Once deleted, variables cannot be recovered. Proceed (y/[n])? y\n"
          ]
        }
      ],
      "source": [
        "%reset"
      ],
      "id": "aiSRphRXh94_"
    }
  ],
  "metadata": {
    "accelerator": "GPU",
    "colab": {
      "collapsed_sections": [
        "EUzFgPsv22w4"
      ],
      "name": "Style Transfer narutal landscape.ipynb",
      "provenance": [],
      "include_colab_link": true
    },
    "gpuClass": "standard",
    "kernelspec": {
      "display_name": "Python 3 (ipykernel)",
      "language": "python",
      "name": "python3"
    },
    "language_info": {
      "codemirror_mode": {
        "name": "ipython",
        "version": 3
      },
      "file_extension": ".py",
      "mimetype": "text/x-python",
      "name": "python",
      "nbconvert_exporter": "python",
      "pygments_lexer": "ipython3",
      "version": "3.9.6"
    },
    "widgets": {
      "application/vnd.jupyter.widget-state+json": {
        "26ede71a464349a083fc9641908b24bb": {
          "model_module": "@jupyter-widgets/controls",
          "model_name": "HBoxModel",
          "model_module_version": "1.5.0",
          "state": {
            "_dom_classes": [],
            "_model_module": "@jupyter-widgets/controls",
            "_model_module_version": "1.5.0",
            "_model_name": "HBoxModel",
            "_view_count": null,
            "_view_module": "@jupyter-widgets/controls",
            "_view_module_version": "1.5.0",
            "_view_name": "HBoxView",
            "box_style": "",
            "children": [
              "IPY_MODEL_b0f18898f4b045a38d176b53255e3363",
              "IPY_MODEL_54cbd5c64222455bbd6fab770c7ec5d0",
              "IPY_MODEL_8e535c796a994e9990c83402fad32eae"
            ],
            "layout": "IPY_MODEL_67c03f9baa9346e384c0e7aa1b99127b"
          }
        },
        "b0f18898f4b045a38d176b53255e3363": {
          "model_module": "@jupyter-widgets/controls",
          "model_name": "HTMLModel",
          "model_module_version": "1.5.0",
          "state": {
            "_dom_classes": [],
            "_model_module": "@jupyter-widgets/controls",
            "_model_module_version": "1.5.0",
            "_model_name": "HTMLModel",
            "_view_count": null,
            "_view_module": "@jupyter-widgets/controls",
            "_view_module_version": "1.5.0",
            "_view_name": "HTMLView",
            "description": "",
            "description_tooltip": null,
            "layout": "IPY_MODEL_f98deedae81e486eb2addbe65bee1fdb",
            "placeholder": "​",
            "style": "IPY_MODEL_956b2e10bd0744ff866c0d2e243a488c",
            "value": "100%"
          }
        },
        "54cbd5c64222455bbd6fab770c7ec5d0": {
          "model_module": "@jupyter-widgets/controls",
          "model_name": "FloatProgressModel",
          "model_module_version": "1.5.0",
          "state": {
            "_dom_classes": [],
            "_model_module": "@jupyter-widgets/controls",
            "_model_module_version": "1.5.0",
            "_model_name": "FloatProgressModel",
            "_view_count": null,
            "_view_module": "@jupyter-widgets/controls",
            "_view_module_version": "1.5.0",
            "_view_name": "ProgressView",
            "bar_style": "success",
            "description": "",
            "description_tooltip": null,
            "layout": "IPY_MODEL_06e478356a184c0e90b76533226b7726",
            "max": 5001,
            "min": 0,
            "orientation": "horizontal",
            "style": "IPY_MODEL_c4d61742891e4e0986b0fb2a8201027e",
            "value": 5001
          }
        },
        "8e535c796a994e9990c83402fad32eae": {
          "model_module": "@jupyter-widgets/controls",
          "model_name": "HTMLModel",
          "model_module_version": "1.5.0",
          "state": {
            "_dom_classes": [],
            "_model_module": "@jupyter-widgets/controls",
            "_model_module_version": "1.5.0",
            "_model_name": "HTMLModel",
            "_view_count": null,
            "_view_module": "@jupyter-widgets/controls",
            "_view_module_version": "1.5.0",
            "_view_name": "HTMLView",
            "description": "",
            "description_tooltip": null,
            "layout": "IPY_MODEL_5a9f9251aa524b0a8cf57bc24d7c60cb",
            "placeholder": "​",
            "style": "IPY_MODEL_6188c5c5296a417ba81881439666d89f",
            "value": " 5001/5001 [1:18:42&lt;00:00,  2.75s/it]"
          }
        },
        "67c03f9baa9346e384c0e7aa1b99127b": {
          "model_module": "@jupyter-widgets/base",
          "model_name": "LayoutModel",
          "model_module_version": "1.2.0",
          "state": {
            "_model_module": "@jupyter-widgets/base",
            "_model_module_version": "1.2.0",
            "_model_name": "LayoutModel",
            "_view_count": null,
            "_view_module": "@jupyter-widgets/base",
            "_view_module_version": "1.2.0",
            "_view_name": "LayoutView",
            "align_content": null,
            "align_items": null,
            "align_self": null,
            "border": null,
            "bottom": null,
            "display": null,
            "flex": null,
            "flex_flow": null,
            "grid_area": null,
            "grid_auto_columns": null,
            "grid_auto_flow": null,
            "grid_auto_rows": null,
            "grid_column": null,
            "grid_gap": null,
            "grid_row": null,
            "grid_template_areas": null,
            "grid_template_columns": null,
            "grid_template_rows": null,
            "height": null,
            "justify_content": null,
            "justify_items": null,
            "left": null,
            "margin": null,
            "max_height": null,
            "max_width": null,
            "min_height": null,
            "min_width": null,
            "object_fit": null,
            "object_position": null,
            "order": null,
            "overflow": null,
            "overflow_x": null,
            "overflow_y": null,
            "padding": null,
            "right": null,
            "top": null,
            "visibility": null,
            "width": null
          }
        },
        "f98deedae81e486eb2addbe65bee1fdb": {
          "model_module": "@jupyter-widgets/base",
          "model_name": "LayoutModel",
          "model_module_version": "1.2.0",
          "state": {
            "_model_module": "@jupyter-widgets/base",
            "_model_module_version": "1.2.0",
            "_model_name": "LayoutModel",
            "_view_count": null,
            "_view_module": "@jupyter-widgets/base",
            "_view_module_version": "1.2.0",
            "_view_name": "LayoutView",
            "align_content": null,
            "align_items": null,
            "align_self": null,
            "border": null,
            "bottom": null,
            "display": null,
            "flex": null,
            "flex_flow": null,
            "grid_area": null,
            "grid_auto_columns": null,
            "grid_auto_flow": null,
            "grid_auto_rows": null,
            "grid_column": null,
            "grid_gap": null,
            "grid_row": null,
            "grid_template_areas": null,
            "grid_template_columns": null,
            "grid_template_rows": null,
            "height": null,
            "justify_content": null,
            "justify_items": null,
            "left": null,
            "margin": null,
            "max_height": null,
            "max_width": null,
            "min_height": null,
            "min_width": null,
            "object_fit": null,
            "object_position": null,
            "order": null,
            "overflow": null,
            "overflow_x": null,
            "overflow_y": null,
            "padding": null,
            "right": null,
            "top": null,
            "visibility": null,
            "width": null
          }
        },
        "956b2e10bd0744ff866c0d2e243a488c": {
          "model_module": "@jupyter-widgets/controls",
          "model_name": "DescriptionStyleModel",
          "model_module_version": "1.5.0",
          "state": {
            "_model_module": "@jupyter-widgets/controls",
            "_model_module_version": "1.5.0",
            "_model_name": "DescriptionStyleModel",
            "_view_count": null,
            "_view_module": "@jupyter-widgets/base",
            "_view_module_version": "1.2.0",
            "_view_name": "StyleView",
            "description_width": ""
          }
        },
        "06e478356a184c0e90b76533226b7726": {
          "model_module": "@jupyter-widgets/base",
          "model_name": "LayoutModel",
          "model_module_version": "1.2.0",
          "state": {
            "_model_module": "@jupyter-widgets/base",
            "_model_module_version": "1.2.0",
            "_model_name": "LayoutModel",
            "_view_count": null,
            "_view_module": "@jupyter-widgets/base",
            "_view_module_version": "1.2.0",
            "_view_name": "LayoutView",
            "align_content": null,
            "align_items": null,
            "align_self": null,
            "border": null,
            "bottom": null,
            "display": null,
            "flex": null,
            "flex_flow": null,
            "grid_area": null,
            "grid_auto_columns": null,
            "grid_auto_flow": null,
            "grid_auto_rows": null,
            "grid_column": null,
            "grid_gap": null,
            "grid_row": null,
            "grid_template_areas": null,
            "grid_template_columns": null,
            "grid_template_rows": null,
            "height": null,
            "justify_content": null,
            "justify_items": null,
            "left": null,
            "margin": null,
            "max_height": null,
            "max_width": null,
            "min_height": null,
            "min_width": null,
            "object_fit": null,
            "object_position": null,
            "order": null,
            "overflow": null,
            "overflow_x": null,
            "overflow_y": null,
            "padding": null,
            "right": null,
            "top": null,
            "visibility": null,
            "width": null
          }
        },
        "c4d61742891e4e0986b0fb2a8201027e": {
          "model_module": "@jupyter-widgets/controls",
          "model_name": "ProgressStyleModel",
          "model_module_version": "1.5.0",
          "state": {
            "_model_module": "@jupyter-widgets/controls",
            "_model_module_version": "1.5.0",
            "_model_name": "ProgressStyleModel",
            "_view_count": null,
            "_view_module": "@jupyter-widgets/base",
            "_view_module_version": "1.2.0",
            "_view_name": "StyleView",
            "bar_color": null,
            "description_width": ""
          }
        },
        "5a9f9251aa524b0a8cf57bc24d7c60cb": {
          "model_module": "@jupyter-widgets/base",
          "model_name": "LayoutModel",
          "model_module_version": "1.2.0",
          "state": {
            "_model_module": "@jupyter-widgets/base",
            "_model_module_version": "1.2.0",
            "_model_name": "LayoutModel",
            "_view_count": null,
            "_view_module": "@jupyter-widgets/base",
            "_view_module_version": "1.2.0",
            "_view_name": "LayoutView",
            "align_content": null,
            "align_items": null,
            "align_self": null,
            "border": null,
            "bottom": null,
            "display": null,
            "flex": null,
            "flex_flow": null,
            "grid_area": null,
            "grid_auto_columns": null,
            "grid_auto_flow": null,
            "grid_auto_rows": null,
            "grid_column": null,
            "grid_gap": null,
            "grid_row": null,
            "grid_template_areas": null,
            "grid_template_columns": null,
            "grid_template_rows": null,
            "height": null,
            "justify_content": null,
            "justify_items": null,
            "left": null,
            "margin": null,
            "max_height": null,
            "max_width": null,
            "min_height": null,
            "min_width": null,
            "object_fit": null,
            "object_position": null,
            "order": null,
            "overflow": null,
            "overflow_x": null,
            "overflow_y": null,
            "padding": null,
            "right": null,
            "top": null,
            "visibility": null,
            "width": null
          }
        },
        "6188c5c5296a417ba81881439666d89f": {
          "model_module": "@jupyter-widgets/controls",
          "model_name": "DescriptionStyleModel",
          "model_module_version": "1.5.0",
          "state": {
            "_model_module": "@jupyter-widgets/controls",
            "_model_module_version": "1.5.0",
            "_model_name": "DescriptionStyleModel",
            "_view_count": null,
            "_view_module": "@jupyter-widgets/base",
            "_view_module_version": "1.2.0",
            "_view_name": "StyleView",
            "description_width": ""
          }
        }
      }
    }
  },
  "nbformat": 4,
  "nbformat_minor": 5
}