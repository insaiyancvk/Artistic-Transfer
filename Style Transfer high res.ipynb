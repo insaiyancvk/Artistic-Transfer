{
  "cells": [
    {
      "cell_type": "markdown",
      "metadata": {
        "id": "view-in-github",
        "colab_type": "text"
      },
      "source": [
        "<a href=\"https://colab.research.google.com/github/insaiyancvk/Mad-Artist/blob/main/Style%20Transfer%20high%20res.ipynb\" target=\"_parent\"><img src=\"https://colab.research.google.com/assets/colab-badge.svg\" alt=\"Open In Colab\"/></a>"
      ]
    },
    {
      "cell_type": "code",
      "source": [
        "from google.colab import drive\n",
        "drive.mount('/content/drive',\n",
        "            # force_remount = True\n",
        ")"
      ],
      "metadata": {
        "colab": {
          "base_uri": "https://localhost:8080/"
        },
        "id": "Tv4xbwQdtj1C",
        "outputId": "aff10c1f-fb22-402a-e670-8eb76a7bb96a"
      },
      "id": "Tv4xbwQdtj1C",
      "execution_count": 1,
      "outputs": [
        {
          "output_type": "stream",
          "name": "stdout",
          "text": [
            "Mounted at /content/drive\n"
          ]
        }
      ]
    },
    {
      "cell_type": "code",
      "source": [
        "!mv '/content/style transfer.mp4' '/content/drive/MyDrive/Style transfer/big boy landscape/'"
      ],
      "metadata": {
        "colab": {
          "base_uri": "https://localhost:8080/"
        },
        "id": "BwZ-G1nrhVe6",
        "outputId": "c325b4e9-1327-43fc-d5c8-74e3d5b434b1"
      },
      "id": "BwZ-G1nrhVe6",
      "execution_count": 9,
      "outputs": [
        {
          "output_type": "stream",
          "name": "stdout",
          "text": [
            "mv: cannot move '/content/style transfer.mp4' to '/content/drive/MyDrive/Style transfer/big boy landscape/': No such file or directory\n"
          ]
        }
      ]
    },
    {
      "cell_type": "code",
      "source": [
        "WORKSPACE = {\n",
        "    'style_root': '/content/drive/MyDrive/Style Transfer/',\n",
        "    'train_res': '/content/drive/MyDrive/Style Transfer/train_res'\n",
        "    }"
      ],
      "metadata": {
        "id": "9MpkypgNtk8Z"
      },
      "id": "9MpkypgNtk8Z",
      "execution_count": null,
      "outputs": []
    },
    {
      "cell_type": "code",
      "source": [
        "import os"
      ],
      "metadata": {
        "id": "8NxG4KTeuWdq"
      },
      "id": "8NxG4KTeuWdq",
      "execution_count": null,
      "outputs": []
    },
    {
      "cell_type": "code",
      "source": [
        "for key, value in WORKSPACE.items():\n",
        "  if os.path.isdir(value):\n",
        "    print(f\"{value} exists\")\n",
        "  else:\n",
        "    print(f\"{value} doesn't exist. Creating one\")\n",
        "    os.mkdir(value)"
      ],
      "metadata": {
        "colab": {
          "base_uri": "https://localhost:8080/"
        },
        "id": "K1G2rUkeuEr1",
        "outputId": "3c846331-be42-4fdb-dac1-064fc46f3d70"
      },
      "id": "K1G2rUkeuEr1",
      "execution_count": null,
      "outputs": [
        {
          "output_type": "stream",
          "name": "stdout",
          "text": [
            "/content/drive/MyDrive/Style Transfer/ exists\n",
            "/content/drive/MyDrive/Style Transfer/train_res exists\n"
          ]
        }
      ]
    },
    {
      "cell_type": "code",
      "source": [
        "%matplotlib inline\n",
        "import torch\n",
        "import torchvision\n",
        "from torch import nn"
      ],
      "metadata": {
        "id": "ekW9x6d2uJ9y"
      },
      "id": "ekW9x6d2uJ9y",
      "execution_count": null,
      "outputs": []
    },
    {
      "cell_type": "code",
      "source": [
        "!pip install -q d2l"
      ],
      "metadata": {
        "id": "hSW_P_WszAAK"
      },
      "id": "hSW_P_WszAAK",
      "execution_count": null,
      "outputs": []
    },
    {
      "cell_type": "markdown",
      "source": [
        "## Check style and content images"
      ],
      "metadata": {
        "id": "Ap_2yPQj2x8R"
      },
      "id": "Ap_2yPQj2x8R"
    },
    {
      "cell_type": "code",
      "source": [
        "from d2l import torch as d2l\n",
        "d2l.set_figsize()\n",
        "from PIL import Image\n",
        "import matplotlib.pyplot as plt"
      ],
      "metadata": {
        "id": "-KF7BPMKzCqA"
      },
      "id": "-KF7BPMKzCqA",
      "execution_count": null,
      "outputs": []
    },
    {
      "cell_type": "code",
      "source": [
        "content_img = Image.open('/content/drive/MyDrive/Style Transfer/content landscape.jpg')"
      ],
      "metadata": {
        "id": "N8jEqdM6zRCu"
      },
      "id": "N8jEqdM6zRCu",
      "execution_count": null,
      "outputs": []
    },
    {
      "cell_type": "code",
      "source": [
        "d2l.plt.imshow(content_img)"
      ],
      "metadata": {
        "colab": {
          "base_uri": "https://localhost:8080/",
          "height": 259
        },
        "id": "NdALx42wzgD5",
        "outputId": "908734ea-cec6-48f4-dd35-eff2f255fe8c"
      },
      "id": "NdALx42wzgD5",
      "execution_count": null,
      "outputs": [
        {
          "output_type": "execute_result",
          "data": {
            "text/plain": [
              "<matplotlib.image.AxesImage at 0x7fa4304a2c50>"
            ]
          },
          "metadata": {},
          "execution_count": 9
        },
        {
          "output_type": "display_data",
          "data": {
            "text/plain": [
              "<Figure size 252x180 with 1 Axes>"
            ],
            "image/svg+xml": "<?xml version=\"1.0\" encoding=\"utf-8\" standalone=\"no\"?>\n<!DOCTYPE svg PUBLIC \"-//W3C//DTD SVG 1.1//EN\"\n  \"http://www.w3.org/Graphics/SVG/1.1/DTD/svg11.dtd\">\n<svg xmlns:xlink=\"http://www.w3.org/1999/xlink\" width=\"242.729781pt\" height=\"165.057pt\" viewBox=\"0 0 242.729781 165.057\" xmlns=\"http://www.w3.org/2000/svg\" version=\"1.1\">\n <metadata>\n  <rdf:RDF xmlns:dc=\"http://purl.org/dc/elements/1.1/\" xmlns:cc=\"http://creativecommons.org/ns#\" xmlns:rdf=\"http://www.w3.org/1999/02/22-rdf-syntax-ns#\">\n   <cc:Work>\n    <dc:type rdf:resource=\"http://purl.org/dc/dcmitype/StillImage\"/>\n    <dc:date>2022-08-13T13:10:39.738575</dc:date>\n    <dc:format>image/svg+xml</dc:format>\n    <dc:creator>\n     <cc:Agent>\n      <dc:title>Matplotlib v3.5.1, https://matplotlib.org/</dc:title>\n     </cc:Agent>\n    </dc:creator>\n   </cc:Work>\n  </rdf:RDF>\n </metadata>\n <defs>\n  <style type=\"text/css\">*{stroke-linejoin: round; stroke-linecap: butt}</style>\n </defs>\n <g id=\"figure_1\">\n  <g id=\"patch_1\">\n   <path d=\"M 0 165.057 \nL 242.729781 165.057 \nL 242.729781 0 \nL 0 0 \nL 0 165.057 \nz\n\" style=\"fill: none\"/>\n  </g>\n  <g id=\"axes_1\">\n   <g id=\"patch_2\">\n    <path d=\"M 39.65 141.178875 \nL 234.95 141.178875 \nL 234.95 10.938187 \nL 39.65 10.938187 \nz\n\" style=\"fill: #ffffff\"/>\n   </g>\n   <g clip-path=\"url(#p44d9e0a7cc)\">\n    <image xlink:href=\"data:image/png;base64,\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\" id=\"image9137f6cfbe\" transform=\"scale(1 -1)translate(0 -131)\" x=\"39.65\" y=\"-10.178875\" width=\"196\" height=\"131\"/>\n   </g>\n   <g id=\"matplotlib.axis_1\">\n    <g id=\"xtick_1\">\n     <g id=\"line2d_1\">\n      <defs>\n       <path id=\"m08ffc5e3c8\" d=\"M 0 0 \nL 0 3.5 \n\" style=\"stroke: #000000; stroke-width: 0.8\"/>\n      </defs>\n      <g>\n       <use xlink:href=\"#m08ffc5e3c8\" x=\"39.711031\" y=\"141.178875\" style=\"stroke: #000000; stroke-width: 0.8\"/>\n      </g>\n     </g>\n     <g id=\"text_1\">\n      <!-- 0 -->\n      <g transform=\"translate(36.529781 155.777312)scale(0.1 -0.1)\">\n       <defs>\n        <path id=\"DejaVuSans-30\" d=\"M 2034 4250 \nQ 1547 4250 1301 3770 \nQ 1056 3291 1056 2328 \nQ 1056 1369 1301 889 \nQ 1547 409 2034 409 \nQ 2525 409 2770 889 \nQ 3016 1369 3016 2328 \nQ 3016 3291 2770 3770 \nQ 2525 4250 2034 4250 \nz\nM 2034 4750 \nQ 2819 4750 3233 4129 \nQ 3647 3509 3647 2328 \nQ 3647 1150 3233 529 \nQ 2819 -91 2034 -91 \nQ 1250 -91 836 529 \nQ 422 1150 422 2328 \nQ 422 3509 836 4129 \nQ 1250 4750 2034 4750 \nz\n\" transform=\"scale(0.015625)\"/>\n       </defs>\n       <use xlink:href=\"#DejaVuSans-30\"/>\n      </g>\n     </g>\n    </g>\n    <g id=\"xtick_2\">\n     <g id=\"line2d_2\">\n      <g>\n       <use xlink:href=\"#m08ffc5e3c8\" x=\"100.742281\" y=\"141.178875\" style=\"stroke: #000000; stroke-width: 0.8\"/>\n      </g>\n     </g>\n     <g id=\"text_2\">\n      <!-- 500 -->\n      <g transform=\"translate(91.198531 155.777312)scale(0.1 -0.1)\">\n       <defs>\n        <path id=\"DejaVuSans-35\" d=\"M 691 4666 \nL 3169 4666 \nL 3169 4134 \nL 1269 4134 \nL 1269 2991 \nQ 1406 3038 1543 3061 \nQ 1681 3084 1819 3084 \nQ 2600 3084 3056 2656 \nQ 3513 2228 3513 1497 \nQ 3513 744 3044 326 \nQ 2575 -91 1722 -91 \nQ 1428 -91 1123 -41 \nQ 819 9 494 109 \nL 494 744 \nQ 775 591 1075 516 \nQ 1375 441 1709 441 \nQ 2250 441 2565 725 \nQ 2881 1009 2881 1497 \nQ 2881 1984 2565 2268 \nQ 2250 2553 1709 2553 \nQ 1456 2553 1204 2497 \nQ 953 2441 691 2322 \nL 691 4666 \nz\n\" transform=\"scale(0.015625)\"/>\n       </defs>\n       <use xlink:href=\"#DejaVuSans-35\"/>\n       <use xlink:href=\"#DejaVuSans-30\" x=\"63.623047\"/>\n       <use xlink:href=\"#DejaVuSans-30\" x=\"127.246094\"/>\n      </g>\n     </g>\n    </g>\n    <g id=\"xtick_3\">\n     <g id=\"line2d_3\">\n      <g>\n       <use xlink:href=\"#m08ffc5e3c8\" x=\"161.773531\" y=\"141.178875\" style=\"stroke: #000000; stroke-width: 0.8\"/>\n      </g>\n     </g>\n     <g id=\"text_3\">\n      <!-- 1000 -->\n      <g transform=\"translate(149.048531 155.777312)scale(0.1 -0.1)\">\n       <defs>\n        <path id=\"DejaVuSans-31\" d=\"M 794 531 \nL 1825 531 \nL 1825 4091 \nL 703 3866 \nL 703 4441 \nL 1819 4666 \nL 2450 4666 \nL 2450 531 \nL 3481 531 \nL 3481 0 \nL 794 0 \nL 794 531 \nz\n\" transform=\"scale(0.015625)\"/>\n       </defs>\n       <use xlink:href=\"#DejaVuSans-31\"/>\n       <use xlink:href=\"#DejaVuSans-30\" x=\"63.623047\"/>\n       <use xlink:href=\"#DejaVuSans-30\" x=\"127.246094\"/>\n       <use xlink:href=\"#DejaVuSans-30\" x=\"190.869141\"/>\n      </g>\n     </g>\n    </g>\n    <g id=\"xtick_4\">\n     <g id=\"line2d_4\">\n      <g>\n       <use xlink:href=\"#m08ffc5e3c8\" x=\"222.804781\" y=\"141.178875\" style=\"stroke: #000000; stroke-width: 0.8\"/>\n      </g>\n     </g>\n     <g id=\"text_4\">\n      <!-- 1500 -->\n      <g transform=\"translate(210.079781 155.777312)scale(0.1 -0.1)\">\n       <use xlink:href=\"#DejaVuSans-31\"/>\n       <use xlink:href=\"#DejaVuSans-35\" x=\"63.623047\"/>\n       <use xlink:href=\"#DejaVuSans-30\" x=\"127.246094\"/>\n       <use xlink:href=\"#DejaVuSans-30\" x=\"190.869141\"/>\n      </g>\n     </g>\n    </g>\n   </g>\n   <g id=\"matplotlib.axis_2\">\n    <g id=\"ytick_1\">\n     <g id=\"line2d_5\">\n      <defs>\n       <path id=\"m707b27d9b7\" d=\"M 0 0 \nL -3.5 0 \n\" style=\"stroke: #000000; stroke-width: 0.8\"/>\n      </defs>\n      <g>\n       <use xlink:href=\"#m707b27d9b7\" x=\"39.65\" y=\"10.999219\" style=\"stroke: #000000; stroke-width: 0.8\"/>\n      </g>\n     </g>\n     <g id=\"text_5\">\n      <!-- 0 -->\n      <g transform=\"translate(26.2875 14.798437)scale(0.1 -0.1)\">\n       <use xlink:href=\"#DejaVuSans-30\"/>\n      </g>\n     </g>\n    </g>\n    <g id=\"ytick_2\">\n     <g id=\"line2d_6\">\n      <g>\n       <use xlink:href=\"#m707b27d9b7\" x=\"39.65\" y=\"35.411719\" style=\"stroke: #000000; stroke-width: 0.8\"/>\n      </g>\n     </g>\n     <g id=\"text_6\">\n      <!-- 200 -->\n      <g transform=\"translate(13.5625 39.210937)scale(0.1 -0.1)\">\n       <defs>\n        <path id=\"DejaVuSans-32\" d=\"M 1228 531 \nL 3431 531 \nL 3431 0 \nL 469 0 \nL 469 531 \nQ 828 903 1448 1529 \nQ 2069 2156 2228 2338 \nQ 2531 2678 2651 2914 \nQ 2772 3150 2772 3378 \nQ 2772 3750 2511 3984 \nQ 2250 4219 1831 4219 \nQ 1534 4219 1204 4116 \nQ 875 4013 500 3803 \nL 500 4441 \nQ 881 4594 1212 4672 \nQ 1544 4750 1819 4750 \nQ 2544 4750 2975 4387 \nQ 3406 4025 3406 3419 \nQ 3406 3131 3298 2873 \nQ 3191 2616 2906 2266 \nQ 2828 2175 2409 1742 \nQ 1991 1309 1228 531 \nz\n\" transform=\"scale(0.015625)\"/>\n       </defs>\n       <use xlink:href=\"#DejaVuSans-32\"/>\n       <use xlink:href=\"#DejaVuSans-30\" x=\"63.623047\"/>\n       <use xlink:href=\"#DejaVuSans-30\" x=\"127.246094\"/>\n      </g>\n     </g>\n    </g>\n    <g id=\"ytick_3\">\n     <g id=\"line2d_7\">\n      <g>\n       <use xlink:href=\"#m707b27d9b7\" x=\"39.65\" y=\"59.824219\" style=\"stroke: #000000; stroke-width: 0.8\"/>\n      </g>\n     </g>\n     <g id=\"text_7\">\n      <!-- 400 -->\n      <g transform=\"translate(13.5625 63.623437)scale(0.1 -0.1)\">\n       <defs>\n        <path id=\"DejaVuSans-34\" d=\"M 2419 4116 \nL 825 1625 \nL 2419 1625 \nL 2419 4116 \nz\nM 2253 4666 \nL 3047 4666 \nL 3047 1625 \nL 3713 1625 \nL 3713 1100 \nL 3047 1100 \nL 3047 0 \nL 2419 0 \nL 2419 1100 \nL 313 1100 \nL 313 1709 \nL 2253 4666 \nz\n\" transform=\"scale(0.015625)\"/>\n       </defs>\n       <use xlink:href=\"#DejaVuSans-34\"/>\n       <use xlink:href=\"#DejaVuSans-30\" x=\"63.623047\"/>\n       <use xlink:href=\"#DejaVuSans-30\" x=\"127.246094\"/>\n      </g>\n     </g>\n    </g>\n    <g id=\"ytick_4\">\n     <g id=\"line2d_8\">\n      <g>\n       <use xlink:href=\"#m707b27d9b7\" x=\"39.65\" y=\"84.236719\" style=\"stroke: #000000; stroke-width: 0.8\"/>\n      </g>\n     </g>\n     <g id=\"text_8\">\n      <!-- 600 -->\n      <g transform=\"translate(13.5625 88.035937)scale(0.1 -0.1)\">\n       <defs>\n        <path id=\"DejaVuSans-36\" d=\"M 2113 2584 \nQ 1688 2584 1439 2293 \nQ 1191 2003 1191 1497 \nQ 1191 994 1439 701 \nQ 1688 409 2113 409 \nQ 2538 409 2786 701 \nQ 3034 994 3034 1497 \nQ 3034 2003 2786 2293 \nQ 2538 2584 2113 2584 \nz\nM 3366 4563 \nL 3366 3988 \nQ 3128 4100 2886 4159 \nQ 2644 4219 2406 4219 \nQ 1781 4219 1451 3797 \nQ 1122 3375 1075 2522 \nQ 1259 2794 1537 2939 \nQ 1816 3084 2150 3084 \nQ 2853 3084 3261 2657 \nQ 3669 2231 3669 1497 \nQ 3669 778 3244 343 \nQ 2819 -91 2113 -91 \nQ 1303 -91 875 529 \nQ 447 1150 447 2328 \nQ 447 3434 972 4092 \nQ 1497 4750 2381 4750 \nQ 2619 4750 2861 4703 \nQ 3103 4656 3366 4563 \nz\n\" transform=\"scale(0.015625)\"/>\n       </defs>\n       <use xlink:href=\"#DejaVuSans-36\"/>\n       <use xlink:href=\"#DejaVuSans-30\" x=\"63.623047\"/>\n       <use xlink:href=\"#DejaVuSans-30\" x=\"127.246094\"/>\n      </g>\n     </g>\n    </g>\n    <g id=\"ytick_5\">\n     <g id=\"line2d_9\">\n      <g>\n       <use xlink:href=\"#m707b27d9b7\" x=\"39.65\" y=\"108.649219\" style=\"stroke: #000000; stroke-width: 0.8\"/>\n      </g>\n     </g>\n     <g id=\"text_9\">\n      <!-- 800 -->\n      <g transform=\"translate(13.5625 112.448437)scale(0.1 -0.1)\">\n       <defs>\n        <path id=\"DejaVuSans-38\" d=\"M 2034 2216 \nQ 1584 2216 1326 1975 \nQ 1069 1734 1069 1313 \nQ 1069 891 1326 650 \nQ 1584 409 2034 409 \nQ 2484 409 2743 651 \nQ 3003 894 3003 1313 \nQ 3003 1734 2745 1975 \nQ 2488 2216 2034 2216 \nz\nM 1403 2484 \nQ 997 2584 770 2862 \nQ 544 3141 544 3541 \nQ 544 4100 942 4425 \nQ 1341 4750 2034 4750 \nQ 2731 4750 3128 4425 \nQ 3525 4100 3525 3541 \nQ 3525 3141 3298 2862 \nQ 3072 2584 2669 2484 \nQ 3125 2378 3379 2068 \nQ 3634 1759 3634 1313 \nQ 3634 634 3220 271 \nQ 2806 -91 2034 -91 \nQ 1263 -91 848 271 \nQ 434 634 434 1313 \nQ 434 1759 690 2068 \nQ 947 2378 1403 2484 \nz\nM 1172 3481 \nQ 1172 3119 1398 2916 \nQ 1625 2713 2034 2713 \nQ 2441 2713 2670 2916 \nQ 2900 3119 2900 3481 \nQ 2900 3844 2670 4047 \nQ 2441 4250 2034 4250 \nQ 1625 4250 1398 4047 \nQ 1172 3844 1172 3481 \nz\n\" transform=\"scale(0.015625)\"/>\n       </defs>\n       <use xlink:href=\"#DejaVuSans-38\"/>\n       <use xlink:href=\"#DejaVuSans-30\" x=\"63.623047\"/>\n       <use xlink:href=\"#DejaVuSans-30\" x=\"127.246094\"/>\n      </g>\n     </g>\n    </g>\n    <g id=\"ytick_6\">\n     <g id=\"line2d_10\">\n      <g>\n       <use xlink:href=\"#m707b27d9b7\" x=\"39.65\" y=\"133.061719\" style=\"stroke: #000000; stroke-width: 0.8\"/>\n      </g>\n     </g>\n     <g id=\"text_10\">\n      <!-- 1000 -->\n      <g transform=\"translate(7.2 136.860937)scale(0.1 -0.1)\">\n       <use xlink:href=\"#DejaVuSans-31\"/>\n       <use xlink:href=\"#DejaVuSans-30\" x=\"63.623047\"/>\n       <use xlink:href=\"#DejaVuSans-30\" x=\"127.246094\"/>\n       <use xlink:href=\"#DejaVuSans-30\" x=\"190.869141\"/>\n      </g>\n     </g>\n    </g>\n   </g>\n   <g id=\"patch_3\">\n    <path d=\"M 39.65 141.178875 \nL 39.65 10.938187 \n\" style=\"fill: none; stroke: #000000; stroke-width: 0.8; stroke-linejoin: miter; stroke-linecap: square\"/>\n   </g>\n   <g id=\"patch_4\">\n    <path d=\"M 234.95 141.178875 \nL 234.95 10.938187 \n\" style=\"fill: none; stroke: #000000; stroke-width: 0.8; stroke-linejoin: miter; stroke-linecap: square\"/>\n   </g>\n   <g id=\"patch_5\">\n    <path d=\"M 39.65 141.178875 \nL 234.95 141.178875 \n\" style=\"fill: none; stroke: #000000; stroke-width: 0.8; stroke-linejoin: miter; stroke-linecap: square\"/>\n   </g>\n   <g id=\"patch_6\">\n    <path d=\"M 39.65 10.938187 \nL 234.95 10.938187 \n\" style=\"fill: none; stroke: #000000; stroke-width: 0.8; stroke-linejoin: miter; stroke-linecap: square\"/>\n   </g>\n  </g>\n </g>\n <defs>\n  <clipPath id=\"p44d9e0a7cc\">\n   <rect x=\"39.65\" y=\"10.938187\" width=\"195.3\" height=\"130.240687\"/>\n  </clipPath>\n </defs>\n</svg>\n"
          },
          "metadata": {
            "needs_background": "light"
          }
        }
      ]
    },
    {
      "cell_type": "code",
      "source": [
        "style_img = Image.open('/content/drive/MyDrive/Style Transfer/style landscape.jpg')\n",
        "d2l.plt.imshow(style_img)"
      ],
      "metadata": {
        "colab": {
          "base_uri": "https://localhost:8080/",
          "height": 232
        },
        "id": "ZvVGpAfV0zRK",
        "outputId": "e6226a70-eac9-4138-aa11-a14a085851e7"
      },
      "id": "ZvVGpAfV0zRK",
      "execution_count": null,
      "outputs": [
        {
          "output_type": "execute_result",
          "data": {
            "text/plain": [
              "<matplotlib.image.AxesImage at 0x7fa4304b0f10>"
            ]
          },
          "metadata": {},
          "execution_count": 10
        },
        {
          "output_type": "display_data",
          "data": {
            "text/plain": [
              "<Figure size 252x180 with 1 Axes>"
            ],
            "image/svg+xml": "<?xml version=\"1.0\" encoding=\"utf-8\" standalone=\"no\"?>\n<!DOCTYPE svg PUBLIC \"-//W3C//DTD SVG 1.1//EN\"\n  \"http://www.w3.org/Graphics/SVG/1.1/DTD/svg11.dtd\">\n<svg xmlns:xlink=\"http://www.w3.org/1999/xlink\" width=\"242.15pt\" height=\"144.682734pt\" viewBox=\"0 0 242.15 144.682734\" xmlns=\"http://www.w3.org/2000/svg\" version=\"1.1\">\n <metadata>\n  <rdf:RDF xmlns:dc=\"http://purl.org/dc/elements/1.1/\" xmlns:cc=\"http://creativecommons.org/ns#\" xmlns:rdf=\"http://www.w3.org/1999/02/22-rdf-syntax-ns#\">\n   <cc:Work>\n    <dc:type rdf:resource=\"http://purl.org/dc/dcmitype/StillImage\"/>\n    <dc:date>2022-08-13T13:10:40.321570</dc:date>\n    <dc:format>image/svg+xml</dc:format>\n    <dc:creator>\n     <cc:Agent>\n      <dc:title>Matplotlib v3.5.1, https://matplotlib.org/</dc:title>\n     </cc:Agent>\n    </dc:creator>\n   </cc:Work>\n  </rdf:RDF>\n </metadata>\n <defs>\n  <style type=\"text/css\">*{stroke-linejoin: round; stroke-linecap: butt}</style>\n </defs>\n <g id=\"figure_1\">\n  <g id=\"patch_1\">\n   <path d=\"M 0 144.682734 \nL 242.15 144.682734 \nL 242.15 0 \nL 0 0 \nL 0 144.682734 \nz\n\" style=\"fill: none\"/>\n  </g>\n  <g id=\"axes_1\">\n   <g id=\"patch_2\">\n    <path d=\"M 39.65 120.804609 \nL 234.95 120.804609 \nL 234.95 10.948359 \nL 39.65 10.948359 \nz\n\" style=\"fill: #ffffff\"/>\n   </g>\n   <g clip-path=\"url(#pb66f1702bb)\">\n    <image xlink:href=\"data:image/png;base64,\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\" id=\"image2b3fa97601\" transform=\"scale(1 -1)translate(0 -110)\" x=\"39.65\" y=\"-10.804609\" width=\"196\" height=\"110\"/>\n   </g>\n   <g id=\"matplotlib.axis_1\">\n    <g id=\"xtick_1\">\n     <g id=\"line2d_1\">\n      <defs>\n       <path id=\"m06c2f8a895\" d=\"M 0 0 \nL 0 3.5 \n\" style=\"stroke: #000000; stroke-width: 0.8\"/>\n      </defs>\n      <g>\n       <use xlink:href=\"#m06c2f8a895\" x=\"39.700859\" y=\"120.804609\" style=\"stroke: #000000; stroke-width: 0.8\"/>\n      </g>\n     </g>\n     <g id=\"text_1\">\n      <!-- 0 -->\n      <g transform=\"translate(36.519609 135.403047)scale(0.1 -0.1)\">\n       <defs>\n        <path id=\"DejaVuSans-30\" d=\"M 2034 4250 \nQ 1547 4250 1301 3770 \nQ 1056 3291 1056 2328 \nQ 1056 1369 1301 889 \nQ 1547 409 2034 409 \nQ 2525 409 2770 889 \nQ 3016 1369 3016 2328 \nQ 3016 3291 2770 3770 \nQ 2525 4250 2034 4250 \nz\nM 2034 4750 \nQ 2819 4750 3233 4129 \nQ 3647 3509 3647 2328 \nQ 3647 1150 3233 529 \nQ 2819 -91 2034 -91 \nQ 1250 -91 836 529 \nQ 422 1150 422 2328 \nQ 422 3509 836 4129 \nQ 1250 4750 2034 4750 \nz\n\" transform=\"scale(0.015625)\"/>\n       </defs>\n       <use xlink:href=\"#DejaVuSans-30\"/>\n      </g>\n     </g>\n    </g>\n    <g id=\"xtick_2\">\n     <g id=\"line2d_2\">\n      <g>\n       <use xlink:href=\"#m06c2f8a895\" x=\"90.560234\" y=\"120.804609\" style=\"stroke: #000000; stroke-width: 0.8\"/>\n      </g>\n     </g>\n     <g id=\"text_2\">\n      <!-- 500 -->\n      <g transform=\"translate(81.016484 135.403047)scale(0.1 -0.1)\">\n       <defs>\n        <path id=\"DejaVuSans-35\" d=\"M 691 4666 \nL 3169 4666 \nL 3169 4134 \nL 1269 4134 \nL 1269 2991 \nQ 1406 3038 1543 3061 \nQ 1681 3084 1819 3084 \nQ 2600 3084 3056 2656 \nQ 3513 2228 3513 1497 \nQ 3513 744 3044 326 \nQ 2575 -91 1722 -91 \nQ 1428 -91 1123 -41 \nQ 819 9 494 109 \nL 494 744 \nQ 775 591 1075 516 \nQ 1375 441 1709 441 \nQ 2250 441 2565 725 \nQ 2881 1009 2881 1497 \nQ 2881 1984 2565 2268 \nQ 2250 2553 1709 2553 \nQ 1456 2553 1204 2497 \nQ 953 2441 691 2322 \nL 691 4666 \nz\n\" transform=\"scale(0.015625)\"/>\n       </defs>\n       <use xlink:href=\"#DejaVuSans-35\"/>\n       <use xlink:href=\"#DejaVuSans-30\" x=\"63.623047\"/>\n       <use xlink:href=\"#DejaVuSans-30\" x=\"127.246094\"/>\n      </g>\n     </g>\n    </g>\n    <g id=\"xtick_3\">\n     <g id=\"line2d_3\">\n      <g>\n       <use xlink:href=\"#m06c2f8a895\" x=\"141.419609\" y=\"120.804609\" style=\"stroke: #000000; stroke-width: 0.8\"/>\n      </g>\n     </g>\n     <g id=\"text_3\">\n      <!-- 1000 -->\n      <g transform=\"translate(128.694609 135.403047)scale(0.1 -0.1)\">\n       <defs>\n        <path id=\"DejaVuSans-31\" d=\"M 794 531 \nL 1825 531 \nL 1825 4091 \nL 703 3866 \nL 703 4441 \nL 1819 4666 \nL 2450 4666 \nL 2450 531 \nL 3481 531 \nL 3481 0 \nL 794 0 \nL 794 531 \nz\n\" transform=\"scale(0.015625)\"/>\n       </defs>\n       <use xlink:href=\"#DejaVuSans-31\"/>\n       <use xlink:href=\"#DejaVuSans-30\" x=\"63.623047\"/>\n       <use xlink:href=\"#DejaVuSans-30\" x=\"127.246094\"/>\n       <use xlink:href=\"#DejaVuSans-30\" x=\"190.869141\"/>\n      </g>\n     </g>\n    </g>\n    <g id=\"xtick_4\">\n     <g id=\"line2d_4\">\n      <g>\n       <use xlink:href=\"#m06c2f8a895\" x=\"192.278984\" y=\"120.804609\" style=\"stroke: #000000; stroke-width: 0.8\"/>\n      </g>\n     </g>\n     <g id=\"text_4\">\n      <!-- 1500 -->\n      <g transform=\"translate(179.553984 135.403047)scale(0.1 -0.1)\">\n       <use xlink:href=\"#DejaVuSans-31\"/>\n       <use xlink:href=\"#DejaVuSans-35\" x=\"63.623047\"/>\n       <use xlink:href=\"#DejaVuSans-30\" x=\"127.246094\"/>\n       <use xlink:href=\"#DejaVuSans-30\" x=\"190.869141\"/>\n      </g>\n     </g>\n    </g>\n   </g>\n   <g id=\"matplotlib.axis_2\">\n    <g id=\"ytick_1\">\n     <g id=\"line2d_5\">\n      <defs>\n       <path id=\"m37287e40f3\" d=\"M 0 0 \nL -3.5 0 \n\" style=\"stroke: #000000; stroke-width: 0.8\"/>\n      </defs>\n      <g>\n       <use xlink:href=\"#m37287e40f3\" x=\"39.65\" y=\"10.999219\" style=\"stroke: #000000; stroke-width: 0.8\"/>\n      </g>\n     </g>\n     <g id=\"text_5\">\n      <!-- 0 -->\n      <g transform=\"translate(26.2875 14.798437)scale(0.1 -0.1)\">\n       <use xlink:href=\"#DejaVuSans-30\"/>\n      </g>\n     </g>\n    </g>\n    <g id=\"ytick_2\">\n     <g id=\"line2d_6\">\n      <g>\n       <use xlink:href=\"#m37287e40f3\" x=\"39.65\" y=\"36.428906\" style=\"stroke: #000000; stroke-width: 0.8\"/>\n      </g>\n     </g>\n     <g id=\"text_6\">\n      <!-- 250 -->\n      <g transform=\"translate(13.5625 40.228125)scale(0.1 -0.1)\">\n       <defs>\n        <path id=\"DejaVuSans-32\" d=\"M 1228 531 \nL 3431 531 \nL 3431 0 \nL 469 0 \nL 469 531 \nQ 828 903 1448 1529 \nQ 2069 2156 2228 2338 \nQ 2531 2678 2651 2914 \nQ 2772 3150 2772 3378 \nQ 2772 3750 2511 3984 \nQ 2250 4219 1831 4219 \nQ 1534 4219 1204 4116 \nQ 875 4013 500 3803 \nL 500 4441 \nQ 881 4594 1212 4672 \nQ 1544 4750 1819 4750 \nQ 2544 4750 2975 4387 \nQ 3406 4025 3406 3419 \nQ 3406 3131 3298 2873 \nQ 3191 2616 2906 2266 \nQ 2828 2175 2409 1742 \nQ 1991 1309 1228 531 \nz\n\" transform=\"scale(0.015625)\"/>\n       </defs>\n       <use xlink:href=\"#DejaVuSans-32\"/>\n       <use xlink:href=\"#DejaVuSans-35\" x=\"63.623047\"/>\n       <use xlink:href=\"#DejaVuSans-30\" x=\"127.246094\"/>\n      </g>\n     </g>\n    </g>\n    <g id=\"ytick_3\">\n     <g id=\"line2d_7\">\n      <g>\n       <use xlink:href=\"#m37287e40f3\" x=\"39.65\" y=\"61.858594\" style=\"stroke: #000000; stroke-width: 0.8\"/>\n      </g>\n     </g>\n     <g id=\"text_7\">\n      <!-- 500 -->\n      <g transform=\"translate(13.5625 65.657812)scale(0.1 -0.1)\">\n       <use xlink:href=\"#DejaVuSans-35\"/>\n       <use xlink:href=\"#DejaVuSans-30\" x=\"63.623047\"/>\n       <use xlink:href=\"#DejaVuSans-30\" x=\"127.246094\"/>\n      </g>\n     </g>\n    </g>\n    <g id=\"ytick_4\">\n     <g id=\"line2d_8\">\n      <g>\n       <use xlink:href=\"#m37287e40f3\" x=\"39.65\" y=\"87.288281\" style=\"stroke: #000000; stroke-width: 0.8\"/>\n      </g>\n     </g>\n     <g id=\"text_8\">\n      <!-- 750 -->\n      <g transform=\"translate(13.5625 91.0875)scale(0.1 -0.1)\">\n       <defs>\n        <path id=\"DejaVuSans-37\" d=\"M 525 4666 \nL 3525 4666 \nL 3525 4397 \nL 1831 0 \nL 1172 0 \nL 2766 4134 \nL 525 4134 \nL 525 4666 \nz\n\" transform=\"scale(0.015625)\"/>\n       </defs>\n       <use xlink:href=\"#DejaVuSans-37\"/>\n       <use xlink:href=\"#DejaVuSans-35\" x=\"63.623047\"/>\n       <use xlink:href=\"#DejaVuSans-30\" x=\"127.246094\"/>\n      </g>\n     </g>\n    </g>\n    <g id=\"ytick_5\">\n     <g id=\"line2d_9\">\n      <g>\n       <use xlink:href=\"#m37287e40f3\" x=\"39.65\" y=\"112.717969\" style=\"stroke: #000000; stroke-width: 0.8\"/>\n      </g>\n     </g>\n     <g id=\"text_9\">\n      <!-- 1000 -->\n      <g transform=\"translate(7.2 116.517187)scale(0.1 -0.1)\">\n       <use xlink:href=\"#DejaVuSans-31\"/>\n       <use xlink:href=\"#DejaVuSans-30\" x=\"63.623047\"/>\n       <use xlink:href=\"#DejaVuSans-30\" x=\"127.246094\"/>\n       <use xlink:href=\"#DejaVuSans-30\" x=\"190.869141\"/>\n      </g>\n     </g>\n    </g>\n   </g>\n   <g id=\"patch_3\">\n    <path d=\"M 39.65 120.804609 \nL 39.65 10.948359 \n\" style=\"fill: none; stroke: #000000; stroke-width: 0.8; stroke-linejoin: miter; stroke-linecap: square\"/>\n   </g>\n   <g id=\"patch_4\">\n    <path d=\"M 234.95 120.804609 \nL 234.95 10.948359 \n\" style=\"fill: none; stroke: #000000; stroke-width: 0.8; stroke-linejoin: miter; stroke-linecap: square\"/>\n   </g>\n   <g id=\"patch_5\">\n    <path d=\"M 39.65 120.804609 \nL 234.95 120.804609 \n\" style=\"fill: none; stroke: #000000; stroke-width: 0.8; stroke-linejoin: miter; stroke-linecap: square\"/>\n   </g>\n   <g id=\"patch_6\">\n    <path d=\"M 39.65 10.948359 \nL 234.95 10.948359 \n\" style=\"fill: none; stroke: #000000; stroke-width: 0.8; stroke-linejoin: miter; stroke-linecap: square\"/>\n   </g>\n  </g>\n </g>\n <defs>\n  <clipPath id=\"pb66f1702bb\">\n   <rect x=\"39.65\" y=\"10.948359\" width=\"195.3\" height=\"109.85625\"/>\n  </clipPath>\n </defs>\n</svg>\n"
          },
          "metadata": {
            "needs_background": "light"
          }
        }
      ]
    },
    {
      "cell_type": "markdown",
      "source": [
        "## Preprocess and postprocess stuff"
      ],
      "metadata": {
        "id": "EUzFgPsv22w4"
      },
      "id": "EUzFgPsv22w4"
    },
    {
      "cell_type": "code",
      "source": [
        "rgb_mean = torch.tensor([0.485, 0.456, 0.406])\n",
        "rgb_std = torch.tensor([0.229, 0.224, 0.225])\n",
        "\n",
        "def preprocess(img, image_shape):\n",
        "  transforms = torchvision.transforms.Compose([\n",
        "                      torchvision.transforms.Resize(image_shape),\n",
        "                      torchvision.transforms.ToTensor(),\n",
        "                      torchvision.transforms.Normalize(mean = rgb_mean, std=rgb_std)])\n",
        "  return transforms(img).unsqueeze(0)\n",
        "\n",
        "def postprocess(img):\n",
        "  img = img[0].to(rgb_std.device)\n",
        "  img = torch.clamp(img.permute(1,2,0)* rgb_std + rgb_mean, 0, 1)\n",
        "  return torchvision.transforms.ToPILImage()(img.permute(2,0,1))"
      ],
      "metadata": {
        "id": "57txgqEZ1fKs"
      },
      "id": "57txgqEZ1fKs",
      "execution_count": null,
      "outputs": []
    },
    {
      "cell_type": "markdown",
      "source": [
        "## Feature extraction using VGG-19"
      ],
      "metadata": {
        "id": "hQFewHbT2jdx"
      },
      "id": "hQFewHbT2jdx"
    },
    {
      "cell_type": "code",
      "source": [
        "pretrained_net = torchvision.models.vgg19(pretrained=True)"
      ],
      "metadata": {
        "id": "d4fSwfbv27T5",
        "colab": {
          "base_uri": "https://localhost:8080/"
        },
        "outputId": "d95d3b40-f2e1-4561-d2e4-d3dce863a131"
      },
      "id": "d4fSwfbv27T5",
      "execution_count": null,
      "outputs": [
        {
          "output_type": "stream",
          "name": "stderr",
          "text": [
            "/usr/local/lib/python3.7/dist-packages/torchvision/models/_utils.py:209: UserWarning: The parameter 'pretrained' is deprecated since 0.13 and will be removed in 0.15, please use 'weights' instead.\n",
            "  f\"The parameter '{pretrained_param}' is deprecated since 0.13 and will be removed in 0.15, \"\n",
            "/usr/local/lib/python3.7/dist-packages/torchvision/models/_utils.py:223: UserWarning: Arguments other than a weight enum or `None` for 'weights' are deprecated since 0.13 and will be removed in 0.15. The current behavior is equivalent to passing `weights=VGG19_Weights.IMAGENET1K_V1`. You can also use `weights=VGG19_Weights.DEFAULT` to get the most up-to-date weights.\n",
            "  warnings.warn(msg)\n"
          ]
        }
      ]
    },
    {
      "cell_type": "code",
      "source": [
        "style_layers, content_layers = [0, 5, 10, 19, 28], [25]"
      ],
      "metadata": {
        "id": "9GJ7rlj43Gpx"
      },
      "id": "9GJ7rlj43Gpx",
      "execution_count": null,
      "outputs": []
    },
    {
      "cell_type": "code",
      "source": [
        "# check the style layers\n",
        "print('Style layers')\n",
        "for i in style_layers:\n",
        "  print(pretrained_net.features[i])\n",
        "\n",
        "print('Content layer')\n",
        "pretrained_net.features[content_layers[0]]"
      ],
      "metadata": {
        "colab": {
          "base_uri": "https://localhost:8080/"
        },
        "id": "C9SR9kO93MxU",
        "outputId": "9cfca341-a9f4-4c34-e7b5-3d470381fedd"
      },
      "id": "C9SR9kO93MxU",
      "execution_count": null,
      "outputs": [
        {
          "output_type": "stream",
          "name": "stdout",
          "text": [
            "Style layers\n",
            "Conv2d(3, 64, kernel_size=(3, 3), stride=(1, 1), padding=(1, 1))\n",
            "Conv2d(64, 128, kernel_size=(3, 3), stride=(1, 1), padding=(1, 1))\n",
            "Conv2d(128, 256, kernel_size=(3, 3), stride=(1, 1), padding=(1, 1))\n",
            "Conv2d(256, 512, kernel_size=(3, 3), stride=(1, 1), padding=(1, 1))\n",
            "Conv2d(512, 512, kernel_size=(3, 3), stride=(1, 1), padding=(1, 1))\n",
            "Content layer\n"
          ]
        },
        {
          "output_type": "execute_result",
          "data": {
            "text/plain": [
              "Conv2d(512, 512, kernel_size=(3, 3), stride=(1, 1), padding=(1, 1))"
            ]
          },
          "metadata": {},
          "execution_count": 14
        }
      ]
    },
    {
      "cell_type": "code",
      "source": [
        "pretrained_net"
      ],
      "metadata": {
        "id": "nwRRyDBu3R-h",
        "colab": {
          "base_uri": "https://localhost:8080/"
        },
        "outputId": "25ff40c6-cb59-47cc-a3a7-f10b7be5cec0"
      },
      "id": "nwRRyDBu3R-h",
      "execution_count": null,
      "outputs": [
        {
          "output_type": "execute_result",
          "data": {
            "text/plain": [
              "VGG(\n",
              "  (features): Sequential(\n",
              "    (0): Conv2d(3, 64, kernel_size=(3, 3), stride=(1, 1), padding=(1, 1))\n",
              "    (1): ReLU(inplace=True)\n",
              "    (2): Conv2d(64, 64, kernel_size=(3, 3), stride=(1, 1), padding=(1, 1))\n",
              "    (3): ReLU(inplace=True)\n",
              "    (4): MaxPool2d(kernel_size=2, stride=2, padding=0, dilation=1, ceil_mode=False)\n",
              "    (5): Conv2d(64, 128, kernel_size=(3, 3), stride=(1, 1), padding=(1, 1))\n",
              "    (6): ReLU(inplace=True)\n",
              "    (7): Conv2d(128, 128, kernel_size=(3, 3), stride=(1, 1), padding=(1, 1))\n",
              "    (8): ReLU(inplace=True)\n",
              "    (9): MaxPool2d(kernel_size=2, stride=2, padding=0, dilation=1, ceil_mode=False)\n",
              "    (10): Conv2d(128, 256, kernel_size=(3, 3), stride=(1, 1), padding=(1, 1))\n",
              "    (11): ReLU(inplace=True)\n",
              "    (12): Conv2d(256, 256, kernel_size=(3, 3), stride=(1, 1), padding=(1, 1))\n",
              "    (13): ReLU(inplace=True)\n",
              "    (14): Conv2d(256, 256, kernel_size=(3, 3), stride=(1, 1), padding=(1, 1))\n",
              "    (15): ReLU(inplace=True)\n",
              "    (16): Conv2d(256, 256, kernel_size=(3, 3), stride=(1, 1), padding=(1, 1))\n",
              "    (17): ReLU(inplace=True)\n",
              "    (18): MaxPool2d(kernel_size=2, stride=2, padding=0, dilation=1, ceil_mode=False)\n",
              "    (19): Conv2d(256, 512, kernel_size=(3, 3), stride=(1, 1), padding=(1, 1))\n",
              "    (20): ReLU(inplace=True)\n",
              "    (21): Conv2d(512, 512, kernel_size=(3, 3), stride=(1, 1), padding=(1, 1))\n",
              "    (22): ReLU(inplace=True)\n",
              "    (23): Conv2d(512, 512, kernel_size=(3, 3), stride=(1, 1), padding=(1, 1))\n",
              "    (24): ReLU(inplace=True)\n",
              "    (25): Conv2d(512, 512, kernel_size=(3, 3), stride=(1, 1), padding=(1, 1))\n",
              "    (26): ReLU(inplace=True)\n",
              "    (27): MaxPool2d(kernel_size=2, stride=2, padding=0, dilation=1, ceil_mode=False)\n",
              "    (28): Conv2d(512, 512, kernel_size=(3, 3), stride=(1, 1), padding=(1, 1))\n",
              "    (29): ReLU(inplace=True)\n",
              "    (30): Conv2d(512, 512, kernel_size=(3, 3), stride=(1, 1), padding=(1, 1))\n",
              "    (31): ReLU(inplace=True)\n",
              "    (32): Conv2d(512, 512, kernel_size=(3, 3), stride=(1, 1), padding=(1, 1))\n",
              "    (33): ReLU(inplace=True)\n",
              "    (34): Conv2d(512, 512, kernel_size=(3, 3), stride=(1, 1), padding=(1, 1))\n",
              "    (35): ReLU(inplace=True)\n",
              "    (36): MaxPool2d(kernel_size=2, stride=2, padding=0, dilation=1, ceil_mode=False)\n",
              "  )\n",
              "  (avgpool): AdaptiveAvgPool2d(output_size=(7, 7))\n",
              "  (classifier): Sequential(\n",
              "    (0): Linear(in_features=25088, out_features=4096, bias=True)\n",
              "    (1): ReLU(inplace=True)\n",
              "    (2): Dropout(p=0.5, inplace=False)\n",
              "    (3): Linear(in_features=4096, out_features=4096, bias=True)\n",
              "    (4): ReLU(inplace=True)\n",
              "    (5): Dropout(p=0.5, inplace=False)\n",
              "    (6): Linear(in_features=4096, out_features=1000, bias=True)\n",
              "  )\n",
              ")"
            ]
          },
          "metadata": {},
          "execution_count": 15
        }
      ]
    },
    {
      "cell_type": "code",
      "source": [
        "net = nn.Sequential(\n",
        "    *[pretrained_net.features[i] \n",
        "      for i in range(max(content_layers+style_layers) + 1)]\n",
        "    )"
      ],
      "metadata": {
        "id": "e-V1gAhaHjMF"
      },
      "id": "e-V1gAhaHjMF",
      "execution_count": null,
      "outputs": []
    },
    {
      "cell_type": "code",
      "source": [
        "# me trying to understand the purpose of asterisk\n",
        "n = [pretrained_net.features[i] for i in range(max(content_layers+style_layers) + 1)]\n",
        "print(*n)"
      ],
      "metadata": {
        "colab": {
          "base_uri": "https://localhost:8080/"
        },
        "id": "7S9i5DJGKm7S",
        "outputId": "9850317d-260e-4faf-f035-8b51fa7821e2"
      },
      "id": "7S9i5DJGKm7S",
      "execution_count": null,
      "outputs": [
        {
          "output_type": "stream",
          "name": "stdout",
          "text": [
            "Conv2d(3, 64, kernel_size=(3, 3), stride=(1, 1), padding=(1, 1)) ReLU(inplace=True) Conv2d(64, 64, kernel_size=(3, 3), stride=(1, 1), padding=(1, 1)) ReLU(inplace=True) MaxPool2d(kernel_size=2, stride=2, padding=0, dilation=1, ceil_mode=False) Conv2d(64, 128, kernel_size=(3, 3), stride=(1, 1), padding=(1, 1)) ReLU(inplace=True) Conv2d(128, 128, kernel_size=(3, 3), stride=(1, 1), padding=(1, 1)) ReLU(inplace=True) MaxPool2d(kernel_size=2, stride=2, padding=0, dilation=1, ceil_mode=False) Conv2d(128, 256, kernel_size=(3, 3), stride=(1, 1), padding=(1, 1)) ReLU(inplace=True) Conv2d(256, 256, kernel_size=(3, 3), stride=(1, 1), padding=(1, 1)) ReLU(inplace=True) Conv2d(256, 256, kernel_size=(3, 3), stride=(1, 1), padding=(1, 1)) ReLU(inplace=True) Conv2d(256, 256, kernel_size=(3, 3), stride=(1, 1), padding=(1, 1)) ReLU(inplace=True) MaxPool2d(kernel_size=2, stride=2, padding=0, dilation=1, ceil_mode=False) Conv2d(256, 512, kernel_size=(3, 3), stride=(1, 1), padding=(1, 1)) ReLU(inplace=True) Conv2d(512, 512, kernel_size=(3, 3), stride=(1, 1), padding=(1, 1)) ReLU(inplace=True) Conv2d(512, 512, kernel_size=(3, 3), stride=(1, 1), padding=(1, 1)) ReLU(inplace=True) Conv2d(512, 512, kernel_size=(3, 3), stride=(1, 1), padding=(1, 1)) ReLU(inplace=True) MaxPool2d(kernel_size=2, stride=2, padding=0, dilation=1, ceil_mode=False) Conv2d(512, 512, kernel_size=(3, 3), stride=(1, 1), padding=(1, 1))\n"
          ]
        }
      ]
    },
    {
      "cell_type": "code",
      "source": [
        "net"
      ],
      "metadata": {
        "colab": {
          "base_uri": "https://localhost:8080/"
        },
        "id": "DzjPaCcTJXKh",
        "outputId": "be986205-3f22-41ee-c1ee-cc3c33394072"
      },
      "id": "DzjPaCcTJXKh",
      "execution_count": null,
      "outputs": [
        {
          "output_type": "execute_result",
          "data": {
            "text/plain": [
              "Sequential(\n",
              "  (0): Conv2d(3, 64, kernel_size=(3, 3), stride=(1, 1), padding=(1, 1))\n",
              "  (1): ReLU(inplace=True)\n",
              "  (2): Conv2d(64, 64, kernel_size=(3, 3), stride=(1, 1), padding=(1, 1))\n",
              "  (3): ReLU(inplace=True)\n",
              "  (4): MaxPool2d(kernel_size=2, stride=2, padding=0, dilation=1, ceil_mode=False)\n",
              "  (5): Conv2d(64, 128, kernel_size=(3, 3), stride=(1, 1), padding=(1, 1))\n",
              "  (6): ReLU(inplace=True)\n",
              "  (7): Conv2d(128, 128, kernel_size=(3, 3), stride=(1, 1), padding=(1, 1))\n",
              "  (8): ReLU(inplace=True)\n",
              "  (9): MaxPool2d(kernel_size=2, stride=2, padding=0, dilation=1, ceil_mode=False)\n",
              "  (10): Conv2d(128, 256, kernel_size=(3, 3), stride=(1, 1), padding=(1, 1))\n",
              "  (11): ReLU(inplace=True)\n",
              "  (12): Conv2d(256, 256, kernel_size=(3, 3), stride=(1, 1), padding=(1, 1))\n",
              "  (13): ReLU(inplace=True)\n",
              "  (14): Conv2d(256, 256, kernel_size=(3, 3), stride=(1, 1), padding=(1, 1))\n",
              "  (15): ReLU(inplace=True)\n",
              "  (16): Conv2d(256, 256, kernel_size=(3, 3), stride=(1, 1), padding=(1, 1))\n",
              "  (17): ReLU(inplace=True)\n",
              "  (18): MaxPool2d(kernel_size=2, stride=2, padding=0, dilation=1, ceil_mode=False)\n",
              "  (19): Conv2d(256, 512, kernel_size=(3, 3), stride=(1, 1), padding=(1, 1))\n",
              "  (20): ReLU(inplace=True)\n",
              "  (21): Conv2d(512, 512, kernel_size=(3, 3), stride=(1, 1), padding=(1, 1))\n",
              "  (22): ReLU(inplace=True)\n",
              "  (23): Conv2d(512, 512, kernel_size=(3, 3), stride=(1, 1), padding=(1, 1))\n",
              "  (24): ReLU(inplace=True)\n",
              "  (25): Conv2d(512, 512, kernel_size=(3, 3), stride=(1, 1), padding=(1, 1))\n",
              "  (26): ReLU(inplace=True)\n",
              "  (27): MaxPool2d(kernel_size=2, stride=2, padding=0, dilation=1, ceil_mode=False)\n",
              "  (28): Conv2d(512, 512, kernel_size=(3, 3), stride=(1, 1), padding=(1, 1))\n",
              ")"
            ]
          },
          "metadata": {},
          "execution_count": 18
        }
      ]
    },
    {
      "cell_type": "code",
      "source": [
        "def extract_features(X, content_layers, style_layers):\n",
        "  contents = []\n",
        "  styles = []\n",
        "\n",
        "  # extracting and storing output of each layer (like Conv2d, ReLU, MaxPool2d)\n",
        "  for i in range(len(net)):\n",
        "    X = net[i](X)\n",
        "\n",
        "    # Check if the particular layer of the neural network belongs to style or content layer\n",
        "    if i in style_layers:\n",
        "      styles.append(X)\n",
        "    if i in content_layers:\n",
        "      contents.append(X)\n",
        "  return contents, styles"
      ],
      "metadata": {
        "id": "f9m6PcI9JsVj"
      },
      "id": "f9m6PcI9JsVj",
      "execution_count": null,
      "outputs": []
    },
    {
      "cell_type": "code",
      "source": [
        "def get_contents(image_shape, device):\n",
        "  content_X = preprocess(content_img, image_shape).to(device)\n",
        "  contents_Y, _ = extract_features(content_X, content_layers, style_layers)\n",
        "  return content_X, contents_Y\n",
        "\n",
        "def get_styles(image_shape, device):\n",
        "  style_X = preprocess(style_img, image_shape).to(device)\n",
        "  _, styles_Y = extract_features(style_X, content_layers, style_layers)\n",
        "  return style_X, styles_Y"
      ],
      "metadata": {
        "id": "ziSks4EtL7J2"
      },
      "id": "ziSks4EtL7J2",
      "execution_count": null,
      "outputs": []
    },
    {
      "cell_type": "markdown",
      "source": [
        "## Define Loss function"
      ],
      "metadata": {
        "id": "ZsG6gbyoSO9r"
      },
      "id": "ZsG6gbyoSO9r"
    },
    {
      "cell_type": "code",
      "source": [
        "def content_loss(Y_hat, Y):\n",
        "  return torch.square(Y_hat - Y.detach()).mean()"
      ],
      "metadata": {
        "id": "a41ZVsGIR07X"
      },
      "id": "a41ZVsGIR07X",
      "execution_count": null,
      "outputs": []
    },
    {
      "cell_type": "code",
      "source": [
        "def gram(X):\n",
        "    num_channels, n = X.shape[1], X.numel() // X.shape[1]\n",
        "    X = X.reshape((num_channels, n))\n",
        "    return torch.matmul(X, X.T) / (num_channels * n)"
      ],
      "metadata": {
        "id": "vlKieYVEScbn"
      },
      "id": "vlKieYVEScbn",
      "execution_count": null,
      "outputs": []
    },
    {
      "cell_type": "code",
      "source": [
        "def style_loss(Y_hat, gram_Y):\n",
        "  return torch.square(gram(Y_hat) - gram_Y.detach()).mean()"
      ],
      "metadata": {
        "id": "nKIyWzcrW5pB"
      },
      "id": "nKIyWzcrW5pB",
      "execution_count": null,
      "outputs": []
    },
    {
      "cell_type": "code",
      "source": [
        "def tv_loss(Y_hat):\n",
        "  return 0.5 * (torch.abs(Y_hat[:, :, 1:, :] - Y_hat[:, :, :-1, :]).mean() +\n",
        "                torch.abs(Y_hat[:, :, :, 1:] - Y_hat[:, :, :, :-1]).mean())"
      ],
      "metadata": {
        "id": "hF26XxbqXPxv"
      },
      "id": "hF26XxbqXPxv",
      "execution_count": null,
      "outputs": []
    },
    {
      "cell_type": "code",
      "source": [
        "content_weight, style_weight, tv_weight = 1, 1e3, 1\n",
        "\n",
        "def compute_loss(X, contents_Y_hat, styles_Y_hat, contents_Y, styles_Y_gram):\n",
        "  # Calculate the content, style, and total variance losses respectively\n",
        "  contents_l = [content_loss(Y_hat, Y) * content_weight for Y_hat, Y in zip(contents_Y_hat, contents_Y)]\n",
        "  styles_l = [style_loss(Y_hat, Y) * style_weight for Y_hat, Y in zip(styles_Y_hat, styles_Y_gram)]\n",
        "  tv_l = tv_loss(X) * tv_weight\n",
        "  # Add up all the losses\n",
        "  # print(tv_l, type(tv_l))\n",
        "\n",
        "  l = sum(10* styles_l + contents_l, tv_l.tolist())\n",
        "  return contents_l, styles_l, tv_l, l"
      ],
      "metadata": {
        "id": "VSoVSHpmXqy0"
      },
      "id": "VSoVSHpmXqy0",
      "execution_count": null,
      "outputs": []
    },
    {
      "cell_type": "code",
      "source": [
        "class SynthesizedImage(nn.Module):\n",
        "  def __init__(self, img_shape, **kwargs):\n",
        "    super(SynthesizedImage, self).__init__(**kwargs)\n",
        "    self.weight = nn.Parameter(torch.rand(*img_shape))\n",
        "\n",
        "  def forward(self):\n",
        "    return self.weight"
      ],
      "metadata": {
        "id": "GE4-kI2BYaWy"
      },
      "id": "GE4-kI2BYaWy",
      "execution_count": null,
      "outputs": []
    },
    {
      "cell_type": "code",
      "source": [
        "def get_inits(X, device, lr, styles_Y):\n",
        "    gen_img = SynthesizedImage(X.shape).to(device)\n",
        "    gen_img.weight.data.copy_(X.data)\n",
        "    trainer = torch.optim.Adam(gen_img.parameters(), lr=lr)\n",
        "    styles_Y_gram = [gram(Y) for Y in styles_Y]\n",
        "    return gen_img(), styles_Y_gram, trainer"
      ],
      "metadata": {
        "id": "jt1h0I7pal0R"
      },
      "id": "jt1h0I7pal0R",
      "execution_count": null,
      "outputs": []
    },
    {
      "cell_type": "code",
      "source": [
        "try:\n",
        "  os.mkdir('imgs')\n",
        "except FileExistsError:\n",
        "  pass"
      ],
      "metadata": {
        "id": "RS3xyHw7hpIP"
      },
      "id": "RS3xyHw7hpIP",
      "execution_count": null,
      "outputs": []
    },
    {
      "cell_type": "code",
      "source": [
        "from tqdm.notebook import tqdm"
      ],
      "metadata": {
        "id": "iIcw7imj0Nge"
      },
      "id": "iIcw7imj0Nge",
      "execution_count": null,
      "outputs": []
    },
    {
      "cell_type": "code",
      "source": [
        "def train(X, contents_Y, styles_Y, device, lr, num_epochs, lr_decay_epoch=0.1):\n",
        "    X, styles_Y_gram, trainer = get_inits(X, device, lr, styles_Y)\n",
        "    scheduler = torch.optim.lr_scheduler.StepLR(trainer, lr_decay_epoch, 0.8)\n",
        "    animator = d2l.Animator(xlabel='epoch', ylabel='loss',\n",
        "                            xlim=[10, num_epochs],\n",
        "                            legend=['content', 'style', 'TV'],\n",
        "                            ncols=2, figsize=(7, 2.5))\n",
        "    \n",
        "    for epoch in tqdm(range(num_epochs+1)):\n",
        "        trainer.zero_grad()\n",
        "\n",
        "        contents_Y_hat, styles_Y_hat = extract_features(X, content_layers, style_layers)\n",
        "        contents_l, styles_l, tv_l, l = compute_loss(X, contents_Y_hat, styles_Y_hat, contents_Y, styles_Y_gram)\n",
        "\n",
        "        l.backward()\n",
        "        trainer.step()\n",
        "        scheduler.step()\n",
        "\n",
        "        if (epoch + 1) % 400 == 0:\n",
        "            # plt.imsave('kimino{}.jpg'.format(epoch), postprocess(X))\n",
        "            print(f\"Total loss: {l}\")\n",
        "            animator.axes[1].imshow(postprocess(X))\n",
        "            # plt.imshow(postprocess(X))\n",
        "            # plt.show()\n",
        "            animator.add(epoch + 1, [float(sum(contents_l)),\n",
        "                                    float(sum(styles_l)), float(tv_l)])\n",
        "        elif epoch % 10 == 0:\n",
        "          postprocess(X).save(f'imgs/bigboy_landscape_{epoch}.jpg')\n",
        "          \n",
        "    return X"
      ],
      "metadata": {
        "id": "14Rp93zObJ2j"
      },
      "id": "14Rp93zObJ2j",
      "execution_count": null,
      "outputs": []
    },
    {
      "cell_type": "code",
      "source": [
        "!nvidia-smi -L"
      ],
      "metadata": {
        "id": "X_eI3bYtBFH-",
        "colab": {
          "base_uri": "https://localhost:8080/"
        },
        "outputId": "9b5d14d9-2398-4cc7-aac2-d86d5d159fcb"
      },
      "id": "X_eI3bYtBFH-",
      "execution_count": null,
      "outputs": [
        {
          "output_type": "stream",
          "name": "stdout",
          "text": [
            "GPU 0: Tesla T4 (UUID: GPU-b42a70b4-8f41-379e-fa9a-798b336b9055)\n"
          ]
        }
      ]
    },
    {
      "cell_type": "code",
      "source": [
        "device, image_shape = d2l.try_gpu(), (1080, 1920) # (240, 426) # (960, 540)  (300, 450)\n",
        "print(f\"Using {device}\")\n",
        "net = net.to(device)\n",
        "content_X, contents_Y = get_contents(image_shape, device)\n",
        "_, styles_Y = get_styles(image_shape, device)\n",
        "output = train(content_X, contents_Y, styles_Y, device, 0.09, 10000)"
      ],
      "metadata": {
        "id": "hLp7DCUqee-0",
        "colab": {
          "base_uri": "https://localhost:8080/",
          "height": 262,
          "referenced_widgets": [
            "2e2f9e56704c4da0bcd529c83e2c9df7",
            "80e367367c7647b8a3450073132202e2",
            "0eb7b32ad1964866935df1dfa0d7a898",
            "7f3b3ca58f1f457f9ed223170fb24a61",
            "f9be4776e64a47e6a1b72fbed7befbae",
            "9fffce87da3e4d80a54002312909627a",
            "9bd8d6d8ea0b47a6a82b17bdb6ccf335",
            "1ff6bb40fbd841ee9cc5a6d69233dadd",
            "835c0ff5150a4aef8a8bddfa746187c8",
            "32c1a160bf6f4423bb8050f3d9dbf9a1",
            "c55c1d84bec14200bb4d0465a28a36bf"
          ]
        },
        "outputId": "20c6f617-8b68-4122-9131-30a151a4f686"
      },
      "id": "hLp7DCUqee-0",
      "execution_count": null,
      "outputs": [
        {
          "output_type": "display_data",
          "data": {
            "text/plain": [
              "<Figure size 504x180 with 2 Axes>"
            ],
            "image/svg+xml": "<?xml version=\"1.0\" encoding=\"utf-8\" standalone=\"no\"?>\n<!DOCTYPE svg PUBLIC \"-//W3C//DTD SVG 1.1//EN\"\n  \"http://www.w3.org/Graphics/SVG/1.1/DTD/svg11.dtd\">\n<svg xmlns:xlink=\"http://www.w3.org/1999/xlink\" width=\"441.58125pt\" height=\"180.65625pt\" viewBox=\"0 0 441.58125 180.65625\" xmlns=\"http://www.w3.org/2000/svg\" version=\"1.1\">\n <metadata>\n  <rdf:RDF xmlns:dc=\"http://purl.org/dc/elements/1.1/\" xmlns:cc=\"http://creativecommons.org/ns#\" xmlns:rdf=\"http://www.w3.org/1999/02/22-rdf-syntax-ns#\">\n   <cc:Work>\n    <dc:type rdf:resource=\"http://purl.org/dc/dcmitype/StillImage\"/>\n    <dc:date>2022-08-13T15:56:29.416302</dc:date>\n    <dc:format>image/svg+xml</dc:format>\n    <dc:creator>\n     <cc:Agent>\n      <dc:title>Matplotlib v3.5.1, https://matplotlib.org/</dc:title>\n     </cc:Agent>\n    </dc:creator>\n   </cc:Work>\n  </rdf:RDF>\n </metadata>\n <defs>\n  <style type=\"text/css\">*{stroke-linejoin: round; stroke-linecap: butt}</style>\n </defs>\n <g id=\"figure_1\">\n  <g id=\"patch_1\">\n   <path d=\"M 0 180.65625 \nL 441.58125 180.65625 \nL 441.58125 0 \nL 0 0 \nL 0 180.65625 \nz\n\" style=\"fill: none\"/>\n  </g>\n  <g id=\"axes_1\">\n   <g id=\"patch_2\">\n    <path d=\"M 43.78125 143.1 \nL 221.326705 143.1 \nL 221.326705 7.2 \nL 43.78125 7.2 \nz\n\" style=\"fill: #ffffff\"/>\n   </g>\n   <g id=\"matplotlib.axis_1\">\n    <g id=\"xtick_1\">\n     <g id=\"line2d_1\">\n      <path d=\"M 79.148162 143.1 \nL 79.148162 7.2 \n\" clip-path=\"url(#pf0d80039c6)\" style=\"fill: none; stroke: #b0b0b0; stroke-width: 0.8; stroke-linecap: square\"/>\n     </g>\n     <g id=\"line2d_2\">\n      <defs>\n       <path id=\"me6dd36b4ae\" d=\"M 0 0 \nL 0 3.5 \n\" style=\"stroke: #000000; stroke-width: 0.8\"/>\n      </defs>\n      <g>\n       <use xlink:href=\"#me6dd36b4ae\" x=\"79.148162\" y=\"143.1\" style=\"stroke: #000000; stroke-width: 0.8\"/>\n      </g>\n     </g>\n     <g id=\"text_1\">\n      <!-- 2000 -->\n      <g transform=\"translate(66.423162 157.698438)scale(0.1 -0.1)\">\n       <defs>\n        <path id=\"DejaVuSans-32\" d=\"M 1228 531 \nL 3431 531 \nL 3431 0 \nL 469 0 \nL 469 531 \nQ 828 903 1448 1529 \nQ 2069 2156 2228 2338 \nQ 2531 2678 2651 2914 \nQ 2772 3150 2772 3378 \nQ 2772 3750 2511 3984 \nQ 2250 4219 1831 4219 \nQ 1534 4219 1204 4116 \nQ 875 4013 500 3803 \nL 500 4441 \nQ 881 4594 1212 4672 \nQ 1544 4750 1819 4750 \nQ 2544 4750 2975 4387 \nQ 3406 4025 3406 3419 \nQ 3406 3131 3298 2873 \nQ 3191 2616 2906 2266 \nQ 2828 2175 2409 1742 \nQ 1991 1309 1228 531 \nz\n\" transform=\"scale(0.015625)\"/>\n        <path id=\"DejaVuSans-30\" d=\"M 2034 4250 \nQ 1547 4250 1301 3770 \nQ 1056 3291 1056 2328 \nQ 1056 1369 1301 889 \nQ 1547 409 2034 409 \nQ 2525 409 2770 889 \nQ 3016 1369 3016 2328 \nQ 3016 3291 2770 3770 \nQ 2525 4250 2034 4250 \nz\nM 2034 4750 \nQ 2819 4750 3233 4129 \nQ 3647 3509 3647 2328 \nQ 3647 1150 3233 529 \nQ 2819 -91 2034 -91 \nQ 1250 -91 836 529 \nQ 422 1150 422 2328 \nQ 422 3509 836 4129 \nQ 1250 4750 2034 4750 \nz\n\" transform=\"scale(0.015625)\"/>\n       </defs>\n       <use xlink:href=\"#DejaVuSans-32\"/>\n       <use xlink:href=\"#DejaVuSans-30\" x=\"63.623047\"/>\n       <use xlink:href=\"#DejaVuSans-30\" x=\"127.246094\"/>\n       <use xlink:href=\"#DejaVuSans-30\" x=\"190.869141\"/>\n      </g>\n     </g>\n    </g>\n    <g id=\"xtick_2\">\n     <g id=\"line2d_3\">\n      <path d=\"M 114.692798 143.1 \nL 114.692798 7.2 \n\" clip-path=\"url(#pf0d80039c6)\" style=\"fill: none; stroke: #b0b0b0; stroke-width: 0.8; stroke-linecap: square\"/>\n     </g>\n     <g id=\"line2d_4\">\n      <g>\n       <use xlink:href=\"#me6dd36b4ae\" x=\"114.692798\" y=\"143.1\" style=\"stroke: #000000; stroke-width: 0.8\"/>\n      </g>\n     </g>\n     <g id=\"text_2\">\n      <!-- 4000 -->\n      <g transform=\"translate(101.967798 157.698438)scale(0.1 -0.1)\">\n       <defs>\n        <path id=\"DejaVuSans-34\" d=\"M 2419 4116 \nL 825 1625 \nL 2419 1625 \nL 2419 4116 \nz\nM 2253 4666 \nL 3047 4666 \nL 3047 1625 \nL 3713 1625 \nL 3713 1100 \nL 3047 1100 \nL 3047 0 \nL 2419 0 \nL 2419 1100 \nL 313 1100 \nL 313 1709 \nL 2253 4666 \nz\n\" transform=\"scale(0.015625)\"/>\n       </defs>\n       <use xlink:href=\"#DejaVuSans-34\"/>\n       <use xlink:href=\"#DejaVuSans-30\" x=\"63.623047\"/>\n       <use xlink:href=\"#DejaVuSans-30\" x=\"127.246094\"/>\n       <use xlink:href=\"#DejaVuSans-30\" x=\"190.869141\"/>\n      </g>\n     </g>\n    </g>\n    <g id=\"xtick_3\">\n     <g id=\"line2d_5\">\n      <path d=\"M 150.237433 143.1 \nL 150.237433 7.2 \n\" clip-path=\"url(#pf0d80039c6)\" style=\"fill: none; stroke: #b0b0b0; stroke-width: 0.8; stroke-linecap: square\"/>\n     </g>\n     <g id=\"line2d_6\">\n      <g>\n       <use xlink:href=\"#me6dd36b4ae\" x=\"150.237433\" y=\"143.1\" style=\"stroke: #000000; stroke-width: 0.8\"/>\n      </g>\n     </g>\n     <g id=\"text_3\">\n      <!-- 6000 -->\n      <g transform=\"translate(137.512433 157.698438)scale(0.1 -0.1)\">\n       <defs>\n        <path id=\"DejaVuSans-36\" d=\"M 2113 2584 \nQ 1688 2584 1439 2293 \nQ 1191 2003 1191 1497 \nQ 1191 994 1439 701 \nQ 1688 409 2113 409 \nQ 2538 409 2786 701 \nQ 3034 994 3034 1497 \nQ 3034 2003 2786 2293 \nQ 2538 2584 2113 2584 \nz\nM 3366 4563 \nL 3366 3988 \nQ 3128 4100 2886 4159 \nQ 2644 4219 2406 4219 \nQ 1781 4219 1451 3797 \nQ 1122 3375 1075 2522 \nQ 1259 2794 1537 2939 \nQ 1816 3084 2150 3084 \nQ 2853 3084 3261 2657 \nQ 3669 2231 3669 1497 \nQ 3669 778 3244 343 \nQ 2819 -91 2113 -91 \nQ 1303 -91 875 529 \nQ 447 1150 447 2328 \nQ 447 3434 972 4092 \nQ 1497 4750 2381 4750 \nQ 2619 4750 2861 4703 \nQ 3103 4656 3366 4563 \nz\n\" transform=\"scale(0.015625)\"/>\n       </defs>\n       <use xlink:href=\"#DejaVuSans-36\"/>\n       <use xlink:href=\"#DejaVuSans-30\" x=\"63.623047\"/>\n       <use xlink:href=\"#DejaVuSans-30\" x=\"127.246094\"/>\n       <use xlink:href=\"#DejaVuSans-30\" x=\"190.869141\"/>\n      </g>\n     </g>\n    </g>\n    <g id=\"xtick_4\">\n     <g id=\"line2d_7\">\n      <path d=\"M 185.782069 143.1 \nL 185.782069 7.2 \n\" clip-path=\"url(#pf0d80039c6)\" style=\"fill: none; stroke: #b0b0b0; stroke-width: 0.8; stroke-linecap: square\"/>\n     </g>\n     <g id=\"line2d_8\">\n      <g>\n       <use xlink:href=\"#me6dd36b4ae\" x=\"185.782069\" y=\"143.1\" style=\"stroke: #000000; stroke-width: 0.8\"/>\n      </g>\n     </g>\n     <g id=\"text_4\">\n      <!-- 8000 -->\n      <g transform=\"translate(173.057069 157.698438)scale(0.1 -0.1)\">\n       <defs>\n        <path id=\"DejaVuSans-38\" d=\"M 2034 2216 \nQ 1584 2216 1326 1975 \nQ 1069 1734 1069 1313 \nQ 1069 891 1326 650 \nQ 1584 409 2034 409 \nQ 2484 409 2743 651 \nQ 3003 894 3003 1313 \nQ 3003 1734 2745 1975 \nQ 2488 2216 2034 2216 \nz\nM 1403 2484 \nQ 997 2584 770 2862 \nQ 544 3141 544 3541 \nQ 544 4100 942 4425 \nQ 1341 4750 2034 4750 \nQ 2731 4750 3128 4425 \nQ 3525 4100 3525 3541 \nQ 3525 3141 3298 2862 \nQ 3072 2584 2669 2484 \nQ 3125 2378 3379 2068 \nQ 3634 1759 3634 1313 \nQ 3634 634 3220 271 \nQ 2806 -91 2034 -91 \nQ 1263 -91 848 271 \nQ 434 634 434 1313 \nQ 434 1759 690 2068 \nQ 947 2378 1403 2484 \nz\nM 1172 3481 \nQ 1172 3119 1398 2916 \nQ 1625 2713 2034 2713 \nQ 2441 2713 2670 2916 \nQ 2900 3119 2900 3481 \nQ 2900 3844 2670 4047 \nQ 2441 4250 2034 4250 \nQ 1625 4250 1398 4047 \nQ 1172 3844 1172 3481 \nz\n\" transform=\"scale(0.015625)\"/>\n       </defs>\n       <use xlink:href=\"#DejaVuSans-38\"/>\n       <use xlink:href=\"#DejaVuSans-30\" x=\"63.623047\"/>\n       <use xlink:href=\"#DejaVuSans-30\" x=\"127.246094\"/>\n       <use xlink:href=\"#DejaVuSans-30\" x=\"190.869141\"/>\n      </g>\n     </g>\n    </g>\n    <g id=\"xtick_5\">\n     <g id=\"line2d_9\">\n      <path d=\"M 221.326705 143.1 \nL 221.326705 7.2 \n\" clip-path=\"url(#pf0d80039c6)\" style=\"fill: none; stroke: #b0b0b0; stroke-width: 0.8; stroke-linecap: square\"/>\n     </g>\n     <g id=\"line2d_10\">\n      <g>\n       <use xlink:href=\"#me6dd36b4ae\" x=\"221.326705\" y=\"143.1\" style=\"stroke: #000000; stroke-width: 0.8\"/>\n      </g>\n     </g>\n     <g id=\"text_5\">\n      <!-- 10000 -->\n      <g transform=\"translate(205.420455 157.698438)scale(0.1 -0.1)\">\n       <defs>\n        <path id=\"DejaVuSans-31\" d=\"M 794 531 \nL 1825 531 \nL 1825 4091 \nL 703 3866 \nL 703 4441 \nL 1819 4666 \nL 2450 4666 \nL 2450 531 \nL 3481 531 \nL 3481 0 \nL 794 0 \nL 794 531 \nz\n\" transform=\"scale(0.015625)\"/>\n       </defs>\n       <use xlink:href=\"#DejaVuSans-31\"/>\n       <use xlink:href=\"#DejaVuSans-30\" x=\"63.623047\"/>\n       <use xlink:href=\"#DejaVuSans-30\" x=\"127.246094\"/>\n       <use xlink:href=\"#DejaVuSans-30\" x=\"190.869141\"/>\n       <use xlink:href=\"#DejaVuSans-30\" x=\"254.492188\"/>\n      </g>\n     </g>\n    </g>\n    <g id=\"text_6\">\n     <!-- epoch -->\n     <g transform=\"translate(117.325852 171.376563)scale(0.1 -0.1)\">\n      <defs>\n       <path id=\"DejaVuSans-65\" d=\"M 3597 1894 \nL 3597 1613 \nL 953 1613 \nQ 991 1019 1311 708 \nQ 1631 397 2203 397 \nQ 2534 397 2845 478 \nQ 3156 559 3463 722 \nL 3463 178 \nQ 3153 47 2828 -22 \nQ 2503 -91 2169 -91 \nQ 1331 -91 842 396 \nQ 353 884 353 1716 \nQ 353 2575 817 3079 \nQ 1281 3584 2069 3584 \nQ 2775 3584 3186 3129 \nQ 3597 2675 3597 1894 \nz\nM 3022 2063 \nQ 3016 2534 2758 2815 \nQ 2500 3097 2075 3097 \nQ 1594 3097 1305 2825 \nQ 1016 2553 972 2059 \nL 3022 2063 \nz\n\" transform=\"scale(0.015625)\"/>\n       <path id=\"DejaVuSans-70\" d=\"M 1159 525 \nL 1159 -1331 \nL 581 -1331 \nL 581 3500 \nL 1159 3500 \nL 1159 2969 \nQ 1341 3281 1617 3432 \nQ 1894 3584 2278 3584 \nQ 2916 3584 3314 3078 \nQ 3713 2572 3713 1747 \nQ 3713 922 3314 415 \nQ 2916 -91 2278 -91 \nQ 1894 -91 1617 61 \nQ 1341 213 1159 525 \nz\nM 3116 1747 \nQ 3116 2381 2855 2742 \nQ 2594 3103 2138 3103 \nQ 1681 3103 1420 2742 \nQ 1159 2381 1159 1747 \nQ 1159 1113 1420 752 \nQ 1681 391 2138 391 \nQ 2594 391 2855 752 \nQ 3116 1113 3116 1747 \nz\n\" transform=\"scale(0.015625)\"/>\n       <path id=\"DejaVuSans-6f\" d=\"M 1959 3097 \nQ 1497 3097 1228 2736 \nQ 959 2375 959 1747 \nQ 959 1119 1226 758 \nQ 1494 397 1959 397 \nQ 2419 397 2687 759 \nQ 2956 1122 2956 1747 \nQ 2956 2369 2687 2733 \nQ 2419 3097 1959 3097 \nz\nM 1959 3584 \nQ 2709 3584 3137 3096 \nQ 3566 2609 3566 1747 \nQ 3566 888 3137 398 \nQ 2709 -91 1959 -91 \nQ 1206 -91 779 398 \nQ 353 888 353 1747 \nQ 353 2609 779 3096 \nQ 1206 3584 1959 3584 \nz\n\" transform=\"scale(0.015625)\"/>\n       <path id=\"DejaVuSans-63\" d=\"M 3122 3366 \nL 3122 2828 \nQ 2878 2963 2633 3030 \nQ 2388 3097 2138 3097 \nQ 1578 3097 1268 2742 \nQ 959 2388 959 1747 \nQ 959 1106 1268 751 \nQ 1578 397 2138 397 \nQ 2388 397 2633 464 \nQ 2878 531 3122 666 \nL 3122 134 \nQ 2881 22 2623 -34 \nQ 2366 -91 2075 -91 \nQ 1284 -91 818 406 \nQ 353 903 353 1747 \nQ 353 2603 823 3093 \nQ 1294 3584 2113 3584 \nQ 2378 3584 2631 3529 \nQ 2884 3475 3122 3366 \nz\n\" transform=\"scale(0.015625)\"/>\n       <path id=\"DejaVuSans-68\" d=\"M 3513 2113 \nL 3513 0 \nL 2938 0 \nL 2938 2094 \nQ 2938 2591 2744 2837 \nQ 2550 3084 2163 3084 \nQ 1697 3084 1428 2787 \nQ 1159 2491 1159 1978 \nL 1159 0 \nL 581 0 \nL 581 4863 \nL 1159 4863 \nL 1159 2956 \nQ 1366 3272 1645 3428 \nQ 1925 3584 2291 3584 \nQ 2894 3584 3203 3211 \nQ 3513 2838 3513 2113 \nz\n\" transform=\"scale(0.015625)\"/>\n      </defs>\n      <use xlink:href=\"#DejaVuSans-65\"/>\n      <use xlink:href=\"#DejaVuSans-70\" x=\"61.523438\"/>\n      <use xlink:href=\"#DejaVuSans-6f\" x=\"125\"/>\n      <use xlink:href=\"#DejaVuSans-63\" x=\"186.181641\"/>\n      <use xlink:href=\"#DejaVuSans-68\" x=\"241.162109\"/>\n     </g>\n    </g>\n   </g>\n   <g id=\"matplotlib.axis_2\">\n    <g id=\"ytick_1\">\n     <g id=\"line2d_11\">\n      <path d=\"M 43.78125 139.254695 \nL 221.326705 139.254695 \n\" clip-path=\"url(#pf0d80039c6)\" style=\"fill: none; stroke: #b0b0b0; stroke-width: 0.8; stroke-linecap: square\"/>\n     </g>\n     <g id=\"line2d_12\">\n      <defs>\n       <path id=\"m60c3a600ba\" d=\"M 0 0 \nL -3.5 0 \n\" style=\"stroke: #000000; stroke-width: 0.8\"/>\n      </defs>\n      <g>\n       <use xlink:href=\"#m60c3a600ba\" x=\"43.78125\" y=\"139.254695\" style=\"stroke: #000000; stroke-width: 0.8\"/>\n      </g>\n     </g>\n     <g id=\"text_7\">\n      <!-- 0.0 -->\n      <g transform=\"translate(20.878125 143.053914)scale(0.1 -0.1)\">\n       <defs>\n        <path id=\"DejaVuSans-2e\" d=\"M 684 794 \nL 1344 794 \nL 1344 0 \nL 684 0 \nL 684 794 \nz\n\" transform=\"scale(0.015625)\"/>\n       </defs>\n       <use xlink:href=\"#DejaVuSans-30\"/>\n       <use xlink:href=\"#DejaVuSans-2e\" x=\"63.623047\"/>\n       <use xlink:href=\"#DejaVuSans-30\" x=\"95.410156\"/>\n      </g>\n     </g>\n    </g>\n    <g id=\"ytick_2\">\n     <g id=\"line2d_13\">\n      <path d=\"M 43.78125 108.907947 \nL 221.326705 108.907947 \n\" clip-path=\"url(#pf0d80039c6)\" style=\"fill: none; stroke: #b0b0b0; stroke-width: 0.8; stroke-linecap: square\"/>\n     </g>\n     <g id=\"line2d_14\">\n      <g>\n       <use xlink:href=\"#m60c3a600ba\" x=\"43.78125\" y=\"108.907947\" style=\"stroke: #000000; stroke-width: 0.8\"/>\n      </g>\n     </g>\n     <g id=\"text_8\">\n      <!-- 0.2 -->\n      <g transform=\"translate(20.878125 112.707166)scale(0.1 -0.1)\">\n       <use xlink:href=\"#DejaVuSans-30\"/>\n       <use xlink:href=\"#DejaVuSans-2e\" x=\"63.623047\"/>\n       <use xlink:href=\"#DejaVuSans-32\" x=\"95.410156\"/>\n      </g>\n     </g>\n    </g>\n    <g id=\"ytick_3\">\n     <g id=\"line2d_15\">\n      <path d=\"M 43.78125 78.561199 \nL 221.326705 78.561199 \n\" clip-path=\"url(#pf0d80039c6)\" style=\"fill: none; stroke: #b0b0b0; stroke-width: 0.8; stroke-linecap: square\"/>\n     </g>\n     <g id=\"line2d_16\">\n      <g>\n       <use xlink:href=\"#m60c3a600ba\" x=\"43.78125\" y=\"78.561199\" style=\"stroke: #000000; stroke-width: 0.8\"/>\n      </g>\n     </g>\n     <g id=\"text_9\">\n      <!-- 0.4 -->\n      <g transform=\"translate(20.878125 82.360417)scale(0.1 -0.1)\">\n       <use xlink:href=\"#DejaVuSans-30\"/>\n       <use xlink:href=\"#DejaVuSans-2e\" x=\"63.623047\"/>\n       <use xlink:href=\"#DejaVuSans-34\" x=\"95.410156\"/>\n      </g>\n     </g>\n    </g>\n    <g id=\"ytick_4\">\n     <g id=\"line2d_17\">\n      <path d=\"M 43.78125 48.21445 \nL 221.326705 48.21445 \n\" clip-path=\"url(#pf0d80039c6)\" style=\"fill: none; stroke: #b0b0b0; stroke-width: 0.8; stroke-linecap: square\"/>\n     </g>\n     <g id=\"line2d_18\">\n      <g>\n       <use xlink:href=\"#m60c3a600ba\" x=\"43.78125\" y=\"48.21445\" style=\"stroke: #000000; stroke-width: 0.8\"/>\n      </g>\n     </g>\n     <g id=\"text_10\">\n      <!-- 0.6 -->\n      <g transform=\"translate(20.878125 52.013669)scale(0.1 -0.1)\">\n       <use xlink:href=\"#DejaVuSans-30\"/>\n       <use xlink:href=\"#DejaVuSans-2e\" x=\"63.623047\"/>\n       <use xlink:href=\"#DejaVuSans-36\" x=\"95.410156\"/>\n      </g>\n     </g>\n    </g>\n    <g id=\"ytick_5\">\n     <g id=\"line2d_19\">\n      <path d=\"M 43.78125 17.867702 \nL 221.326705 17.867702 \n\" clip-path=\"url(#pf0d80039c6)\" style=\"fill: none; stroke: #b0b0b0; stroke-width: 0.8; stroke-linecap: square\"/>\n     </g>\n     <g id=\"line2d_20\">\n      <g>\n       <use xlink:href=\"#m60c3a600ba\" x=\"43.78125\" y=\"17.867702\" style=\"stroke: #000000; stroke-width: 0.8\"/>\n      </g>\n     </g>\n     <g id=\"text_11\">\n      <!-- 0.8 -->\n      <g transform=\"translate(20.878125 21.66692)scale(0.1 -0.1)\">\n       <use xlink:href=\"#DejaVuSans-30\"/>\n       <use xlink:href=\"#DejaVuSans-2e\" x=\"63.623047\"/>\n       <use xlink:href=\"#DejaVuSans-38\" x=\"95.410156\"/>\n      </g>\n     </g>\n    </g>\n    <g id=\"text_12\">\n     <!-- loss -->\n     <g transform=\"translate(14.798438 84.807812)rotate(-90)scale(0.1 -0.1)\">\n      <defs>\n       <path id=\"DejaVuSans-6c\" d=\"M 603 4863 \nL 1178 4863 \nL 1178 0 \nL 603 0 \nL 603 4863 \nz\n\" transform=\"scale(0.015625)\"/>\n       <path id=\"DejaVuSans-73\" d=\"M 2834 3397 \nL 2834 2853 \nQ 2591 2978 2328 3040 \nQ 2066 3103 1784 3103 \nQ 1356 3103 1142 2972 \nQ 928 2841 928 2578 \nQ 928 2378 1081 2264 \nQ 1234 2150 1697 2047 \nL 1894 2003 \nQ 2506 1872 2764 1633 \nQ 3022 1394 3022 966 \nQ 3022 478 2636 193 \nQ 2250 -91 1575 -91 \nQ 1294 -91 989 -36 \nQ 684 19 347 128 \nL 347 722 \nQ 666 556 975 473 \nQ 1284 391 1588 391 \nQ 1994 391 2212 530 \nQ 2431 669 2431 922 \nQ 2431 1156 2273 1281 \nQ 2116 1406 1581 1522 \nL 1381 1569 \nQ 847 1681 609 1914 \nQ 372 2147 372 2553 \nQ 372 3047 722 3315 \nQ 1072 3584 1716 3584 \nQ 2034 3584 2315 3537 \nQ 2597 3491 2834 3397 \nz\n\" transform=\"scale(0.015625)\"/>\n      </defs>\n      <use xlink:href=\"#DejaVuSans-6c\"/>\n      <use xlink:href=\"#DejaVuSans-6f\" x=\"27.783203\"/>\n      <use xlink:href=\"#DejaVuSans-73\" x=\"88.964844\"/>\n      <use xlink:href=\"#DejaVuSans-73\" x=\"141.064453\"/>\n     </g>\n    </g>\n   </g>\n   <g id=\"line2d_21\">\n    <path d=\"M 50.712454 49.653959 \nL 57.821381 60.528191 \nL 64.930308 59.812428 \nL 72.039235 64.893231 \nL 79.148162 65.533472 \nL 86.257089 63.013437 \nL 93.366017 66.00633 \nL 100.474944 64.323692 \nL 107.583871 63.53559 \nL 114.692798 61.133933 \nL 121.801725 66.924124 \nL 128.910652 65.100444 \nL 136.019579 62.66961 \nL 143.128506 60.574134 \nL 150.237433 66.85836 \nL 157.346361 66.28992 \nL 164.455288 66.081735 \nL 171.564215 69.964932 \nL 178.673142 68.326926 \nL 185.782069 61.463905 \nL 192.890996 65.554739 \nL 199.999923 51.843936 \nL 207.10885 67.072012 \nL 214.217777 68.468076 \nL 221.326705 67.361633 \n\" clip-path=\"url(#pf0d80039c6)\" style=\"fill: none; stroke: #1f77b4; stroke-width: 1.5; stroke-linecap: square\"/>\n   </g>\n   <g id=\"line2d_22\">\n    <path d=\"M 50.712454 136.069862 \nL 57.821381 136.653118 \nL 64.930308 136.59423 \nL 72.039235 136.922727 \nL 79.148162 136.204919 \nL 86.257089 136.465341 \nL 93.366017 136.727333 \nL 100.474944 136.580608 \nL 107.583871 136.250956 \nL 114.692798 135.760271 \nL 121.801725 136.682586 \nL 128.910652 136.380538 \nL 136.019579 134.94152 \nL 143.128506 136.338078 \nL 150.237433 136.359024 \nL 157.346361 135.726306 \nL 164.455288 136.254204 \nL 171.564215 136.580923 \nL 178.673142 136.766002 \nL 185.782069 135.200103 \nL 192.890996 135.87947 \nL 199.999923 131.90133 \nL 207.10885 136.271619 \nL 214.217777 136.910366 \nL 221.326705 136.3895 \n\" clip-path=\"url(#pf0d80039c6)\" style=\"fill: none; stroke-dasharray: 5.55,2.4; stroke-dashoffset: 0; stroke: #bf00bf; stroke-width: 1.5\"/>\n   </g>\n   <g id=\"line2d_23\">\n    <path d=\"M 50.712454 98.923107 \nL 57.821381 93.005613 \nL 64.930308 88.236078 \nL 72.039235 83.031479 \nL 79.148162 76.814392 \nL 86.257089 68.383379 \nL 93.366017 67.931439 \nL 100.474944 62.272062 \nL 107.583871 57.514501 \nL 114.692798 57.56266 \nL 121.801725 53.580788 \nL 128.910652 49.841975 \nL 136.019579 44.559589 \nL 143.128506 44.839176 \nL 150.237433 38.793889 \nL 157.346361 35.714884 \nL 164.455288 32.222294 \nL 171.564215 33.174577 \nL 178.673142 27.172683 \nL 185.782069 22.736376 \nL 192.890996 21.643359 \nL 199.999923 19.171497 \nL 207.10885 19.188337 \nL 214.217777 17.476102 \nL 221.326705 13.377273 \n\" clip-path=\"url(#pf0d80039c6)\" style=\"fill: none; stroke-dasharray: 9.6,2.4,1.5,2.4; stroke-dashoffset: 0; stroke: #008000; stroke-width: 1.5\"/>\n   </g>\n   <g id=\"patch_3\">\n    <path d=\"M 43.78125 143.1 \nL 43.78125 7.2 \n\" style=\"fill: none; stroke: #000000; stroke-width: 0.8; stroke-linejoin: miter; stroke-linecap: square\"/>\n   </g>\n   <g id=\"patch_4\">\n    <path d=\"M 221.326705 143.1 \nL 221.326705 7.2 \n\" style=\"fill: none; stroke: #000000; stroke-width: 0.8; stroke-linejoin: miter; stroke-linecap: square\"/>\n   </g>\n   <g id=\"patch_5\">\n    <path d=\"M 43.78125 143.1 \nL 221.326705 143.1 \n\" style=\"fill: none; stroke: #000000; stroke-width: 0.8; stroke-linejoin: miter; stroke-linecap: square\"/>\n   </g>\n   <g id=\"patch_6\">\n    <path d=\"M 43.78125 7.2 \nL 221.326705 7.2 \n\" style=\"fill: none; stroke: #000000; stroke-width: 0.8; stroke-linejoin: miter; stroke-linecap: square\"/>\n   </g>\n   <g id=\"legend_1\">\n    <g id=\"patch_7\">\n     <path d=\"M 50.78125 59.234375 \nL 121.067188 59.234375 \nQ 123.067188 59.234375 123.067188 57.234375 \nL 123.067188 14.2 \nQ 123.067188 12.2 121.067188 12.2 \nL 50.78125 12.2 \nQ 48.78125 12.2 48.78125 14.2 \nL 48.78125 57.234375 \nQ 48.78125 59.234375 50.78125 59.234375 \nz\n\" style=\"fill: #ffffff; opacity: 0.8; stroke: #cccccc; stroke-linejoin: miter\"/>\n    </g>\n    <g id=\"line2d_24\">\n     <path d=\"M 52.78125 20.298438 \nL 62.78125 20.298438 \nL 72.78125 20.298438 \n\" style=\"fill: none; stroke: #1f77b4; stroke-width: 1.5; stroke-linecap: square\"/>\n    </g>\n    <g id=\"text_13\">\n     <!-- content -->\n     <g transform=\"translate(80.78125 23.798438)scale(0.1 -0.1)\">\n      <defs>\n       <path id=\"DejaVuSans-6e\" d=\"M 3513 2113 \nL 3513 0 \nL 2938 0 \nL 2938 2094 \nQ 2938 2591 2744 2837 \nQ 2550 3084 2163 3084 \nQ 1697 3084 1428 2787 \nQ 1159 2491 1159 1978 \nL 1159 0 \nL 581 0 \nL 581 3500 \nL 1159 3500 \nL 1159 2956 \nQ 1366 3272 1645 3428 \nQ 1925 3584 2291 3584 \nQ 2894 3584 3203 3211 \nQ 3513 2838 3513 2113 \nz\n\" transform=\"scale(0.015625)\"/>\n       <path id=\"DejaVuSans-74\" d=\"M 1172 4494 \nL 1172 3500 \nL 2356 3500 \nL 2356 3053 \nL 1172 3053 \nL 1172 1153 \nQ 1172 725 1289 603 \nQ 1406 481 1766 481 \nL 2356 481 \nL 2356 0 \nL 1766 0 \nQ 1100 0 847 248 \nQ 594 497 594 1153 \nL 594 3053 \nL 172 3053 \nL 172 3500 \nL 594 3500 \nL 594 4494 \nL 1172 4494 \nz\n\" transform=\"scale(0.015625)\"/>\n      </defs>\n      <use xlink:href=\"#DejaVuSans-63\"/>\n      <use xlink:href=\"#DejaVuSans-6f\" x=\"54.980469\"/>\n      <use xlink:href=\"#DejaVuSans-6e\" x=\"116.162109\"/>\n      <use xlink:href=\"#DejaVuSans-74\" x=\"179.541016\"/>\n      <use xlink:href=\"#DejaVuSans-65\" x=\"218.75\"/>\n      <use xlink:href=\"#DejaVuSans-6e\" x=\"280.273438\"/>\n      <use xlink:href=\"#DejaVuSans-74\" x=\"343.652344\"/>\n     </g>\n    </g>\n    <g id=\"line2d_25\">\n     <path d=\"M 52.78125 34.976562 \nL 62.78125 34.976562 \nL 72.78125 34.976562 \n\" style=\"fill: none; stroke-dasharray: 5.55,2.4; stroke-dashoffset: 0; stroke: #bf00bf; stroke-width: 1.5\"/>\n    </g>\n    <g id=\"text_14\">\n     <!-- style -->\n     <g transform=\"translate(80.78125 38.476562)scale(0.1 -0.1)\">\n      <defs>\n       <path id=\"DejaVuSans-79\" d=\"M 2059 -325 \nQ 1816 -950 1584 -1140 \nQ 1353 -1331 966 -1331 \nL 506 -1331 \nL 506 -850 \nL 844 -850 \nQ 1081 -850 1212 -737 \nQ 1344 -625 1503 -206 \nL 1606 56 \nL 191 3500 \nL 800 3500 \nL 1894 763 \nL 2988 3500 \nL 3597 3500 \nL 2059 -325 \nz\n\" transform=\"scale(0.015625)\"/>\n      </defs>\n      <use xlink:href=\"#DejaVuSans-73\"/>\n      <use xlink:href=\"#DejaVuSans-74\" x=\"52.099609\"/>\n      <use xlink:href=\"#DejaVuSans-79\" x=\"91.308594\"/>\n      <use xlink:href=\"#DejaVuSans-6c\" x=\"150.488281\"/>\n      <use xlink:href=\"#DejaVuSans-65\" x=\"178.271484\"/>\n     </g>\n    </g>\n    <g id=\"line2d_26\">\n     <path d=\"M 52.78125 49.654688 \nL 62.78125 49.654688 \nL 72.78125 49.654688 \n\" style=\"fill: none; stroke-dasharray: 9.6,2.4,1.5,2.4; stroke-dashoffset: 0; stroke: #008000; stroke-width: 1.5\"/>\n    </g>\n    <g id=\"text_15\">\n     <!-- TV -->\n     <g transform=\"translate(80.78125 53.154688)scale(0.1 -0.1)\">\n      <defs>\n       <path id=\"DejaVuSans-54\" d=\"M -19 4666 \nL 3928 4666 \nL 3928 4134 \nL 2272 4134 \nL 2272 0 \nL 1638 0 \nL 1638 4134 \nL -19 4134 \nL -19 4666 \nz\n\" transform=\"scale(0.015625)\"/>\n       <path id=\"DejaVuSans-56\" d=\"M 1831 0 \nL 50 4666 \nL 709 4666 \nL 2188 738 \nL 3669 4666 \nL 4325 4666 \nL 2547 0 \nL 1831 0 \nz\n\" transform=\"scale(0.015625)\"/>\n      </defs>\n      <use xlink:href=\"#DejaVuSans-54\"/>\n      <use xlink:href=\"#DejaVuSans-56\" x=\"61.083984\"/>\n     </g>\n    </g>\n   </g>\n  </g>\n  <g id=\"axes_2\">\n   <g id=\"patch_8\">\n    <path d=\"M 256.835795 125.084659 \nL 434.38125 125.084659 \nL 434.38125 25.215341 \nL 256.835795 25.215341 \nz\n\" style=\"fill: #ffffff\"/>\n   </g>\n   <g clip-path=\"url(#p82c63fcd8e)\">\n    <image xlink:href=\"data:image/png;base64,\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\" id=\"image372f1631fa\" transform=\"scale(1 -1)translate(0 -99)\" x=\"257\" y=\"-25.65625\" width=\"178\" height=\"99\"/>\n   </g>\n   <g id=\"matplotlib.axis_3\">\n    <g id=\"xtick_6\">\n     <g id=\"line2d_27\">\n      <g>\n       <use xlink:href=\"#me6dd36b4ae\" x=\"256.882031\" y=\"125.084659\" style=\"stroke: #000000; stroke-width: 0.8\"/>\n      </g>\n     </g>\n     <g id=\"text_16\">\n      <!-- 0 -->\n      <g transform=\"translate(253.700781 139.683097)scale(0.1 -0.1)\">\n       <use xlink:href=\"#DejaVuSans-30\"/>\n      </g>\n     </g>\n    </g>\n    <g id=\"xtick_7\">\n     <g id=\"line2d_28\">\n      <g>\n       <use xlink:href=\"#me6dd36b4ae\" x=\"303.117827\" y=\"125.084659\" style=\"stroke: #000000; stroke-width: 0.8\"/>\n      </g>\n     </g>\n     <g id=\"text_17\">\n      <!-- 500 -->\n      <g transform=\"translate(293.574077 139.683097)scale(0.1 -0.1)\">\n       <defs>\n        <path id=\"DejaVuSans-35\" d=\"M 691 4666 \nL 3169 4666 \nL 3169 4134 \nL 1269 4134 \nL 1269 2991 \nQ 1406 3038 1543 3061 \nQ 1681 3084 1819 3084 \nQ 2600 3084 3056 2656 \nQ 3513 2228 3513 1497 \nQ 3513 744 3044 326 \nQ 2575 -91 1722 -91 \nQ 1428 -91 1123 -41 \nQ 819 9 494 109 \nL 494 744 \nQ 775 591 1075 516 \nQ 1375 441 1709 441 \nQ 2250 441 2565 725 \nQ 2881 1009 2881 1497 \nQ 2881 1984 2565 2268 \nQ 2250 2553 1709 2553 \nQ 1456 2553 1204 2497 \nQ 953 2441 691 2322 \nL 691 4666 \nz\n\" transform=\"scale(0.015625)\"/>\n       </defs>\n       <use xlink:href=\"#DejaVuSans-35\"/>\n       <use xlink:href=\"#DejaVuSans-30\" x=\"63.623047\"/>\n       <use xlink:href=\"#DejaVuSans-30\" x=\"127.246094\"/>\n      </g>\n     </g>\n    </g>\n    <g id=\"xtick_8\">\n     <g id=\"line2d_29\">\n      <g>\n       <use xlink:href=\"#me6dd36b4ae\" x=\"349.353622\" y=\"125.084659\" style=\"stroke: #000000; stroke-width: 0.8\"/>\n      </g>\n     </g>\n     <g id=\"text_18\">\n      <!-- 1000 -->\n      <g transform=\"translate(336.628622 139.683097)scale(0.1 -0.1)\">\n       <use xlink:href=\"#DejaVuSans-31\"/>\n       <use xlink:href=\"#DejaVuSans-30\" x=\"63.623047\"/>\n       <use xlink:href=\"#DejaVuSans-30\" x=\"127.246094\"/>\n       <use xlink:href=\"#DejaVuSans-30\" x=\"190.869141\"/>\n      </g>\n     </g>\n    </g>\n    <g id=\"xtick_9\">\n     <g id=\"line2d_30\">\n      <g>\n       <use xlink:href=\"#me6dd36b4ae\" x=\"395.589418\" y=\"125.084659\" style=\"stroke: #000000; stroke-width: 0.8\"/>\n      </g>\n     </g>\n     <g id=\"text_19\">\n      <!-- 1500 -->\n      <g transform=\"translate(382.864418 139.683097)scale(0.1 -0.1)\">\n       <use xlink:href=\"#DejaVuSans-31\"/>\n       <use xlink:href=\"#DejaVuSans-35\" x=\"63.623047\"/>\n       <use xlink:href=\"#DejaVuSans-30\" x=\"127.246094\"/>\n       <use xlink:href=\"#DejaVuSans-30\" x=\"190.869141\"/>\n      </g>\n     </g>\n    </g>\n   </g>\n   <g id=\"matplotlib.axis_4\">\n    <g id=\"ytick_6\">\n     <g id=\"line2d_31\">\n      <g>\n       <use xlink:href=\"#m60c3a600ba\" x=\"256.835795\" y=\"25.261577\" style=\"stroke: #000000; stroke-width: 0.8\"/>\n      </g>\n     </g>\n     <g id=\"text_20\">\n      <!-- 0 -->\n      <g transform=\"translate(243.473295 29.060795)scale(0.1 -0.1)\">\n       <use xlink:href=\"#DejaVuSans-30\"/>\n      </g>\n     </g>\n    </g>\n    <g id=\"ytick_7\">\n     <g id=\"line2d_32\">\n      <g>\n       <use xlink:href=\"#m60c3a600ba\" x=\"256.835795\" y=\"71.497372\" style=\"stroke: #000000; stroke-width: 0.8\"/>\n      </g>\n     </g>\n     <g id=\"text_21\">\n      <!-- 500 -->\n      <g transform=\"translate(230.748295 75.296591)scale(0.1 -0.1)\">\n       <use xlink:href=\"#DejaVuSans-35\"/>\n       <use xlink:href=\"#DejaVuSans-30\" x=\"63.623047\"/>\n       <use xlink:href=\"#DejaVuSans-30\" x=\"127.246094\"/>\n      </g>\n     </g>\n    </g>\n    <g id=\"ytick_8\">\n     <g id=\"line2d_33\">\n      <g>\n       <use xlink:href=\"#m60c3a600ba\" x=\"256.835795\" y=\"117.733168\" style=\"stroke: #000000; stroke-width: 0.8\"/>\n      </g>\n     </g>\n     <g id=\"text_22\">\n      <!-- 1000 -->\n      <g transform=\"translate(224.385795 121.532386)scale(0.1 -0.1)\">\n       <use xlink:href=\"#DejaVuSans-31\"/>\n       <use xlink:href=\"#DejaVuSans-30\" x=\"63.623047\"/>\n       <use xlink:href=\"#DejaVuSans-30\" x=\"127.246094\"/>\n       <use xlink:href=\"#DejaVuSans-30\" x=\"190.869141\"/>\n      </g>\n     </g>\n    </g>\n   </g>\n   <g id=\"patch_9\">\n    <path d=\"M 256.835795 125.084659 \nL 256.835795 25.215341 \n\" style=\"fill: none; stroke: #000000; stroke-width: 0.8; stroke-linejoin: miter; stroke-linecap: square\"/>\n   </g>\n   <g id=\"patch_10\">\n    <path d=\"M 434.38125 125.084659 \nL 434.38125 25.215341 \n\" style=\"fill: none; stroke: #000000; stroke-width: 0.8; stroke-linejoin: miter; stroke-linecap: square\"/>\n   </g>\n   <g id=\"patch_11\">\n    <path d=\"M 256.835795 125.084659 \nL 434.38125 125.084659 \n\" style=\"fill: none; stroke: #000000; stroke-width: 0.8; stroke-linejoin: miter; stroke-linecap: square\"/>\n   </g>\n   <g id=\"patch_12\">\n    <path d=\"M 256.835795 25.215341 \nL 434.38125 25.215341 \n\" style=\"fill: none; stroke: #000000; stroke-width: 0.8; stroke-linejoin: miter; stroke-linecap: square\"/>\n   </g>\n  </g>\n </g>\n <defs>\n  <clipPath id=\"pf0d80039c6\">\n   <rect x=\"43.78125\" y=\"7.2\" width=\"177.545455\" height=\"135.9\"/>\n  </clipPath>\n  <clipPath id=\"p82c63fcd8e\">\n   <rect x=\"256.835795\" y=\"25.215341\" width=\"177.545455\" height=\"99.869318\"/>\n  </clipPath>\n </defs>\n</svg>\n"
          },
          "metadata": {
            "needs_background": "light"
          }
        }
      ]
    },
    {
      "cell_type": "code",
      "source": [
        "import imageio"
      ],
      "metadata": {
        "id": "3pyT5OjFs_yh"
      },
      "id": "3pyT5OjFs_yh",
      "execution_count": null,
      "outputs": []
    },
    {
      "cell_type": "code",
      "source": [
        "import os"
      ],
      "metadata": {
        "id": "MWY-owcZXdBX"
      },
      "id": "MWY-owcZXdBX",
      "execution_count": null,
      "outputs": []
    },
    {
      "cell_type": "code",
      "source": [
        "imgs_dir = 'imgs/'\n",
        "images = []\n",
        "for file_name in sorted(os.listdir(imgs_dir)):\n",
        "  if file_name.endswith('.jpg'):\n",
        "    file_path = os.path.join(imgs_dir, file_name)\n",
        "    images.append(imageio.imread(file_path))\n",
        "imageio.mimsave('style transfer landscape.gif', images, fps=30)"
      ],
      "metadata": {
        "id": "7g6IwR2gwJyU"
      },
      "id": "7g6IwR2gwJyU",
      "execution_count": null,
      "outputs": []
    },
    {
      "cell_type": "code",
      "source": [
        "del images"
      ],
      "metadata": {
        "id": "C70ncNMJCxcY"
      },
      "id": "C70ncNMJCxcY",
      "execution_count": null,
      "outputs": []
    },
    {
      "cell_type": "code",
      "source": [
        "imgss = os.listdir('imgs')"
      ],
      "metadata": {
        "id": "kSukwHigX1yq"
      },
      "id": "kSukwHigX1yq",
      "execution_count": null,
      "outputs": []
    },
    {
      "cell_type": "code",
      "source": [
        ""
      ],
      "metadata": {
        "id": "z4E8qDPpYQZB"
      },
      "id": "z4E8qDPpYQZB",
      "execution_count": null,
      "outputs": []
    },
    {
      "cell_type": "code",
      "source": [
        "imgss.sort(key=lambda f: int(re.sub('\\D', '', f)))"
      ],
      "metadata": {
        "id": "jvu8jpvTYGJ7"
      },
      "id": "jvu8jpvTYGJ7",
      "execution_count": null,
      "outputs": []
    },
    {
      "cell_type": "code",
      "source": [
        "import re\n",
        "# import os\n",
        "import cv2 \n",
        "from PIL import Image"
      ],
      "metadata": {
        "id": "UWlYenxQZLMN"
      },
      "id": "UWlYenxQZLMN",
      "execution_count": null,
      "outputs": []
    },
    {
      "cell_type": "code",
      "source": [
        "# Video Generating function\n",
        "def generate_video():\n",
        "    image_folder = 'imgs/' # make sure to use your folder\n",
        "    video_name = 'style transfer.avi'\n",
        "      \n",
        "    images = [img for img in os.listdir(image_folder)\n",
        "              if img.endswith(\".jpg\") or\n",
        "                 img.endswith(\".jpeg\") or\n",
        "                 img.endswith(\"png\")]\n",
        "     \n",
        "    # Array images should only consider\n",
        "    # the image files ignoring others if any\n",
        "    # print(images) \n",
        "\n",
        "    images.sort(key=lambda f: int(re.sub('\\D', '', f)))\n",
        "    frame = cv2.imread(os.path.join(image_folder, images[0]))\n",
        "  \n",
        "    # setting the frame width, height width\n",
        "    # the width, height of first image\n",
        "    height, width, layers = frame.shape  \n",
        "  \n",
        "    video = cv2.VideoWriter(video_name, 0, 60, (width, height)) \n",
        "  \n",
        "    # Appending the images to the video one by one\n",
        "    for image in images: \n",
        "        video.write(cv2.imread(os.path.join(image_folder, image))) \n",
        "      \n",
        "    # Deallocating memories taken for window creation\n",
        "    cv2.destroyAllWindows() \n",
        "    video.release()  # releasing the video generated\n",
        "generate_video()"
      ],
      "metadata": {
        "id": "TBQ3pGrGacNT"
      },
      "id": "TBQ3pGrGacNT",
      "execution_count": null,
      "outputs": []
    },
    {
      "cell_type": "code",
      "source": [
        "# denoise images\n",
        "import numpy as np\n",
        "import cv2\n",
        "import matplotlib.pyplot as plt"
      ],
      "metadata": {
        "id": "iD1di2iolcEe"
      },
      "id": "iD1di2iolcEe",
      "execution_count": null,
      "outputs": []
    },
    {
      "cell_type": "code",
      "source": [
        "!cp imgs/bigboy_landscape_0.jpg .\n",
        "!cp imgs/bigboy_landscape_10.jpg .\n",
        "!cp imgs/bigboy_landscape_50.jpg .\n",
        "!cp imgs/bigboy_landscape_100.jpg .\n",
        "!cp imgs/bigboy_landscape_500.jpg .\n",
        "!cp imgs/bigboy_landscape_1000.jpg .\n",
        "!cp imgs/bigboy_landscape_2000.jpg .\n",
        "!cp imgs/bigboy_landscape_3000.jpg .\n",
        "!cp imgs/bigboy_landscape_4000.jpg .\n",
        "!cp imgs/bigboy_landscape_5000.jpg .\n",
        "!cp imgs/bigboy_landscape_6000.jpg .\n",
        "!cp imgs/bigboy_landscape_7000.jpg .\n",
        "!cp imgs/bigboy_landscape_8000.jpg .\n",
        "!cp imgs/bigboy_landscape_9000.jpg .\n",
        "!cp imgs/bigboy_landscape_10000.jpg ."
      ],
      "metadata": {
        "id": "LatICcUPcQ6u"
      },
      "id": "LatICcUPcQ6u",
      "execution_count": null,
      "outputs": []
    },
    {
      "cell_type": "code",
      "source": [
        "!cp -r '/content/iter images/' '/content/drive/MyDrive/Style Transfer/train_res'"
      ],
      "metadata": {
        "id": "DHP-yNhrp6Cd"
      },
      "id": "DHP-yNhrp6Cd",
      "execution_count": null,
      "outputs": []
    },
    {
      "cell_type": "code",
      "source": [
        "imgs = [\n",
        "  \"bigboy_landscape_0.jpg\",\n",
        "  \"bigboy_landscape_10.jpg\",\n",
        "  \"bigboy_landscape_50.jpg\",\n",
        "  \"bigboy_landscape_100.jpg\",\n",
        "  \"bigboy_landscape_500.jpg\",\n",
        "  \"bigboy_landscape_1000.jpg\",\n",
        "  \"bigboy_landscape_2000.jpg\",\n",
        "  \"bigboy_landscape_3000.jpg\",\n",
        "  \"bigboy_landscape_4000.jpg\",\n",
        "  \"bigboy_landscape_5000.jpg\",\n",
        "  \"bigboy_landscape_6000.jpg\",\n",
        "  \"bigboy_landscape_7000.jpg\",\n",
        "  \"bigboy_landscape_8000.jpg\",\n",
        "  \"bigboy_landscape_9000.jpg\",\n",
        "  \"bigboy_landscape_10000.jpg\",\n",
        "# 'style transfer landscape.gif',\n",
        "# 'style transfer.avi'\n",
        "]\n",
        "\n",
        "try:\n",
        "  os.mkdir('iter images')\n",
        "except:\n",
        "  pass\n",
        "\n",
        "for i in imgs:\n",
        "  os.rename(i, 'iter images/'+i)"
      ],
      "metadata": {
        "id": "FxTojWFZls6d"
      },
      "id": "FxTojWFZls6d",
      "execution_count": null,
      "outputs": []
    },
    {
      "cell_type": "code",
      "source": [
        "# !mv '/content/style transfer.avi' '/content/drive/MyDrive/Style Transfer/big boy landscape'\n",
        "!mv '/content/iter images' '/content/drive/MyDrive/Style Transfer/big boy landscape pix'\n",
        "# !zip -r /content/imgs.zip /content/imgs\n",
        "# from google.colab import files\n",
        "# files.download(\"/content/iter_images.zip\")"
      ],
      "metadata": {
        "id": "J8TPyOk1nPoK"
      },
      "id": "J8TPyOk1nPoK",
      "execution_count": null,
      "outputs": []
    },
    {
      "cell_type": "code",
      "source": [
        "images = []\n",
        "for i in imgss:\n",
        "  images.append(imageio.imread('imgs/'+i))\n",
        "imageio.mimsave('style transfer.gif', images, fps=30)"
      ],
      "metadata": {
        "id": "H_LsfxQ4CsKG"
      },
      "id": "H_LsfxQ4CsKG",
      "execution_count": null,
      "outputs": []
    },
    {
      "cell_type": "code",
      "source": [
        "!rm -rf imgs 'iter images'"
      ],
      "metadata": {
        "id": "tqVNsay8s5vw"
      },
      "id": "tqVNsay8s5vw",
      "execution_count": null,
      "outputs": []
    },
    {
      "cell_type": "code",
      "source": [
        "%reset"
      ],
      "metadata": {
        "colab": {
          "base_uri": "https://localhost:8080/"
        },
        "id": "aiSRphRXh94_",
        "outputId": "9e88a5de-1461-4f07-dd1a-9a3b9dcf91ab"
      },
      "id": "aiSRphRXh94_",
      "execution_count": null,
      "outputs": [
        {
          "name": "stdout",
          "output_type": "stream",
          "text": [
            "Once deleted, variables cannot be recovered. Proceed (y/[n])? y\n"
          ]
        }
      ]
    }
  ],
  "metadata": {
    "kernelspec": {
      "display_name": "Python 3 (ipykernel)",
      "language": "python",
      "name": "python3"
    },
    "language_info": {
      "codemirror_mode": {
        "name": "ipython",
        "version": 3
      },
      "file_extension": ".py",
      "mimetype": "text/x-python",
      "name": "python",
      "nbconvert_exporter": "python",
      "pygments_lexer": "ipython3",
      "version": "3.9.6"
    },
    "colab": {
      "name": "Style Transfer.ipynb",
      "provenance": [],
      "collapsed_sections": [],
      "include_colab_link": true
    },
    "gpuClass": "standard",
    "widgets": {
      "application/vnd.jupyter.widget-state+json": {
        "2e2f9e56704c4da0bcd529c83e2c9df7": {
          "model_module": "@jupyter-widgets/controls",
          "model_name": "HBoxModel",
          "model_module_version": "1.5.0",
          "state": {
            "_dom_classes": [],
            "_model_module": "@jupyter-widgets/controls",
            "_model_module_version": "1.5.0",
            "_model_name": "HBoxModel",
            "_view_count": null,
            "_view_module": "@jupyter-widgets/controls",
            "_view_module_version": "1.5.0",
            "_view_name": "HBoxView",
            "box_style": "",
            "children": [
              "IPY_MODEL_80e367367c7647b8a3450073132202e2",
              "IPY_MODEL_0eb7b32ad1964866935df1dfa0d7a898",
              "IPY_MODEL_7f3b3ca58f1f457f9ed223170fb24a61"
            ],
            "layout": "IPY_MODEL_f9be4776e64a47e6a1b72fbed7befbae"
          }
        },
        "80e367367c7647b8a3450073132202e2": {
          "model_module": "@jupyter-widgets/controls",
          "model_name": "HTMLModel",
          "model_module_version": "1.5.0",
          "state": {
            "_dom_classes": [],
            "_model_module": "@jupyter-widgets/controls",
            "_model_module_version": "1.5.0",
            "_model_name": "HTMLModel",
            "_view_count": null,
            "_view_module": "@jupyter-widgets/controls",
            "_view_module_version": "1.5.0",
            "_view_name": "HTMLView",
            "description": "",
            "description_tooltip": null,
            "layout": "IPY_MODEL_9fffce87da3e4d80a54002312909627a",
            "placeholder": "​",
            "style": "IPY_MODEL_9bd8d6d8ea0b47a6a82b17bdb6ccf335",
            "value": "100%"
          }
        },
        "0eb7b32ad1964866935df1dfa0d7a898": {
          "model_module": "@jupyter-widgets/controls",
          "model_name": "FloatProgressModel",
          "model_module_version": "1.5.0",
          "state": {
            "_dom_classes": [],
            "_model_module": "@jupyter-widgets/controls",
            "_model_module_version": "1.5.0",
            "_model_name": "FloatProgressModel",
            "_view_count": null,
            "_view_module": "@jupyter-widgets/controls",
            "_view_module_version": "1.5.0",
            "_view_name": "ProgressView",
            "bar_style": "success",
            "description": "",
            "description_tooltip": null,
            "layout": "IPY_MODEL_1ff6bb40fbd841ee9cc5a6d69233dadd",
            "max": 10001,
            "min": 0,
            "orientation": "horizontal",
            "style": "IPY_MODEL_835c0ff5150a4aef8a8bddfa746187c8",
            "value": 10001
          }
        },
        "7f3b3ca58f1f457f9ed223170fb24a61": {
          "model_module": "@jupyter-widgets/controls",
          "model_name": "HTMLModel",
          "model_module_version": "1.5.0",
          "state": {
            "_dom_classes": [],
            "_model_module": "@jupyter-widgets/controls",
            "_model_module_version": "1.5.0",
            "_model_name": "HTMLModel",
            "_view_count": null,
            "_view_module": "@jupyter-widgets/controls",
            "_view_module_version": "1.5.0",
            "_view_name": "HTMLView",
            "description": "",
            "description_tooltip": null,
            "layout": "IPY_MODEL_32c1a160bf6f4423bb8050f3d9dbf9a1",
            "placeholder": "​",
            "style": "IPY_MODEL_c55c1d84bec14200bb4d0465a28a36bf",
            "value": " 10001/10001 [2:45:26&lt;00:00,  2.02s/it]"
          }
        },
        "f9be4776e64a47e6a1b72fbed7befbae": {
          "model_module": "@jupyter-widgets/base",
          "model_name": "LayoutModel",
          "model_module_version": "1.2.0",
          "state": {
            "_model_module": "@jupyter-widgets/base",
            "_model_module_version": "1.2.0",
            "_model_name": "LayoutModel",
            "_view_count": null,
            "_view_module": "@jupyter-widgets/base",
            "_view_module_version": "1.2.0",
            "_view_name": "LayoutView",
            "align_content": null,
            "align_items": null,
            "align_self": null,
            "border": null,
            "bottom": null,
            "display": null,
            "flex": null,
            "flex_flow": null,
            "grid_area": null,
            "grid_auto_columns": null,
            "grid_auto_flow": null,
            "grid_auto_rows": null,
            "grid_column": null,
            "grid_gap": null,
            "grid_row": null,
            "grid_template_areas": null,
            "grid_template_columns": null,
            "grid_template_rows": null,
            "height": null,
            "justify_content": null,
            "justify_items": null,
            "left": null,
            "margin": null,
            "max_height": null,
            "max_width": null,
            "min_height": null,
            "min_width": null,
            "object_fit": null,
            "object_position": null,
            "order": null,
            "overflow": null,
            "overflow_x": null,
            "overflow_y": null,
            "padding": null,
            "right": null,
            "top": null,
            "visibility": null,
            "width": null
          }
        },
        "9fffce87da3e4d80a54002312909627a": {
          "model_module": "@jupyter-widgets/base",
          "model_name": "LayoutModel",
          "model_module_version": "1.2.0",
          "state": {
            "_model_module": "@jupyter-widgets/base",
            "_model_module_version": "1.2.0",
            "_model_name": "LayoutModel",
            "_view_count": null,
            "_view_module": "@jupyter-widgets/base",
            "_view_module_version": "1.2.0",
            "_view_name": "LayoutView",
            "align_content": null,
            "align_items": null,
            "align_self": null,
            "border": null,
            "bottom": null,
            "display": null,
            "flex": null,
            "flex_flow": null,
            "grid_area": null,
            "grid_auto_columns": null,
            "grid_auto_flow": null,
            "grid_auto_rows": null,
            "grid_column": null,
            "grid_gap": null,
            "grid_row": null,
            "grid_template_areas": null,
            "grid_template_columns": null,
            "grid_template_rows": null,
            "height": null,
            "justify_content": null,
            "justify_items": null,
            "left": null,
            "margin": null,
            "max_height": null,
            "max_width": null,
            "min_height": null,
            "min_width": null,
            "object_fit": null,
            "object_position": null,
            "order": null,
            "overflow": null,
            "overflow_x": null,
            "overflow_y": null,
            "padding": null,
            "right": null,
            "top": null,
            "visibility": null,
            "width": null
          }
        },
        "9bd8d6d8ea0b47a6a82b17bdb6ccf335": {
          "model_module": "@jupyter-widgets/controls",
          "model_name": "DescriptionStyleModel",
          "model_module_version": "1.5.0",
          "state": {
            "_model_module": "@jupyter-widgets/controls",
            "_model_module_version": "1.5.0",
            "_model_name": "DescriptionStyleModel",
            "_view_count": null,
            "_view_module": "@jupyter-widgets/base",
            "_view_module_version": "1.2.0",
            "_view_name": "StyleView",
            "description_width": ""
          }
        },
        "1ff6bb40fbd841ee9cc5a6d69233dadd": {
          "model_module": "@jupyter-widgets/base",
          "model_name": "LayoutModel",
          "model_module_version": "1.2.0",
          "state": {
            "_model_module": "@jupyter-widgets/base",
            "_model_module_version": "1.2.0",
            "_model_name": "LayoutModel",
            "_view_count": null,
            "_view_module": "@jupyter-widgets/base",
            "_view_module_version": "1.2.0",
            "_view_name": "LayoutView",
            "align_content": null,
            "align_items": null,
            "align_self": null,
            "border": null,
            "bottom": null,
            "display": null,
            "flex": null,
            "flex_flow": null,
            "grid_area": null,
            "grid_auto_columns": null,
            "grid_auto_flow": null,
            "grid_auto_rows": null,
            "grid_column": null,
            "grid_gap": null,
            "grid_row": null,
            "grid_template_areas": null,
            "grid_template_columns": null,
            "grid_template_rows": null,
            "height": null,
            "justify_content": null,
            "justify_items": null,
            "left": null,
            "margin": null,
            "max_height": null,
            "max_width": null,
            "min_height": null,
            "min_width": null,
            "object_fit": null,
            "object_position": null,
            "order": null,
            "overflow": null,
            "overflow_x": null,
            "overflow_y": null,
            "padding": null,
            "right": null,
            "top": null,
            "visibility": null,
            "width": null
          }
        },
        "835c0ff5150a4aef8a8bddfa746187c8": {
          "model_module": "@jupyter-widgets/controls",
          "model_name": "ProgressStyleModel",
          "model_module_version": "1.5.0",
          "state": {
            "_model_module": "@jupyter-widgets/controls",
            "_model_module_version": "1.5.0",
            "_model_name": "ProgressStyleModel",
            "_view_count": null,
            "_view_module": "@jupyter-widgets/base",
            "_view_module_version": "1.2.0",
            "_view_name": "StyleView",
            "bar_color": null,
            "description_width": ""
          }
        },
        "32c1a160bf6f4423bb8050f3d9dbf9a1": {
          "model_module": "@jupyter-widgets/base",
          "model_name": "LayoutModel",
          "model_module_version": "1.2.0",
          "state": {
            "_model_module": "@jupyter-widgets/base",
            "_model_module_version": "1.2.0",
            "_model_name": "LayoutModel",
            "_view_count": null,
            "_view_module": "@jupyter-widgets/base",
            "_view_module_version": "1.2.0",
            "_view_name": "LayoutView",
            "align_content": null,
            "align_items": null,
            "align_self": null,
            "border": null,
            "bottom": null,
            "display": null,
            "flex": null,
            "flex_flow": null,
            "grid_area": null,
            "grid_auto_columns": null,
            "grid_auto_flow": null,
            "grid_auto_rows": null,
            "grid_column": null,
            "grid_gap": null,
            "grid_row": null,
            "grid_template_areas": null,
            "grid_template_columns": null,
            "grid_template_rows": null,
            "height": null,
            "justify_content": null,
            "justify_items": null,
            "left": null,
            "margin": null,
            "max_height": null,
            "max_width": null,
            "min_height": null,
            "min_width": null,
            "object_fit": null,
            "object_position": null,
            "order": null,
            "overflow": null,
            "overflow_x": null,
            "overflow_y": null,
            "padding": null,
            "right": null,
            "top": null,
            "visibility": null,
            "width": null
          }
        },
        "c55c1d84bec14200bb4d0465a28a36bf": {
          "model_module": "@jupyter-widgets/controls",
          "model_name": "DescriptionStyleModel",
          "model_module_version": "1.5.0",
          "state": {
            "_model_module": "@jupyter-widgets/controls",
            "_model_module_version": "1.5.0",
            "_model_name": "DescriptionStyleModel",
            "_view_count": null,
            "_view_module": "@jupyter-widgets/base",
            "_view_module_version": "1.2.0",
            "_view_name": "StyleView",
            "description_width": ""
          }
        }
      }
    }
  },
  "nbformat": 4,
  "nbformat_minor": 5
}